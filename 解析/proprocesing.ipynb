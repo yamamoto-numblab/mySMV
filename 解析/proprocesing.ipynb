{
 "cells": [
  {
   "cell_type": "code",
   "execution_count": 2,
   "metadata": {},
   "outputs": [],
   "source": [
    "#import library\n",
    "import os\n",
    "import numpy as np\n",
    "import scipy.io\n",
    "import pandas as pd\n",
    "from scipy import signal\n",
    "from sklearn.model_selection import train_test_split\n",
    "from sklearn.svm import SVC\n",
    "from sklearn.model_selection import GridSearchCV\n",
    "from sklearn.metrics import classification_report\n",
    "import matplotlib.pyplot as plt\n"
   ]
  },
  {
   "cell_type": "code",
   "execution_count": 3,
   "metadata": {},
   "outputs": [
    {
     "name": "stdout",
     "output_type": "stream",
     "text": [
      "(64,)\n"
     ]
    }
   ],
   "source": [
    "filePath = '/Users/yamamotokouhei/subjectsData/braindata20221003'\n",
    "brainAdress = ['Fp1','AF7','AF3','F1','F3','F5','F7','FT7','FC5',\n",
    "'FC3','FC1','C1','C3','C5','T7','TP7','CP5','CP3','CP1','P1','P3',\n",
    "'P5','P7','P9','PO7','PO3','O1','Iz','Oz','POz','Pz','CPz','Fpz','Fp2',\n",
    "'AF8','AF4','AFz','Fz','F2','F4','F6','F8','FT8','FC6','FC4','FC2',\n",
    "'FCz','Cz','C2','C4','C6','T8','TP8','CP6','CP4','CP2','P2','P4',\n",
    "'P6','P8','P10','PO8','PO4','O2']\n",
    "print(np.shape(brainAdress))"
   ]
  },
  {
   "cell_type": "code",
   "execution_count": 4,
   "metadata": {},
   "outputs": [],
   "source": [
    "# dataクラス\n",
    "class O_Data:\n",
    "    def __init__(self, eeg, index, label):\n",
    "        self.eeg = eeg\n",
    "        self.index = index\n",
    "        self.label = label\n",
    "        self.stack = []\n",
    "\n",
    "    def push(self, item):\n",
    "        self.stack.append(item)\n",
    "\n",
    "o_data65_label1 = list()#label1のデータ\n",
    "o_data65_label2 = list()#label2のデータ\n",
    "o_data = list()\n",
    "label_data = list()#labelを結合したデータ\n",
    "task1_data = list()\n",
    "task2_data = list()\n",
    "\n",
    "All_data = list()  # 全データを結合\n",
    "\n",
    "def Standardization(data): #標準化\n",
    "    after_data = scipy.stats.zscore(data)\n",
    "    b = np.average(after_data)\n",
    "    c = np.var(after_data)\n",
    "    return after_data"
   ]
  },
  {
   "cell_type": "code",
   "execution_count": 5,
   "metadata": {},
   "outputs": [
    {
     "name": "stdout",
     "output_type": "stream",
     "text": [
      "Filelist\n",
      "[' EEG_grasping_03-Oct-2022_sub1-1.mat', ' EEG_grasping_03-Oct-2022_sub1-2.mat', ' EEG_grasping_03-Oct-2022_sub1-3.mat', ' EEG_grasping_03-Oct-2022_sub2-1.mat', ' EEG_grasping_03-Oct-2022_sub2-2.mat', ' EEG_grasping_03-Oct-2022_sub2-3.mat', ' EEG_grasping_03-Oct-2022_sub3-2.mat', ' EEG_grasping_03-Oct-2022_sub3-3.mat', ' EEG_grasping_03-Oct-2022_sub4-1.mat', ' EEG_grasping_03-Oct-2022_sub4-2.mat', ' EEG_grasping_03-Oct-2022_sub4-3.mat', 'EEG_grasping_03-Oct-2022_sub3-1.mat']\n"
     ]
    }
   ],
   "source": [
    "file_name = list()  # すべての.matファイルの名前\n",
    "for file in os.listdir(filePath):\n",
    "    base, ext = os.path.splitext(file)\n",
    "    if ext == '.mat':\n",
    "        file_name = sorted(file_name)\n",
    "        file_name.append(file)\n",
    "print('Filelist')\n",
    "print(file_name)"
   ]
  },
  {
   "cell_type": "code",
   "execution_count": 13,
   "metadata": {},
   "outputs": [
    {
     "name": "stdout",
     "output_type": "stream",
     "text": [
      "data_loading\n",
      "(64, 12320)\n",
      "(64, 12321)\n"
     ]
    }
   ],
   "source": [
    "#label1の設定\n",
    "file_name1 = [file_name[0],file_name[1],file_name[2]]\n",
    "file_num1 = len(file_name1)\n",
    "#label2の設定\n",
    "file_name2 = [file_name[3],file_name[4],file_name[5]]\n",
    "file_num2 = len(file_name2)\n",
    "# 変数など\n",
    "trial_num = 30\n",
    "all_trial = len(file_name1)+len(file_name2) * trial_num\n",
    "all_d = 0\n",
    "CH = 64\n",
    "#label1を読み込む\n",
    "for s in range(file_num1):\n",
    "    Dictionary = scipy.io.loadmat(filePath+\"/\"+file_name1[s])\n",
    "    for t in range(trial_num):\n",
    "        for i, key in enumerate(Dictionary.keys()):\n",
    "            if i > 2:\n",
    "                a = Dictionary[key]\n",
    "                b = a[0, t][0][0]\n",
    "                eeg = b[0][0:64, :]\n",
    "                index = b[1]\n",
    "                samplerate = b[2]\n",
    "                label = 1\n",
    "                o_data = O_Data(eeg, index, label)\n",
    "                o_data65_label1.append(o_data)\n",
    "#label2を読み込む\n",
    "for s in range(file_num2):\n",
    "    Dictionary = scipy.io.loadmat(filePath+\"/\"+file_name2[s])\n",
    "    for t in range(trial_num):\n",
    "        for i, key in enumerate(Dictionary.keys()):\n",
    "            if i > 2:\n",
    "                a = Dictionary[key]\n",
    "                b = a[0, t][0][0]\n",
    "                eeg = b[0][0:64, :]\n",
    "                index = b[1]\n",
    "                samplerate = b[2]\n",
    "                label = 2\n",
    "                o_data = O_Data(eeg, index, label)\n",
    "                o_data65_label2.append(o_data)\n",
    "print(\"data_loading\")\n",
    "print(np.shape(o_data65_label1[1].eeg))\n",
    "print(np.shape(o_data65_label2[1].eeg))"
   ]
  },
  {
   "cell_type": "code",
   "execution_count": null,
   "metadata": {},
   "outputs": [],
   "source": [
    "for n in range(len(file_name1)*trial_num):  # all_trial\n",
    "    o_data65_label1[1].eeg\n",
    "    o_data65_label1[1].eeg"
   ]
  },
  {
   "cell_type": "markdown",
   "metadata": {},
   "source": []
  },
  {
   "cell_type": "code",
   "execution_count": 16,
   "metadata": {},
   "outputs": [
    {
     "data": {
      "text/plain": [
       "list"
      ]
     },
     "execution_count": 16,
     "metadata": {},
     "output_type": "execute_result"
    }
   ],
   "source": [
    "type(o_data65_label1)"
   ]
  },
  {
   "cell_type": "code",
   "execution_count": 7,
   "metadata": {},
   "outputs": [
    {
     "name": "stdout",
     "output_type": "stream",
     "text": [
      "(64, 12000)\n"
     ]
    }
   ],
   "source": [
    "#chごとの加算平均を求める\n",
    "ave_task1 = list()\n",
    "dim_columns = 64\n",
    "dim_rows = 12000\n",
    "output = np.full((dim_columns,dim_rows), 0,dtype=np.float64)\n",
    "print(np.shape(output))\n",
    "#labelごとのデータを可視化\n",
    "for n in range(len(file_name1)*trial_num):  # all_trial\n",
    "    eeg_label1 = np.array(o_data65_label1[n].eeg,dtype=np.float64)  # トライアルnのeeg\n",
    "    index_label1 = o_data65_label1[n].index  # トライアルnのindex\n",
    "    rowsize = len(index_label1)\n",
    "    label1 = o_data65_label1[n].label  # トライアルnのlabel\n",
    "    output += eeg_label1[0:64,0:12000]\n",
    "output = output/(len(file_name1)*trial_num)"
   ]
  },
  {
   "cell_type": "markdown",
   "metadata": {},
   "source": []
  },
  {
   "cell_type": "code",
   "execution_count": 8,
   "metadata": {},
   "outputs": [
    {
     "name": "stdout",
     "output_type": "stream",
     "text": [
      "(64, 12000)\n"
     ]
    }
   ],
   "source": [
    "#chごとの加算平均を求める\n",
    "ave_task2 = list()\n",
    "dim_columns = 64\n",
    "dim_rows = 12000\n",
    "output1 = np.full((dim_columns,dim_rows), 0,dtype=np.float64)\n",
    "print(np.shape(output1))\n",
    "#labelごとのデータを可視化\n",
    "for n in range(len(file_name2)*trial_num):  # all_trial\n",
    "    eeg_label2 = np.array(o_data65_label2[n].eeg,dtype=np.float64)  # トライアルnのeeg\n",
    "    index_label2 = o_data65_label2[n].index  # トライアルnのindex\n",
    "    rowsize = len(index_label2)\n",
    "    label2 = o_data65_label2[n].label  # トライアルnのlabel\n",
    "    output1 += eeg_label2[0:64,0:12000]\n",
    "output1 = output1/(len(file_name2)*trial_num)\n"
   ]
  },
  {
   "cell_type": "code",
   "execution_count": 9,
   "metadata": {},
   "outputs": [],
   "source": [
    "#各データから全体の平均を引くcommon average referance\n",
    "data1 = list()\n",
    "data2 = list()\n",
    "np.shape(output)\n",
    "output_all1 = 0\n",
    "output_all2 = 0\n",
    "for i in range(64):\n",
    "    output_all1 += output[i]\n",
    "    output_all2 += output1[i]\n",
    "output_all1 = output_all1/64\n",
    "output_all2 = output_all2/64\n",
    "for j in range(64):\n",
    "    output[j] = output[j] - output_all1\n",
    "    output1[j] = output1[j] - output_all2\n",
    "    data1.append(output[j])\n",
    "    data2.append(output1[j])"
   ]
  },
  {
   "cell_type": "code",
   "execution_count": 10,
   "metadata": {},
   "outputs": [],
   "source": [
    "for n in range(64):  # all_channel\n",
    "    dt = 1/1024\n",
    "    filter3 = signal.firwin(numtaps=51, cutoff=[5, 50], fs=1024, pass_zero=False)\n",
    "    y1 = signal.lfilter(filter3, 1, output[n])\n",
    "    y2 = signal.lfilter(filter3, 1, output1[n])\n",
    "    outStandard1 = Standardization(y1[7000:])\n",
    "    outStandard2 = Standardization(y2[7000:])\n",
    "    F1 = np.fft.fft(outStandard1)\n",
    "    F2 = np.fft.fft(outStandard2)\n",
    "    N = 12000\n",
    "    dt = 1/1024\n",
    "    t = np.arange(0, N*dt, dt) # 時間軸\n",
    "    # plt.title(brainAdress[n])\n",
    "    # plt.plot(outStandard1,label= 'task1')\n",
    "    # plt.plot(outStandard2,label= 'task2')\n",
    "    # plt.xlabel(\"time[ms]\")\n",
    "    # plt.ylabel(\"--\")\n",
    "    # plt.legend()\n",
    "    # plt.show()\n",
    "    \n",
    "    freq = np.fft.fftfreq(N,d=dt) # 周波数軸\n",
    "    # 振幅スペクトルを計算\n",
    "    amplitude1 = np.abs(F1)\n",
    "    amplitude2 = np.abs(F2)\n",
    "    F_amplitude1 = amplitude1 / N * 2\n",
    "    F_amplitude1[0] = F_amplitude1[0] / 2\n",
    "    F_amplitude2 = amplitude2 / N * 2\n",
    "    F_amplitude2[0] = F_amplitude2[0] / 2\n",
    "\n",
    "    # plt.title(brainAdress[n])\n",
    "    # plt.plot(freq[94:153], F_amplitude1[94:153],label= 'moving slow')\n",
    "    # plt.plot(freq[94:153], F_amplitude2[94:153],label= 'moving fast')\n",
    "    # plt.xlabel(\"freq[Hz]\")\n",
    "    # plt.ylabel(\"Power[-]\")\n",
    "    # plt.legend()\n",
    "    # plt.show()\n"
   ]
  },
  {
   "cell_type": "code",
   "execution_count": null,
   "metadata": {},
   "outputs": [],
   "source": []
  }
 ],
 "metadata": {
  "kernelspec": {
   "display_name": "Python 3.9.7 ('base')",
   "language": "python",
   "name": "python3"
  },
  "language_info": {
   "codemirror_mode": {
    "name": "ipython",
    "version": 3
   },
   "file_extension": ".py",
   "mimetype": "text/x-python",
   "name": "python",
   "nbconvert_exporter": "python",
   "pygments_lexer": "ipython3",
   "version": "3.9.7"
  },
  "orig_nbformat": 4,
  "vscode": {
   "interpreter": {
    "hash": "3067ead486e059ec00ffe7555bdb889e6e264a24dc711bf108106cc7baee8d5d"
   }
  }
 },
 "nbformat": 4,
 "nbformat_minor": 2
}
