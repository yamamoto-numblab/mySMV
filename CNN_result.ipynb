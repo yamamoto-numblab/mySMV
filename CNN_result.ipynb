{
 "cells": [
  {
   "cell_type": "code",
   "execution_count": 117,
   "metadata": {},
   "outputs": [],
   "source": [
    "import numpy as np\n",
    "import torch\n",
    "import torch.nn as nn\n",
    "import torch.nn.functional as f\n",
    "import torchvision\n",
    "import torchvision.transforms as transforms\n",
    "import torch.optim as optim\n",
    "import torch.nn.functional as F\n",
    "from torch.utils.data import DataLoader\n",
    "from torch.utils.data import TensorDataset\n",
    "from torchsummary import summary\n",
    "import os, time\n",
    "import matplotlib.pyplot as plt\n",
    "from sklearn.model_selection import train_test_split\n"
   ]
  },
  {
   "cell_type": "code",
   "execution_count": 118,
   "metadata": {},
   "outputs": [
    {
     "data": {
      "text/plain": [
       "'cuda:0'"
      ]
     },
     "execution_count": 118,
     "metadata": {},
     "output_type": "execute_result"
    }
   ],
   "source": [
    "device = 'cuda:0' if torch.cuda.is_available() else 'cpu'\n",
    "device"
   ]
  },
  {
   "cell_type": "code",
   "execution_count": 119,
   "metadata": {},
   "outputs": [],
   "source": [
    "brainAdress = ['Fp1','AF7','AF3','F1','F3','F5','F7','FT7','FC5',\n",
    "'FC3','FC1','C1','C3','C5','T7','TP7','CP5','CP3','CP1','P1','P3',\n",
    "'P5','P7','P9','PO7','PO3','O1','Iz','Oz','POz','Pz','CPz','Fpz','Fp2',\n",
    "'AF8','AF4','AFz','Fz','F2','F4','F6','F8','FT8','FC6','FC4','FC2',\n",
    "'FCz','Cz','C2','C4','C6','T8','TP8','CP6','CP4','CP2','P2','P4',\n",
    "'P6','P8','P10','PO8','PO4','O2']"
   ]
  },
  {
   "cell_type": "markdown",
   "metadata": {},
   "source": [
    "numpy dataの読み込み"
   ]
  },
  {
   "cell_type": "code",
   "execution_count": 120,
   "metadata": {},
   "outputs": [],
   "source": [
    "day1_data = np.load('numpy_data/subject3_data1.npy')\n",
    "day1_label = np.load('numpy_data/subject3_label1.npy')\n",
    "day2_data = np.load('numpy_data/subject3_data2.npy')\n",
    "day2_label = np.load('numpy_data/subject3_label2.npy')"
   ]
  },
  {
   "cell_type": "markdown",
   "metadata": {},
   "source": [
    "データの結合"
   ]
  },
  {
   "cell_type": "code",
   "execution_count": 121,
   "metadata": {},
   "outputs": [],
   "source": [
    "brain_data = np.vstack([day1_data,day2_data])\n",
    "label_data = np.hstack([day1_label,day2_label])\n",
    "# info_motorbrain = ['FC3','FC1','C1','C3','C5','CP3','CP1','CPz','FC4','FC2',\n",
    "# 'FCz','Cz','C2','C4','C6','CP4','CP2',]\n",
    "# info_motor = mne.create_info(ch_names=info_motorbrain, ch_types=\"eeg\", sfreq=1024)\n",
    "# info_motor.set_montage('standard_1020')"
   ]
  },
  {
   "cell_type": "code",
   "execution_count": 122,
   "metadata": {},
   "outputs": [],
   "source": [
    "#運動野領域のデータ　sampling rate は1024->100 Hz タスクは4秒間\n",
    "motor_brainAdress = [9,10,11,12,13,17,18,31,44,45,46,47,48,49,50,54,55]\n",
    "data_numpy_task  = brain_data[:,:,100*6:100*10]"
   ]
  },
  {
   "cell_type": "code",
   "execution_count": 123,
   "metadata": {},
   "outputs": [
    {
     "name": "stdout",
     "output_type": "stream",
     "text": [
      "brain_data (240, 64, 400)\n",
      "label (240,)\n"
     ]
    }
   ],
   "source": [
    "print(\"brain_data\",np.shape(data_numpy_task))\n",
    "print(\"label\",np.shape(label_data))"
   ]
  },
  {
   "cell_type": "code",
   "execution_count": 124,
   "metadata": {},
   "outputs": [
    {
     "name": "stdout",
     "output_type": "stream",
     "text": [
      "(192, 64, 400)\n"
     ]
    }
   ],
   "source": [
    "#train testの分割\n",
    "X_train, X_test, Y_train, Y_test = train_test_split(data_numpy_task,label_data, test_size=0.2,random_state=42)\n",
    "print(np.shape(X_train))"
   ]
  },
  {
   "cell_type": "code",
   "execution_count": 125,
   "metadata": {},
   "outputs": [],
   "source": [
    "x_train = torch.from_numpy(np.expand_dims(X_train, axis=1))\n",
    "X_test = torch.from_numpy(np.expand_dims(X_test, axis=1))\n",
    "label = torch.tensor(Y_train)\n",
    "label2 = torch.tensor(Y_test)\n",
    "\n"
   ]
  },
  {
   "cell_type": "code",
   "execution_count": 126,
   "metadata": {},
   "outputs": [
    {
     "name": "stdout",
     "output_type": "stream",
     "text": [
      "torch.Size([192, 1, 64, 400]) torch.Size([192])\n",
      "torch.Size([48, 1, 64, 400]) torch.Size([48])\n"
     ]
    }
   ],
   "source": [
    "print(x_train.shape, label.shape)\n",
    "print(X_test.shape, label2.shape)"
   ]
  },
  {
   "cell_type": "code",
   "execution_count": 127,
   "metadata": {},
   "outputs": [],
   "source": [
    "# Datasetを作成\n",
    "Dataset = torch.utils.data.TensorDataset(x_train, label)\n",
    "# Datasetを作成\n",
    "tast_data = torch.utils.data.TensorDataset(X_test, label2)"
   ]
  },
  {
   "cell_type": "code",
   "execution_count": 128,
   "metadata": {},
   "outputs": [],
   "source": [
    "BATCH_SIZE = 32\n",
    "Learning_Rate = 0.001\n",
    "EPOCHS = 500"
   ]
  },
  {
   "cell_type": "code",
   "execution_count": 129,
   "metadata": {},
   "outputs": [],
   "source": [
    "trainloader = torch.utils.data.DataLoader(Dataset, batch_size = BATCH_SIZE, shuffle = True, num_workers = 1)\n",
    "testloader = torch.utils.data.DataLoader(tast_data, batch_size = BATCH_SIZE, shuffle = False, num_workers = 1)\n"
   ]
  },
  {
   "cell_type": "code",
   "execution_count": 130,
   "metadata": {},
   "outputs": [],
   "source": [
    "class EEGNet(nn.Module):\n",
    "    def __init__(self):\n",
    "        super(EEGNet, self).__init__()\n",
    "\n",
    "        self.F1 = 8\n",
    "        self.F2 = 16\n",
    "        self.D = 2\n",
    "        \n",
    "        # Conv2d(in,out,kernel,stride,padding,bias)\n",
    "        self.conv1 = nn.Sequential(\n",
    "            nn.Conv2d(1, self.F1, (1, 64), padding=(0, 32), bias=False),\n",
    "            nn.BatchNorm2d(self.F1)\n",
    "        )\n",
    "        \n",
    "        self.conv2 = nn.Sequential(\n",
    "            nn.Conv2d(self.F1, self.D*self.F1, (17, 1), groups=self.F1, bias=False),\n",
    "            nn.BatchNorm2d(self.D*self.F1),\n",
    "            nn.ELU(),\n",
    "            nn.AvgPool2d((1, 4)),\n",
    "            nn.Dropout(0.5)\n",
    "        )\n",
    "        self.Conv3 = nn.Sequential(\n",
    "            nn.Conv2d(self.D*self.F1, self.D*self.F1, (1, 16), padding=(0, 8), groups=self.D*self.F1, bias=False),\n",
    "            nn.Conv2d(self.D*self.F1, self.F2, (1, 1), bias=False),\n",
    "            nn.BatchNorm2d(self.F2),\n",
    "            nn.ELU(),\n",
    "            nn.AvgPool2d((1, 8)),\n",
    "            nn.Dropout(0.5)\n",
    "        )\n",
    "        \n",
    "        self.classifier = nn.Linear(16*17, 1, bias=True)\n",
    "        \n",
    "    def forward(self, x):\n",
    "        \n",
    "        x = self.conv1(x)\n",
    "        x = self.conv2(x)\n",
    "        x = self.Conv3(x)\n",
    "        \n",
    "        x = x.view(-1, 16*17)\n",
    "        x = self.classifier(x)\n",
    "        return x"
   ]
  },
  {
   "cell_type": "code",
   "execution_count": 131,
   "metadata": {},
   "outputs": [],
   "source": [
    "class Model(object):\n",
    "    def __init__(self, model=None, lr=0.001):\n",
    "        super(Model, self).__init__()\n",
    "        self.model = model\n",
    "        self.losses = nn.CrossEntropyLoss()\n",
    "        self.optimizer = optim.Adam(model.parameters(), lr=lr)\n",
    "        \n",
    "    def fit(self, trainloader=None, validloader=None, epochs=1, monitor=None, only_print_finish_ep_num=False):\n",
    "        doValid = False if validloader == None else True\n",
    "        pre_ck_point = [float(\"inf\"), 0.0, float(\"inf\"), 0.0, 0] # loss, acc, val_loss, val_acc, epoch\n",
    "        history = {\"loss\": [], \"acc\": [], \"val_loss\": [], \"val_acc\": []}\n",
    "        for ep in range(1, epochs + 1):\n",
    "            proc_start = time.time() # timer start\n",
    "            if (not (ep % 10)) or (ep == 1):\n",
    "                if not only_print_finish_ep_num:\n",
    "                    print(f\"Epoch {ep}/{epochs}\")\n",
    "            self.model.train()       # Train mode\n",
    "            step = 1                 # Restart step\n",
    "            for x_batch, y_batch in trainloader:\n",
    "                x_batch, y_batch = x_batch.to(device, dtype=torch.float), y_batch.to(device)\n",
    "                pred = self.model(x_batch)\n",
    "                loss = self.losses(pred, y_batch)\n",
    "                loss.backward()\n",
    "                self.optimizer.step()\n",
    "                self.optimizer.zero_grad()\n",
    "                if (not (ep % 10)) or (ep == 1):\n",
    "                    pbar = int(step * 30 / len(trainloader))\n",
    "                    if not only_print_finish_ep_num:\n",
    "                        print(\"\\r{}/{} [{}{}]\".format(\n",
    "                            step, len(trainloader), \">\" * pbar, \" \" * (30 - pbar)), \n",
    "                            end=\"\")\n",
    "                step += 1\n",
    "            loss, acc = self.evaluate(trainloader)   # Loss & Accuracy\n",
    "            val_loss, val_acc = self.evaluate(validloader) if doValid else (0, 0)   # if have validation dataset, evaluate validation\n",
    "            history[\"loss\"] = np.append(history[\"loss\"], loss)\n",
    "            history[\"acc\"] = np.append(history[\"acc\"], acc)\n",
    "            history[\"val_loss\"] = np.append(history[\"val_loss\"], val_loss)\n",
    "            history[\"val_acc\"] = np.append(history[\"val_acc\"], val_acc)\n",
    "            # Update checkpoint\n",
    "            if self.__updateCheckpoint(monitor, pre_ck_point, [loss, acc, val_loss, val_acc, ep]):\n",
    "                save_file_name = f\"checkpoint_model_ep-{ep}.pt\"\n",
    "                self.save(save_file_name)\n",
    "                pre_ck_point = [loss, acc, val_loss, val_acc, ep]\n",
    "                history['lastest_model_path'] = save_file_name\n",
    "                \n",
    "            if only_print_finish_ep_num and (ep % 50 == 0):\n",
    "                print(f\"{ep} \", end=\" \")\n",
    "        return history\n",
    "    def evaluate(self, dataloader):\n",
    "        total, acc = 0, 0\n",
    "        self.model.eval()           # Eval mode\n",
    "        for x_batch, y_batch in dataloader:\n",
    "            x_batch, y_batch = x_batch.to(device, dtype=torch.float), y_batch.to(device)\n",
    "            pred = self.model(x_batch)\n",
    "            loss = self.losses(pred, y_batch).item()\n",
    "            total += y_batch.shape[0]     # Number of data\n",
    "            acc += (torch.sum(pred.argmax(dim=1)==y_batch)).item()     # Sum the prediction that's correct\n",
    "        acc /= total     # Accuracy = correct prediction / number of data\n",
    "        return (loss, acc)\n",
    "    \n",
    "    def predict(self, dataset):\n",
    "        dataloader = DataLoader(dataset=dataset, batch_size=1, shuffle=False)\n",
    "        prediction = []\n",
    "        truth = []\n",
    "        self.model.eval()\n",
    "        for x_batch, y_batch in dataloader:\n",
    "            x_batch, y_batch = x_batch.to(device, dtype=torch.float), y_batch.to(device)\n",
    "            pred = self.model(x_batch).cpu()\n",
    "            prediction = np.append(prediction, pred.argmax(dim=1).numpy())\n",
    "            truth = np.append(truth, y_batch.cpu().numpy())            \n",
    "        return prediction, truth\n",
    "    \n",
    "    def save(self, filepath):\n",
    "        torch.save(self.model, filepath)\n",
    "        #@classmethod\n",
    "    def load(cls, filepath):\n",
    "        return cls(torch.load(filepath))\n",
    "    \n",
    "    def __updateCheckpoint(self, monitor, pre_ck_point, evaluation):\n",
    "        if type(monitor) is int:\n",
    "            return True if evaluation[4] % monitor == 0 else False\n",
    "        elif type(monitor) is list:\n",
    "            for _ in monitor:\n",
    "                if not _ in [\"loss\", \"acc\", \"val_loss\", \"val_acc\"]:\n",
    "                    raise Exception(f\"\\\"{_}\\\" is not a valid monitor condition.\")\n",
    "                elif _ == \"loss\" and pre_ck_point[0] <= evaluation[0]:\n",
    "                    return False # present epoch loss > history loss\n",
    "                elif _ == \"acc\" and pre_ck_point[1] >= evaluation[1]:\n",
    "                    return False # present epoch acc <= history acc\n",
    "                elif _ == \"val_loss\" and pre_ck_point[2] <= evaluation[2]:\n",
    "                    return False # present epoch val_loss > history val_loss\n",
    "                elif _ == \"val_acc\" and pre_ck_point[3] >= evaluation[3]:\n",
    "                    return False # present epoch val_acc < history val_acc        \n",
    "        return True"
   ]
  },
  {
   "cell_type": "code",
   "execution_count": 132,
   "metadata": {},
   "outputs": [
    {
     "name": "stdout",
     "output_type": "stream",
     "text": [
      "Epoch 1/500\n"
     ]
    },
    {
     "ename": "RuntimeError",
     "evalue": "shape '[-1, 272]' is invalid for input of size 294912",
     "output_type": "error",
     "traceback": [
      "\u001b[1;31m---------------------------------------------------------------------------\u001b[0m",
      "\u001b[1;31mRuntimeError\u001b[0m                              Traceback (most recent call last)",
      "\u001b[1;32mc:\\Users\\kyamamoto\\Documents\\GitHub\\mySMV\\CNN_result.ipynb セル 18\u001b[0m in \u001b[0;36m<cell line: 4>\u001b[1;34m()\u001b[0m\n\u001b[0;32m      <a href='vscode-notebook-cell:/c%3A/Users/kyamamoto/Documents/GitHub/mySMV/CNN_result.ipynb#X23sZmlsZQ%3D%3D?line=1'>2</a>\u001b[0m \u001b[39m#summary(eegnet, (1, 17, 400))\u001b[39;00m\n\u001b[0;32m      <a href='vscode-notebook-cell:/c%3A/Users/kyamamoto/Documents/GitHub/mySMV/CNN_result.ipynb#X23sZmlsZQ%3D%3D?line=2'>3</a>\u001b[0m model \u001b[39m=\u001b[39m Model(eegnet, lr\u001b[39m=\u001b[39mLearning_Rate)\n\u001b[1;32m----> <a href='vscode-notebook-cell:/c%3A/Users/kyamamoto/Documents/GitHub/mySMV/CNN_result.ipynb#X23sZmlsZQ%3D%3D?line=3'>4</a>\u001b[0m history \u001b[39m=\u001b[39m model\u001b[39m.\u001b[39;49mfit(trainloader\u001b[39m=\u001b[39;49mtrainloader, validloader\u001b[39m=\u001b[39;49mtestloader, epochs\u001b[39m=\u001b[39;49mEPOCHS, monitor\u001b[39m=\u001b[39;49m[\u001b[39m\"\u001b[39;49m\u001b[39macc\u001b[39;49m\u001b[39m\"\u001b[39;49m, \u001b[39m\"\u001b[39;49m\u001b[39mval_acc\u001b[39;49m\u001b[39m\"\u001b[39;49m])\n",
      "\u001b[1;32mc:\\Users\\kyamamoto\\Documents\\GitHub\\mySMV\\CNN_result.ipynb セル 18\u001b[0m in \u001b[0;36mModel.fit\u001b[1;34m(self, trainloader, validloader, epochs, monitor, only_print_finish_ep_num)\u001b[0m\n\u001b[0;32m     <a href='vscode-notebook-cell:/c%3A/Users/kyamamoto/Documents/GitHub/mySMV/CNN_result.ipynb#X23sZmlsZQ%3D%3D?line=18'>19</a>\u001b[0m \u001b[39mfor\u001b[39;00m x_batch, y_batch \u001b[39min\u001b[39;00m trainloader:\n\u001b[0;32m     <a href='vscode-notebook-cell:/c%3A/Users/kyamamoto/Documents/GitHub/mySMV/CNN_result.ipynb#X23sZmlsZQ%3D%3D?line=19'>20</a>\u001b[0m     x_batch, y_batch \u001b[39m=\u001b[39m x_batch\u001b[39m.\u001b[39mto(device, dtype\u001b[39m=\u001b[39mtorch\u001b[39m.\u001b[39mfloat), y_batch\u001b[39m.\u001b[39mto(device)\n\u001b[1;32m---> <a href='vscode-notebook-cell:/c%3A/Users/kyamamoto/Documents/GitHub/mySMV/CNN_result.ipynb#X23sZmlsZQ%3D%3D?line=20'>21</a>\u001b[0m     pred \u001b[39m=\u001b[39m \u001b[39mself\u001b[39;49m\u001b[39m.\u001b[39;49mmodel(x_batch)\n\u001b[0;32m     <a href='vscode-notebook-cell:/c%3A/Users/kyamamoto/Documents/GitHub/mySMV/CNN_result.ipynb#X23sZmlsZQ%3D%3D?line=21'>22</a>\u001b[0m     loss \u001b[39m=\u001b[39m \u001b[39mself\u001b[39m\u001b[39m.\u001b[39mlosses(pred, y_batch)\n\u001b[0;32m     <a href='vscode-notebook-cell:/c%3A/Users/kyamamoto/Documents/GitHub/mySMV/CNN_result.ipynb#X23sZmlsZQ%3D%3D?line=22'>23</a>\u001b[0m     loss\u001b[39m.\u001b[39mbackward()\n",
      "File \u001b[1;32mc:\\Users\\kyamamoto\\Anaconda3\\envs\\gpu_test\\lib\\site-packages\\torch\\nn\\modules\\module.py:1110\u001b[0m, in \u001b[0;36mModule._call_impl\u001b[1;34m(self, *input, **kwargs)\u001b[0m\n\u001b[0;32m   1106\u001b[0m \u001b[39m# If we don't have any hooks, we want to skip the rest of the logic in\u001b[39;00m\n\u001b[0;32m   1107\u001b[0m \u001b[39m# this function, and just call forward.\u001b[39;00m\n\u001b[0;32m   1108\u001b[0m \u001b[39mif\u001b[39;00m \u001b[39mnot\u001b[39;00m (\u001b[39mself\u001b[39m\u001b[39m.\u001b[39m_backward_hooks \u001b[39mor\u001b[39;00m \u001b[39mself\u001b[39m\u001b[39m.\u001b[39m_forward_hooks \u001b[39mor\u001b[39;00m \u001b[39mself\u001b[39m\u001b[39m.\u001b[39m_forward_pre_hooks \u001b[39mor\u001b[39;00m _global_backward_hooks\n\u001b[0;32m   1109\u001b[0m         \u001b[39mor\u001b[39;00m _global_forward_hooks \u001b[39mor\u001b[39;00m _global_forward_pre_hooks):\n\u001b[1;32m-> 1110\u001b[0m     \u001b[39mreturn\u001b[39;00m forward_call(\u001b[39m*\u001b[39m\u001b[39minput\u001b[39m, \u001b[39m*\u001b[39m\u001b[39m*\u001b[39mkwargs)\n\u001b[0;32m   1111\u001b[0m \u001b[39m# Do not call functions when jit is used\u001b[39;00m\n\u001b[0;32m   1112\u001b[0m full_backward_hooks, non_full_backward_hooks \u001b[39m=\u001b[39m [], []\n",
      "\u001b[1;32mc:\\Users\\kyamamoto\\Documents\\GitHub\\mySMV\\CNN_result.ipynb セル 18\u001b[0m in \u001b[0;36mEEGNet.forward\u001b[1;34m(self, x)\u001b[0m\n\u001b[0;32m     <a href='vscode-notebook-cell:/c%3A/Users/kyamamoto/Documents/GitHub/mySMV/CNN_result.ipynb#X23sZmlsZQ%3D%3D?line=35'>36</a>\u001b[0m x \u001b[39m=\u001b[39m \u001b[39mself\u001b[39m\u001b[39m.\u001b[39mconv2(x)\n\u001b[0;32m     <a href='vscode-notebook-cell:/c%3A/Users/kyamamoto/Documents/GitHub/mySMV/CNN_result.ipynb#X23sZmlsZQ%3D%3D?line=36'>37</a>\u001b[0m x \u001b[39m=\u001b[39m \u001b[39mself\u001b[39m\u001b[39m.\u001b[39mConv3(x)\n\u001b[1;32m---> <a href='vscode-notebook-cell:/c%3A/Users/kyamamoto/Documents/GitHub/mySMV/CNN_result.ipynb#X23sZmlsZQ%3D%3D?line=38'>39</a>\u001b[0m x \u001b[39m=\u001b[39m x\u001b[39m.\u001b[39;49mview(\u001b[39m-\u001b[39;49m\u001b[39m1\u001b[39;49m, \u001b[39m16\u001b[39;49m\u001b[39m*\u001b[39;49m\u001b[39m17\u001b[39;49m)\n\u001b[0;32m     <a href='vscode-notebook-cell:/c%3A/Users/kyamamoto/Documents/GitHub/mySMV/CNN_result.ipynb#X23sZmlsZQ%3D%3D?line=39'>40</a>\u001b[0m x \u001b[39m=\u001b[39m \u001b[39mself\u001b[39m\u001b[39m.\u001b[39mclassifier(x)\n\u001b[0;32m     <a href='vscode-notebook-cell:/c%3A/Users/kyamamoto/Documents/GitHub/mySMV/CNN_result.ipynb#X23sZmlsZQ%3D%3D?line=40'>41</a>\u001b[0m \u001b[39mreturn\u001b[39;00m x\n",
      "\u001b[1;31mRuntimeError\u001b[0m: shape '[-1, 272]' is invalid for input of size 294912"
     ]
    }
   ],
   "source": [
    "eegnet = EEGNet().to(device)\n",
    "summary(eegnet, (1, 64, 400))\n",
    "model = Model(eegnet, lr=Learning_Rate)\n",
    "history = model.fit(trainloader=trainloader, validloader=testloader, epochs=EPOCHS, monitor=[\"acc\", \"val_acc\"])"
   ]
  },
  {
   "cell_type": "code",
   "execution_count": null,
   "metadata": {},
   "outputs": [],
   "source": [
    "def base_path(path: str):\n",
    "    return os.path.join(BASE_DIR, path)\n",
    "\n",
    "def plot_acc_and_loss(history, figsize=(10,4), base_save_path=None):\n",
    "    fig, (ax1, ax2) = plt.subplots(1, 2, figsize=figsize)\n",
    "    if base_save_path:\n",
    "        st = fig.suptitle(base_save_path, fontsize=\"x-large\")\n",
    "    \n",
    "    ax1.title.set_text(\"Acc\")\n",
    "    ax1.set_xlabel(\"Epochs\")\n",
    "    l1 = ax1.plot(history[\"acc\"], color=\"red\", label='train')\n",
    "    l2 = ax1.plot(history[\"val_acc\"], color=\"blue\", label='test')\n",
    "    \n",
    "    ax2.title.set_text(\"Loss\")\n",
    "    ax2.set_ylabel(\"Epochs\")\n",
    "    l3 = ax2.plot(history[\"loss\"], color=\"red\", label='train')\n",
    "    l4 = ax2.plot(history[\"val_loss\"], color=\"blue\", label='test')\n",
    "\n",
    "    ax1.legend(loc=\"upper right\")\n",
    "    ax2.legend(loc=\"upper right\")\n",
    "\n",
    "    if base_save_path:\n",
    "        plt.savefig(base_path(base_save_path))\n",
    "    plt.show()"
   ]
  },
  {
   "cell_type": "code",
   "execution_count": null,
   "metadata": {},
   "outputs": [],
   "source": [
    "BASE_DIR = './' #@param {type:\"string\"}\n",
    "plot_acc_and_loss(history=history, base_save_path=\"part_1.png\")"
   ]
  }
 ],
 "metadata": {
  "kernelspec": {
   "display_name": "base",
   "language": "python",
   "name": "python3"
  },
  "language_info": {
   "codemirror_mode": {
    "name": "ipython",
    "version": 3
   },
   "file_extension": ".py",
   "mimetype": "text/x-python",
   "name": "python",
   "nbconvert_exporter": "python",
   "pygments_lexer": "ipython3",
   "version": "3.9.12"
  },
  "orig_nbformat": 4,
  "vscode": {
   "interpreter": {
    "hash": "68330a0c3a73c8a9ab17a58db04a4bc84979ee9d5927a73e0795658af7e94545"
   }
  }
 },
 "nbformat": 4,
 "nbformat_minor": 2
}
