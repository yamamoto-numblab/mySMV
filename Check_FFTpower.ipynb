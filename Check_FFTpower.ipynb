{
 "cells": [
  {
   "cell_type": "code",
   "execution_count": 99,
   "metadata": {},
   "outputs": [
    {
     "name": "stdout",
     "output_type": "stream",
     "text": [
      "Filelist\n",
      "[' EEG_grasping_03-Oct-2022_sub1-1.mat', ' EEG_grasping_03-Oct-2022_sub1-2.mat', ' EEG_grasping_03-Oct-2022_sub1-3.mat', ' EEG_grasping_03-Oct-2022_sub2-1.mat', ' EEG_grasping_03-Oct-2022_sub2-2.mat', ' EEG_grasping_03-Oct-2022_sub2-3.mat', ' EEG_grasping_03-Oct-2022_sub3-2.mat', ' EEG_grasping_03-Oct-2022_sub3-3.mat', ' EEG_grasping_03-Oct-2022_sub4-1.mat', ' EEG_grasping_03-Oct-2022_sub4-2.mat', ' EEG_grasping_03-Oct-2022_sub4-3.mat', 'EEG_grasping_03-Oct-2022_sub3-1.mat']\n"
     ]
    }
   ],
   "source": [
    "#import library\n",
    "import os\n",
    "import numpy as np\n",
    "import scipy.io\n",
    "import pandas as pd\n",
    "from scipy import signal\n",
    "import matplotlib.pyplot as plt\n",
    "\n",
    "\n",
    "\n",
    "#filePath = '/Users/yamamotokouhei/subjectsData/data20221122'\n",
    "filePath = '/Users/yamamotokouhei/subjectsData/braindata20221003'\n",
    "\n",
    "brainAdress = ['Fp1','AF7','AF3','F1','F3','F5','F7','FT7','FC5',\n",
    "'FC3','FC1','C1','C3','C5','T7','TP7','CP5','CP3','CP1','P1','P3',\n",
    "'P5','P7','P9','PO7','PO3','O1','Iz','Oz','POz','Pz','CPz','Fpz','Fp2',\n",
    "'AF8','AF4','AFz','Fz','F2','F4','F6','F8','FT8','FC6','FC4','FC2',\n",
    "'FCz','Cz','C2','C4','C6','T8','TP8','CP6','CP4','CP2','P2','P4',\n",
    "'P6','P8','P10','PO8','PO4','O2']\n",
    "\n",
    "# dataクラス\n",
    "class O_Data:\n",
    "    def __init__(self, eeg, index, label):\n",
    "        self.eeg = eeg\n",
    "        self.index = index\n",
    "        self.label = label\n",
    "        self.stack = []\n",
    "\n",
    "    def push(self, item):\n",
    "        self.stack.append(item)\n",
    "\n",
    "o_data65_label1 = list()#label1のデータ\n",
    "o_data65_label2 = list()#label2のデータ\n",
    "o_data = list()\n",
    "label_data = list()#labelを結合したデータ\n",
    "task1_data = list()\n",
    "task2_data = list()\n",
    "\n",
    "All_data = list()  # 全データを結合\n",
    "\n",
    "def Standardization(data): #標準化\n",
    "    after_data = scipy.stats.zscore(data)\n",
    "    #b = np.average(after_data)\n",
    "    #c = np.var(after_data)\n",
    "    return after_data\n",
    "\n",
    "file_name = list()  # すべての.matファイルの名前\n",
    "for file in os.listdir(filePath):\n",
    "    base, ext = os.path.splitext(file)\n",
    "    if ext == '.mat':\n",
    "        file_name = sorted(file_name)\n",
    "        file_name.append(file)\n",
    "print('Filelist')\n",
    "print(file_name)"
   ]
  },
  {
   "cell_type": "code",
   "execution_count": 100,
   "metadata": {},
   "outputs": [
    {
     "name": "stdout",
     "output_type": "stream",
     "text": [
      "data_loading\n"
     ]
    }
   ],
   "source": [
    "#label1の設定\n",
    "file_name1 = [file_name[0],file_name[1],file_name[2]]\n",
    "file_num1 = len(file_name1)\n",
    "#label2の設定\n",
    "file_name2 = [file_name[3],file_name[4],file_name[5]]\n",
    "file_num2 = len(file_name2)\n",
    "# 変数など\n",
    "trial_num = 30\n",
    "all_trial = len(file_name1)+len(file_name2) * trial_num\n",
    "all_d = 0\n",
    "CH = 64\n",
    "#label1を読み込む\n",
    "for s in range(file_num1):\n",
    "    Dictionary = scipy.io.loadmat(filePath+\"/\"+file_name1[s])\n",
    "    for t in range(trial_num):\n",
    "        for i, key in enumerate(Dictionary.keys()):\n",
    "            if i > 2:\n",
    "                a = Dictionary[key]\n",
    "                b = a[0, t][0][0]\n",
    "                eeg = b[0][0:64, :]\n",
    "                index = b[1]\n",
    "                samplerate = b[2]\n",
    "                label = b[5][0, 0]\n",
    "                o_data = O_Data(eeg, index, label)\n",
    "                o_data65_label1.append(o_data)\n",
    "#label2を読み込む\n",
    "for s in range(file_num2):\n",
    "    Dictionary = scipy.io.loadmat(filePath+\"/\"+file_name2[s])\n",
    "    for t in range(trial_num):\n",
    "        for i, key in enumerate(Dictionary.keys()):\n",
    "            if i > 2:\n",
    "                a = Dictionary[key]\n",
    "                b = a[0, t][0][0]\n",
    "                eeg = b[0][0:64, :]\n",
    "                index = b[1]\n",
    "                samplerate = b[2]\n",
    "                label = b[5][0, 0]\n",
    "                o_data = O_Data(eeg, index, label)\n",
    "                o_data65_label2.append(o_data)\n",
    "print(\"data_loading\")"
   ]
  },
  {
   "cell_type": "code",
   "execution_count": 101,
   "metadata": {},
   "outputs": [],
   "source": [
    "c1 = o_data65_label1[0].eeg[: , 0:8200]\n",
    "c2 = o_data65_label2[0].eeg[: , 0:8200]\n",
    "for n in range(len(file_name1)*trial_num-1):  # all_trial\n",
    "    g1 = o_data65_label1[n+1].eeg[: , 0:8200]\n",
    "    g2 = o_data65_label2[n+1].eeg[: , 0:8200]\n",
    "    c1 = np.dstack([c1, g1])\n",
    "    c2 = np.dstack([c2, g2])\n"
   ]
  },
  {
   "cell_type": "code",
   "execution_count": 102,
   "metadata": {},
   "outputs": [],
   "source": [
    "sta_data = c1.transpose(2,0,1)\n",
    "com_data = c2.transpose(2,0,1)\n",
    "\n",
    "sta_data = sta_data.astype(np.double)\n",
    "com_data = com_data.astype(np.double)"
   ]
  },
  {
   "cell_type": "code",
   "execution_count": 103,
   "metadata": {},
   "outputs": [],
   "source": [
    "filter3 = signal.firwin(numtaps=51, cutoff=[5, 40], fs=1024, pass_zero=False)\n",
    "for i in range(90):\n",
    "    #all_data[i] -=np.mean(all_data[i][:][:])\n",
    "    for j in range(64):\n",
    "        sta_data[i][j] = signal.lfilter(filter3, 1, sta_data[i][j][:])\n",
    "        com_data[i][j] = signal.lfilter(filter3, 1, com_data[i][j][:])\n",
    "\n",
    "for i in range(90):\n",
    "    for j in range(64):\n",
    "        sta_data[i][j] -=np.mean(sta_data[i])\n",
    "        com_data[i][j] -=np.mean(com_data[i])\n",
    "        sta_data[i][j] = Standardization(sta_data[i][j][:])\n",
    "        com_data[i][j] = Standardization(com_data[i][j][:])"
   ]
  },
  {
   "cell_type": "code",
   "execution_count": 104,
   "metadata": {},
   "outputs": [
    {
     "name": "stdout",
     "output_type": "stream",
     "text": [
      "(5760, 8200)\n"
     ]
    },
    {
     "data": {
      "image/png": "[encoded data removed]",
      "text/plain": [
       "<Figure size 432x288 with 1 Axes>"
      ]
     },
     "metadata": {
      "needs_background": "light"
     },
     "output_type": "display_data"
    }
   ],
   "source": [
    "a_spec = list()\n",
    "b_spec = list()\n",
    "\n",
    "trial_task1 = list()\n",
    "trial_task2 = list()\n",
    "\n",
    "N = 8200\n",
    "dt = 1/1024\n",
    "t = np.arange(0, N*dt, dt) # 時間軸\n",
    "freq = np.fft.fftfreq(N,d=dt) # 周波数軸\n",
    "for i in range(90):\n",
    "    for j in range(64):\n",
    "        F1 = np.fft.fft(sta_data[i][j])\n",
    "        F2 = np .fft.fft(com_data[i][j])\n",
    "        # 振幅スペクトルを計算\n",
    "        amplitude1 = np.abs(F1)\n",
    "        amplitude2 = np.abs(F2)\n",
    "        F_amplitude1 = amplitude1 / N * 2\n",
    "        F_amplitude1[0] = F_amplitude1[0] / 2\n",
    "        F_amplitude2 = amplitude2 / N * 2\n",
    "        F_amplitude2[0] = F_amplitude2[0] / 2\n",
    "        a_spec.append(F_amplitude1)\n",
    "        b_spec.append(F_amplitude2)\n",
    "    alp = sum(a_spec)\n",
    "    bta = sum(b_spec)\n",
    "    trial_task1.append(alp)\n",
    "    trial_task2.append(bta)\n",
    "trial_task1_all = sum(trial_task1)/(64*90)\n",
    "trial_task2_all = sum(trial_task2)/(64*90)\n",
    "print(np.shape(a_spec))\n",
    "plt.plot(freq[1:100],trial_task1_all[1:100],label= 'moving slow')\n",
    "plt.plot(freq[1:100],trial_task2_all[1:100],label= 'moving fast')\n",
    "plt.legend()\n",
    "plt.show()\n",
    "\n",
    "\n"
   ]
  }
 ],
 "metadata": {
  "kernelspec": {
   "display_name": "Python 3.9.7 ('base')",
   "language": "python",
   "name": "python3"
  },
  "language_info": {
   "codemirror_mode": {
    "name": "ipython",
    "version": 3
   },
   "file_extension": ".py",
   "mimetype": "text/x-python",
   "name": "python",
   "nbconvert_exporter": "python",
   "pygments_lexer": "ipython3",
   "version": "3.9.7"
  },
  "orig_nbformat": 4,
  "vscode": {
   "interpreter": {
    "hash": "3067ead486e059ec00ffe7555bdb889e6e264a24dc711bf108106cc7baee8d5d"
   }
  }
 },
 "nbformat": 4,
 "nbformat_minor": 2
}
