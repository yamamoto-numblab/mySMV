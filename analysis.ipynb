{
 "cells": [
  {
   "cell_type": "code",
   "execution_count": null,
   "metadata": {},
   "outputs": [],
   "source": [
    "import os\n",
    "import numpy as np\n",
    "import pandas as pd\n",
    "import mne\n",
    "import scipy.io\n",
    "from scipy import signal\n",
    "from scipy.fft import fftshift\n",
    "import matplotlib.pyplot as plt\n",
    "from mne.decoding import CSP\n",
    "%matplotlib inline\n",
    "\n",
    "from sklearn.pipeline import Pipeline\n",
    "from sklearn.discriminant_analysis import LinearDiscriminantAnalysis\n",
    "from sklearn.model_selection import ShuffleSplit, cross_val_score\n",
    "from sklearn.model_selection import train_test_split\n",
    "from sklearn.svm import SVC\n",
    "\n",
    "from mne.decoding import CSP\n",
    "from sklearn.model_selection import GridSearchCV\n",
    "from sklearn.metrics import classification_report"
   ]
  },
  {
   "cell_type": "code",
   "execution_count": null,
   "metadata": {},
   "outputs": [],
   "source": [
    "brainAdress = ['Fp1','AF7','AF3','F1','F3','F5','F7','FT7','FC5',\n",
    "'FC3','FC1','C1','C3','C5','T7','TP7','CP5','CP3','CP1','P1','P3',\n",
    "'P5','P7','P9','PO7','PO3','O1','Iz','Oz','POz','Pz','CPz','Fpz','Fp2',\n",
    "'AF8','AF4','AFz','Fz','F2','F4','F6','F8','FT8','FC6','FC4','FC2',\n",
    "'FCz','Cz','C2','C4','C6','T8','TP8','CP6','CP4','CP2','P2','P4',\n",
    "'P6','P8','P10','PO8','PO4','O2']"
   ]
  },
  {
   "cell_type": "markdown",
   "metadata": {},
   "source": [
    "numpy dataの読み込み"
   ]
  },
  {
   "cell_type": "code",
   "execution_count": null,
   "metadata": {},
   "outputs": [],
   "source": [
    "day1_data = np.load('numpy_data/subject1_data1.npy')\n",
    "day1_label = np.load('numpy_data/subject1_label1.npy')\n",
    "day2_data = np.load('numpy_data/subject1_data2.npy')\n",
    "day2_label = np.load('numpy_data/subject1_label2.npy')"
   ]
  },
  {
   "cell_type": "markdown",
   "metadata": {},
   "source": [
    "データの結合"
   ]
  },
  {
   "cell_type": "code",
   "execution_count": null,
   "metadata": {},
   "outputs": [],
   "source": [
    "brain_data = np.vstack([day1_data,day2_data])\n",
    "label_data = np.hstack([day1_label,day2_label])\n",
    "# brain_data = np.load('numpy_data/subject1_image_data1.npy')\n",
    "# label_data = np.load('numpy_data/subject1_image_label1.npy')"
   ]
  },
  {
   "cell_type": "code",
   "execution_count": null,
   "metadata": {},
   "outputs": [],
   "source": [
    "motor_brainAdress = [9,10,11,12,13,17,18,31,44,45,46,47,48,49,50,54,55]\n",
    "data_numpy_task  = brain_data[:,motor_brainAdress,100*6:100*10]"
   ]
  },
  {
   "cell_type": "code",
   "execution_count": null,
   "metadata": {},
   "outputs": [],
   "source": [
    "info_motorbrain = ['FC3','FC1','C1','C3','C5','CP3','CP1','CPz','FC4','FC2',\n",
    "'FCz','Cz','C2','C4','C6','CP4','CP2',]\n",
    "info_motor = mne.create_info(ch_names=info_motorbrain, ch_types=\"eeg\", sfreq=1024)\n",
    "info_motor.set_montage('standard_1020')"
   ]
  },
  {
   "cell_type": "code",
   "execution_count": null,
   "metadata": {},
   "outputs": [],
   "source": [
    "#train testの分割\n",
    "X_train, X_test, Y_train, Y_test = train_test_split(data_numpy_task,label_data, test_size=0.25,random_state=42)\n",
    "print(np.shape(X_train))"
   ]
  },
  {
   "cell_type": "code",
   "execution_count": null,
   "metadata": {},
   "outputs": [],
   "source": [
    "#default CSP\n",
    "# CSP(n_components=4, reg=None, log=None, cov_est='concat', transform_into='average_power'\n",
    "#     , norm_trace=False, cov_method_params=None, rank=None, component_order='mutual_info')"
   ]
  },
  {
   "cell_type": "code",
   "execution_count": null,
   "metadata": {},
   "outputs": [],
   "source": [
    "csp = CSP(n_components=8, reg='empirical', log=True, cov_est='concat', transform_into='average_power', \n",
    "          norm_trace=True, cov_method_params=None, rank='info', component_order='alternate')"
   ]
  },
  {
   "cell_type": "code",
   "execution_count": null,
   "metadata": {},
   "outputs": [],
   "source": [
    "# plot CSP patterns estimated on full data for visualization\n",
    "kenshou = csp.fit_transform(X_train, Y_train)\n",
    "csp.fit_transform(X_train, Y_train)\n",
    "csp.plot_patterns(info_motor,ch_type='eeg', units='None', size=1.5)"
   ]
  },
  {
   "cell_type": "code",
   "execution_count": null,
   "metadata": {},
   "outputs": [],
   "source": [
    "x_train_csp = csp.transform(X_train)\n",
    "x_test_csp = csp.transform(X_test)"
   ]
  },
  {
   "cell_type": "code",
   "execution_count": null,
   "metadata": {},
   "outputs": [],
   "source": [
    "from sklearn.model_selection import RandomizedSearchCV\n",
    "from sklearn.neural_network import MLPClassifier\n",
    "# 多層パーセプトロン\n",
    "mlp_clf = MLPClassifier()\n",
    "mlp_clf.fit(x_train_csp, Y_train)\n",
    "\n",
    "mlp_clf.score(x_test_csp, Y_test)"
   ]
  },
  {
   "cell_type": "code",
   "execution_count": null,
   "metadata": {},
   "outputs": [],
   "source": [
    "random_search = {'batch_size': [10, 20, 30, 130],\n",
    "               'hidden_layer_sizes': [(150, 150), (100, 100, 50), (150, 100, 50)],\n",
    "               'max_iter': [400, 500, 600, 700, 800],\n",
    "               'random_state': [42]}\n",
    "mlp_random_search2 = RandomizedSearchCV(mlp_clf, random_search, cv=3,\n",
    "                                   n_jobs=-1, scoring='accuracy', random_state=0)\n",
    "# スケーリングしたデータで実行します\n",
    "mlp_random_search2.fit(x_train_csp, Y_train)"
   ]
  },
  {
   "cell_type": "code",
   "execution_count": null,
   "metadata": {},
   "outputs": [],
   "source": [
    "# 実行\n",
    "cvres = mlp_random_search2.cv_results_\n",
    "for score, params in zip(cvres['mean_test_score'], cvres['params']):\n",
    "    print(score, params)"
   ]
  },
  {
   "cell_type": "code",
   "execution_count": null,
   "metadata": {},
   "outputs": [],
   "source": [
    "mlp_random_search2.score(x_test_csp, Y_test)"
   ]
  },
  {
   "cell_type": "code",
   "execution_count": null,
   "metadata": {},
   "outputs": [],
   "source": [
    "#時系列データのSVM\n",
    "model =SVC(kernel='linear')\n",
    "model.fit(x_train_csp,Y_train)\n",
    "print(model.score(x_test_csp, Y_test))"
   ]
  },
  {
   "cell_type": "code",
   "execution_count": 26,
   "metadata": {},
   "outputs": [],
   "source": [
    "params = {\n",
    "    \"C\":np.logspace(-1,10,12),\n",
    "    \"kernel\":[\"rbf\",\"linear\",\"sigmoid\"],\n",
    "    \"gamma\":np.logspace(-8,3,12)\n",
    "}\n",
    "grid = GridSearchCV(model, params,scoring=\"accuracy\", cv=5)\n",
    "\n",
    "grid.fit(x_train_csp,Y_train)\n",
    "\n",
    "print(\"grid_best_score=\",grid.best_score_)\n",
    "print(grid.best_params_)\n",
    "\n",
    "pred = grid.predict(x_test_csp)\n",
    "print(classification_report(Y_test, pred))"
   ]
  }
 ],
 "metadata": {
  "kernelspec": {
   "display_name": "base",
   "language": "python",
   "name": "python3"
  },
  "language_info": {
   "codemirror_mode": {
    "name": "ipython",
    "version": 3
   },
   "file_extension": ".py",
   "mimetype": "text/x-python",
   "name": "python",
   "nbconvert_exporter": "python",
   "pygments_lexer": "ipython3",
   "version": "3.9.13"
  },
  "orig_nbformat": 4,
  "vscode": {
   "interpreter": {
    "hash": "68330a0c3a73c8a9ab17a58db04a4bc84979ee9d5927a73e0795658af7e94545"
   }
  }
 },
 "nbformat": 4,
 "nbformat_minor": 2
}
