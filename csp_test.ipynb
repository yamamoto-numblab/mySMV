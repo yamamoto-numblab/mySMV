{
 "cells": [
  {
   "cell_type": "code",
   "execution_count": 3,
   "metadata": {},
   "outputs": [
    {
     "ename": "FileNotFoundError",
     "evalue": "[Errno 2] No such file or directory: '/Users/kyamamoto/Desktop/けんきゅうしつ/実験データ/20230208_zzikken'",
     "output_type": "error",
     "traceback": [
      "\u001b[0;31m---------------------------------------------------------------------------\u001b[0m",
      "\u001b[0;31mFileNotFoundError\u001b[0m                         Traceback (most recent call last)",
      "\u001b[1;32m/Users/yaman/Documents/GitHub/mySMV/csp_test.ipynb セル 1\u001b[0m in \u001b[0;36m<cell line: 57>\u001b[0;34m()\u001b[0m\n\u001b[1;32m     <a href='vscode-notebook-cell:/Users/yaman/Documents/GitHub/mySMV/csp_test.ipynb#W0sZmlsZQ%3D%3D?line=53'>54</a>\u001b[0m     \u001b[39mreturn\u001b[39;00m after_data\n\u001b[1;32m     <a href='vscode-notebook-cell:/Users/yaman/Documents/GitHub/mySMV/csp_test.ipynb#W0sZmlsZQ%3D%3D?line=55'>56</a>\u001b[0m file_name \u001b[39m=\u001b[39m \u001b[39mlist\u001b[39m()  \u001b[39m# すべての.matファイルの名前\u001b[39;00m\n\u001b[0;32m---> <a href='vscode-notebook-cell:/Users/yaman/Documents/GitHub/mySMV/csp_test.ipynb#W0sZmlsZQ%3D%3D?line=56'>57</a>\u001b[0m \u001b[39mfor\u001b[39;00m file \u001b[39min\u001b[39;00m os\u001b[39m.\u001b[39;49mlistdir(filePath):\n\u001b[1;32m     <a href='vscode-notebook-cell:/Users/yaman/Documents/GitHub/mySMV/csp_test.ipynb#W0sZmlsZQ%3D%3D?line=57'>58</a>\u001b[0m     base, ext \u001b[39m=\u001b[39m os\u001b[39m.\u001b[39mpath\u001b[39m.\u001b[39msplitext(file)\n\u001b[1;32m     <a href='vscode-notebook-cell:/Users/yaman/Documents/GitHub/mySMV/csp_test.ipynb#W0sZmlsZQ%3D%3D?line=58'>59</a>\u001b[0m     \u001b[39mif\u001b[39;00m ext \u001b[39m==\u001b[39m \u001b[39m'\u001b[39m\u001b[39m.mat\u001b[39m\u001b[39m'\u001b[39m:\n",
      "\u001b[0;31mFileNotFoundError\u001b[0m: [Errno 2] No such file or directory: '/Users/kyamamoto/Desktop/けんきゅうしつ/実験データ/20230208_zzikken'"
     ]
    }
   ],
   "source": [
    "#import library\n",
    "import os\n",
    "import numpy as np\n",
    "import scipy.io\n",
    "import pandas as pd\n",
    "from scipy import signal\n",
    "from sklearn.model_selection import train_test_split\n",
    "import matplotlib.pyplot as plt\n",
    "from sklearn.pipeline import Pipeline\n",
    "from sklearn.discriminant_analysis import LinearDiscriminantAnalysis\n",
    "from sklearn.model_selection import ShuffleSplit, cross_val_score\n",
    "from mne.decoding import CSP\n",
    "import mne\n",
    "from sklearn.svm import SVC\n",
    "from sklearn.model_selection import GridSearchCV\n",
    "from sklearn.metrics import classification_report\n",
    "\n",
    "#filePath = '/Users/yamamotokouhei/subjectsData/data20221122'\n",
    "#filePath = '/Users/yamamotokouhei/subjectsData/braindata20221003'\n",
    "#labPC\n",
    "filePath = '/Users/kyamamoto/Desktop/けんきゅうしつ/実験データ/20230208_zzikken'\n",
    "\n",
    "brainAdress = ['Fp1','AF7','AF3','F1','F3','F5','F7','FT7','FC5',\n",
    "'FC3','FC1','C1','C3','C5','T7','TP7','CP5','CP3','CP1','P1','P3',\n",
    "'P5','P7','P9','PO7','PO3','O1','Iz','Oz','POz','Pz','CPz','Fpz','Fp2',\n",
    "'AF8','AF4','AFz','Fz','F2','F4','F6','F8','FT8','FC6','FC4','FC2',\n",
    "'FCz','Cz','C2','C4','C6','T8','TP8','CP6','CP4','CP2','P2','P4',\n",
    "'P6','P8','P10','PO8','PO4','O2']\n",
    "\n",
    "# dataクラス\n",
    "class O_Data:\n",
    "    def __init__(self, eeg, index, label):\n",
    "        self.eeg = eeg\n",
    "        self.index = index\n",
    "        self.label = label\n",
    "        self.stack = []\n",
    "\n",
    "    def push(self, item):\n",
    "        self.stack.append(item)\n",
    "\n",
    "o_data65_label1 = list()#label1のデータ\n",
    "o_data65_label2 = list()#label2のデータ\n",
    "o_data = list()\n",
    "label_data = list()#labelを結合したデータ\n",
    "task1_data = list()\n",
    "task2_data = list()\n",
    "\n",
    "All_data = list()  # 全データを結合\n",
    "\n",
    "def Standardization(data): #標準化\n",
    "    after_data = scipy.stats.zscore(data)\n",
    "    #b = np.average(after_data)\n",
    "    #c = np.var(after_data)\n",
    "    return after_data\n",
    "\n",
    "file_name = list()  # すべての.matファイルの名前\n",
    "for file in os.listdir(filePath):\n",
    "    base, ext = os.path.splitext(file)\n",
    "    if ext == '.mat':\n",
    "        file_name = sorted(file_name)\n",
    "        file_name.append(file)\n",
    "print('Filelist')\n",
    "print(file_name)"
   ]
  },
  {
   "cell_type": "code",
   "execution_count": null,
   "metadata": {},
   "outputs": [
    {
     "ename": "",
     "evalue": "",
     "output_type": "error",
     "traceback": [
      "\u001b[1;31m'/usr/local/bin/python3' でセルを実行するには、 ipykernel パッケージが必要です。\n",
      "\u001b[1;31mRun the following command to install 'ipykernel' into the Python environment. \n",
      "\u001b[1;31mCommand: '/usr/local/bin/python3 -m pip install ipykernel -U --user --force-reinstall'"
     ]
    }
   ],
   "source": [
    "#label1の設定\n",
    "file_name1 = [file_name[9],file_name[10],file_name[11]]\n",
    "file_num1 = len(file_name1)\n",
    "#label2の設定\n",
    "file_name2 = [file_name[12],file_name[13],file_name[14]]\n",
    "file_num2 = len(file_name2)\n",
    "# 変数など\n",
    "trial_num = 30\n",
    "all_trial = len(file_name1)+len(file_name2) * trial_num\n",
    "all_d = 0\n",
    "CH = 64\n",
    "#label1を読み込む\n",
    "for s in range(file_num1):\n",
    "    Dictionary = scipy.io.loadmat(filePath+\"/\"+file_name1[s])\n",
    "    for t in range(trial_num):\n",
    "        for i, key in enumerate(Dictionary.keys()):\n",
    "            if i > 2:\n",
    "                a = Dictionary[key]\n",
    "                b = a[0, t][0][0]\n",
    "                eeg = b[0][0:64, :]\n",
    "                index = b[1]\n",
    "                samplerate = b[2]\n",
    "                label = b[5][0, 0]\n",
    "                o_data = O_Data(eeg, index, label)\n",
    "                o_data65_label1.append(o_data)\n",
    "#label2を読み込む\n",
    "for s in range(file_num2):\n",
    "    Dictionary = scipy.io.loadmat(filePath+\"/\"+file_name2[s])\n",
    "    for t in range(trial_num):\n",
    "        for i, key in enumerate(Dictionary.keys()):\n",
    "            if i > 2:\n",
    "                a = Dictionary[key]\n",
    "                b = a[0, t][0][0]\n",
    "                eeg = b[0][0:64, :]\n",
    "                index = b[1]\n",
    "                samplerate = b[2]\n",
    "                label = b[5][0, 0]\n",
    "                o_data = O_Data(eeg, index, label)\n",
    "                o_data65_label2.append(o_data)\n",
    "print(\"data_loading\")"
   ]
  },
  {
   "cell_type": "code",
   "execution_count": null,
   "metadata": {},
   "outputs": [
    {
     "ename": "",
     "evalue": "",
     "output_type": "error",
     "traceback": [
      "\u001b[1;31m'/usr/local/bin/python3' でセルを実行するには、 ipykernel パッケージが必要です。\n",
      "\u001b[1;31mRun the following command to install 'ipykernel' into the Python environment. \n",
      "\u001b[1;31mCommand: '/usr/local/bin/python3 -m pip install ipykernel -U --user --force-reinstall'"
     ]
    }
   ],
   "source": [
    "c1 = o_data65_label1[0].eeg[: , 0:8190]\n",
    "c2 = o_data65_label2[0].eeg[: , 0:8190]\n",
    "for n in range(len(file_name1)*trial_num-1):  # all_trial\n",
    "    g1 = o_data65_label1[n+1].eeg[: , 0:8190]\n",
    "    g2 = o_data65_label2[n+1].eeg[: , 0:8190]\n",
    "    c1 = np.dstack([c1, g1])\n",
    "    c2 = np.dstack([c2, g2])\n"
   ]
  },
  {
   "cell_type": "code",
   "execution_count": null,
   "metadata": {},
   "outputs": [
    {
     "ename": "",
     "evalue": "",
     "output_type": "error",
     "traceback": [
      "\u001b[1;31m'/usr/local/bin/python3' でセルを実行するには、 ipykernel パッケージが必要です。\n",
      "\u001b[1;31mRun the following command to install 'ipykernel' into the Python environment. \n",
      "\u001b[1;31mCommand: '/usr/local/bin/python3 -m pip install ipykernel -U --user --force-reinstall'"
     ]
    }
   ],
   "source": [
    "all_data = np.dstack([c1, c2])\n",
    "all_data = all_data.transpose(2,0,1)\n",
    "print(np.shape(all_data))\n",
    "all_data = all_data.astype(np.double)"
   ]
  },
  {
   "cell_type": "code",
   "execution_count": null,
   "metadata": {},
   "outputs": [
    {
     "ename": "",
     "evalue": "",
     "output_type": "error",
     "traceback": [
      "\u001b[1;31m'/usr/local/bin/python3' でセルを実行するには、 ipykernel パッケージが必要です。\n",
      "\u001b[1;31mRun the following command to install 'ipykernel' into the Python environment. \n",
      "\u001b[1;31mCommand: '/usr/local/bin/python3 -m pip install ipykernel -U --user --force-reinstall'"
     ]
    }
   ],
   "source": [
    "#ラベル生成\n",
    "label = np.zeros(180,dtype=int)\n",
    "label[90:] = 1\n",
    "# a = list()\n",
    "# b = list() \n",
    "# for n in range(len(file_name1)*trial_num):  # all_trial\n",
    "#     label1 = o_data65_label1[n].label\n",
    "#     label2 = o_data65_label2[n].label\n",
    "#     if label1 == 2:\n",
    "#         label1 = 0\n",
    "#     if label2 == 2:\n",
    "#         label2 = 0\n",
    "#     a.append(label1)\n",
    "#     b.append(label2)\n",
    "# label = a+b"
   ]
  },
  {
   "cell_type": "code",
   "execution_count": null,
   "metadata": {},
   "outputs": [
    {
     "ename": "",
     "evalue": "",
     "output_type": "error",
     "traceback": [
      "\u001b[1;31m'/usr/local/bin/python3' でセルを実行するには、 ipykernel パッケージが必要です。\n",
      "\u001b[1;31mRun the following command to install 'ipykernel' into the Python environment. \n",
      "\u001b[1;31mCommand: '/usr/local/bin/python3 -m pip install ipykernel -U --user --force-reinstall'"
     ]
    }
   ],
   "source": [
    "label = np.array(label)"
   ]
  },
  {
   "cell_type": "code",
   "execution_count": null,
   "metadata": {},
   "outputs": [
    {
     "ename": "",
     "evalue": "",
     "output_type": "error",
     "traceback": [
      "\u001b[1;31m'/usr/local/bin/python3' でセルを実行するには、 ipykernel パッケージが必要です。\n",
      "\u001b[1;31mRun the following command to install 'ipykernel' into the Python environment. \n",
      "\u001b[1;31mCommand: '/usr/local/bin/python3 -m pip install ipykernel -U --user --force-reinstall'"
     ]
    }
   ],
   "source": [
    "print(label)"
   ]
  },
  {
   "cell_type": "code",
   "execution_count": null,
   "metadata": {},
   "outputs": [
    {
     "ename": "",
     "evalue": "",
     "output_type": "error",
     "traceback": [
      "\u001b[1;31m'/usr/local/bin/python3' でセルを実行するには、 ipykernel パッケージが必要です。\n",
      "\u001b[1;31mRun the following command to install 'ipykernel' into the Python environment. \n",
      "\u001b[1;31mCommand: '/usr/local/bin/python3 -m pip install ipykernel -U --user --force-reinstall'"
     ]
    }
   ],
   "source": [
    "filter3 = signal.firwin(numtaps=51, cutoff=[5, 40], fs=1024, pass_zero=False)\n",
    "for i in range(180):\n",
    "    #all_data[i] -=np.mean(all_data[i][:][:])\n",
    "    for j in range(64):\n",
    "        all_data[i][j] = signal.lfilter(filter3, 1, all_data[i][j][:])\n",
    "for i in range(180):\n",
    "    all_data[i] -=np.mean(all_data[i][:][:])\n",
    "    for j in range(64):\n",
    "        all_data[i][j] = Standardization(all_data[i][j][:])\n",
    "\n"
   ]
  },
  {
   "cell_type": "code",
   "execution_count": null,
   "metadata": {},
   "outputs": [
    {
     "ename": "",
     "evalue": "",
     "output_type": "error",
     "traceback": [
      "\u001b[1;31m'/usr/local/bin/python3' でセルを実行するには、 ipykernel パッケージが必要です。\n",
      "\u001b[1;31mRun the following command to install 'ipykernel' into the Python environment. \n",
      "\u001b[1;31mCommand: '/usr/local/bin/python3 -m pip install ipykernel -U --user --force-reinstall'"
     ]
    }
   ],
   "source": [
    "all_indices = list(range(180))\n",
    "sub, main = train_test_split(all_indices, test_size=0.5,random_state=42)\n",
    "#print(main)\n",
    "train = all_data[sub,:,4*1024:]\n",
    "test = all_data[main,:,4*1024:]\n",
    "train_label = label[sub]\n",
    "test_label = label[main]\n",
    "print(np.shape(train))\n",
    "print(np.shape(test))\n",
    "cv = ShuffleSplit(5, test_size=0.2, random_state=42)\n",
    "cv_split = cv.split(train)"
   ]
  },
  {
   "cell_type": "code",
   "execution_count": null,
   "metadata": {},
   "outputs": [
    {
     "ename": "",
     "evalue": "",
     "output_type": "error",
     "traceback": [
      "\u001b[1;31m'/usr/local/bin/python3' でセルを実行するには、 ipykernel パッケージが必要です。\n",
      "\u001b[1;31mRun the following command to install 'ipykernel' into the Python environment. \n",
      "\u001b[1;31mCommand: '/usr/local/bin/python3 -m pip install ipykernel -U --user --force-reinstall'"
     ]
    }
   ],
   "source": [
    "# Assemble a classifier\n",
    "lda = LinearDiscriminantAnalysis()\n",
    "csp = CSP(n_components=2, log=None, reg=None)\n",
    "# csp = CSP(n_components=4, reg=None, norm_trace=False, transform_into='csp_space')\n",
    "# Use scikit-learn Pipeline with cross_val_score function"
   ]
  },
  {
   "cell_type": "code",
   "execution_count": null,
   "metadata": {},
   "outputs": [
    {
     "ename": "",
     "evalue": "",
     "output_type": "error",
     "traceback": [
      "\u001b[1;31m'/usr/local/bin/python3' でセルを実行するには、 ipykernel パッケージが必要です。\n",
      "\u001b[1;31mRun the following command to install 'ipykernel' into the Python environment. \n",
      "\u001b[1;31mCommand: '/usr/local/bin/python3 -m pip install ipykernel -U --user --force-reinstall'"
     ]
    }
   ],
   "source": [
    "n_channels = 64\n",
    "sampling_freq = 1024  # in Hertz\n",
    "info = mne.create_info(ch_names=brainAdress, ch_types=\"eeg\", sfreq=sampling_freq)\n",
    "info.set_montage('biosemi64')\n"
   ]
  },
  {
   "cell_type": "code",
   "execution_count": null,
   "metadata": {},
   "outputs": [
    {
     "ename": "",
     "evalue": "",
     "output_type": "error",
     "traceback": [
      "\u001b[1;31m'/usr/local/bin/python3' でセルを実行するには、 ipykernel パッケージが必要です。\n",
      "\u001b[1;31mRun the following command to install 'ipykernel' into the Python environment. \n",
      "\u001b[1;31mCommand: '/usr/local/bin/python3 -m pip install ipykernel -U --user --force-reinstall'"
     ]
    }
   ],
   "source": [
    "# Printing the results\n",
    "class_balance = np.mean(train_label == train_label[0])\n",
    "class_balance = max(class_balance, 1. - class_balance)\n",
    "#print(\"Classification accuracy: %f / Chance level: %f\" % (np.mean(scores),class_balance))\n",
    "\n",
    "# plot CSP patterns estimated on full data for visualization\n",
    "kenshou = csp.fit_transform(train, train_label)\n",
    "csp.fit_transform(train, train_label)\n",
    "csp.plot_patterns(info,ch_type='eeg', units='None', size=1.5)"
   ]
  },
  {
   "cell_type": "code",
   "execution_count": null,
   "metadata": {},
   "outputs": [
    {
     "ename": "",
     "evalue": "",
     "output_type": "error",
     "traceback": [
      "\u001b[1;31m'/usr/local/bin/python3' でセルを実行するには、 ipykernel パッケージが必要です。\n",
      "\u001b[1;31mRun the following command to install 'ipykernel' into the Python environment. \n",
      "\u001b[1;31mCommand: '/usr/local/bin/python3 -m pip install ipykernel -U --user --force-reinstall'"
     ]
    }
   ],
   "source": [
    "print(np.shape(kenshou))\n",
    "# plt.xlabel('trial')\n",
    "plt.plot(kenshou)"
   ]
  },
  {
   "cell_type": "code",
   "execution_count": null,
   "metadata": {},
   "outputs": [
    {
     "ename": "",
     "evalue": "",
     "output_type": "error",
     "traceback": [
      "\u001b[1;31m'/usr/local/bin/python3' でセルを実行するには、 ipykernel パッケージが必要です。\n",
      "\u001b[1;31mRun the following command to install 'ipykernel' into the Python environment. \n",
      "\u001b[1;31mCommand: '/usr/local/bin/python3 -m pip install ipykernel -U --user --force-reinstall'"
     ]
    }
   ],
   "source": [
    "basac = csp.transform(test)\n",
    "print(np.shape(basac))\n",
    "# plt.xlabel('trial')\n",
    "# plt.plot(basac)"
   ]
  },
  {
   "cell_type": "code",
   "execution_count": null,
   "metadata": {},
   "outputs": [
    {
     "ename": "",
     "evalue": "",
     "output_type": "error",
     "traceback": [
      "\u001b[1;31m'/usr/local/bin/python3' でセルを実行するには、 ipykernel パッケージが必要です。\n",
      "\u001b[1;31mRun the following command to install 'ipykernel' into the Python environment. \n",
      "\u001b[1;31mCommand: '/usr/local/bin/python3 -m pip install ipykernel -U --user --force-reinstall'"
     ]
    }
   ],
   "source": [
    "from sklearn.model_selection import cross_val_score\n",
    "X_train, X_test, Y_train, Y_test = train_test_split(basac, test_label, test_size=0.4,random_state=42)\n",
    "model =SVC(kernel='linear')\n",
    "scores = cross_val_score(model, X_test, Y_test)\n",
    "model.fit(X_train,Y_train)\n",
    "print(model.score(X_train, Y_train))\n",
    "print(model.score(X_test, Y_test))\n",
    "\n",
    "print('Cross-Validation scores: {}'.format(scores))\n",
    "# スコアの平均値\n",
    "import numpy as np\n",
    "print('Average score: {}'.format(np.mean(scores)))"
   ]
  },
  {
   "cell_type": "code",
   "execution_count": null,
   "metadata": {},
   "outputs": [
    {
     "ename": "",
     "evalue": "",
     "output_type": "error",
     "traceback": [
      "\u001b[1;31m'/usr/local/bin/python3' でセルを実行するには、 ipykernel パッケージが必要です。\n",
      "\u001b[1;31mRun the following command to install 'ipykernel' into the Python environment. \n",
      "\u001b[1;31mCommand: '/usr/local/bin/python3 -m pip install ipykernel -U --user --force-reinstall'"
     ]
    }
   ],
   "source": [
    "# # 境界線プロット用の格子状データを生成\n",
    "# x1 = np.linspace(0.0, 10.0, 100)\n",
    "# x2 = np.linspace(0.0, 10.0, 100)\n",
    "# X1, X2 = np.meshgrid(x1, x2)    \n",
    "# plot_X = np.c_[X1.ravel(), X2.ravel()]\n",
    "\n",
    "# plot_y = model.predict(plot_X)\n",
    "\n",
    "# # 検証結果の表示\n",
    "# print(\"plot X：\", plot_X)\n",
    "# print(\"plot y：\", plot_y)\n",
    "\n",
    "# グラフ設定\n",
    "plt.figure(figsize=(10, 10))\n",
    "# # 格子データで散布図をプロットし、決定境界を描画（y=0:blue, y=1:red）\n",
    "# plt.scatter(plot_X.T[0][plot_y <= 0], plot_X.T[1][plot_y <= 0], marker='o', color=\"blue\", alpha=0.2)\n",
    "# plt.scatter(plot_X.T[0][plot_y > 0], plot_X.T[1][plot_y > 0], marker='o', color=\"red\", alpha=0.2)\n",
    "\n",
    "# 学習用データを散布図にプロット（y=0:blue, y=1:red）\n",
    "plt.scatter(X_train.T[0][Y_train <= 0], X_train.T[1][Y_train <= 0], marker='o', color=\"blue\", alpha=1.0,label = \"slow\")\n",
    "plt.scatter(X_train.T[0][Y_train > 0], X_train.T[1][Y_train > 0], marker='o', color=\"red\", alpha=1.0,label = \"fast\")\n",
    "plt.legend()\n",
    "plt.xlabel('x1')            # x軸ラベル\n",
    "plt.ylabel('x2')            # y軸ラベル\n",
    "# plt.xlim(-4, 4)\n",
    "# plt.ylim(-4, 4)\n",
    "plt.show()\n"
   ]
  },
  {
   "cell_type": "code",
   "execution_count": null,
   "metadata": {},
   "outputs": [
    {
     "ename": "",
     "evalue": "",
     "output_type": "error",
     "traceback": [
      "\u001b[1;31m'/usr/local/bin/python3' でセルを実行するには、 ipykernel パッケージが必要です。\n",
      "\u001b[1;31mRun the following command to install 'ipykernel' into the Python environment. \n",
      "\u001b[1;31mCommand: '/usr/local/bin/python3 -m pip install ipykernel -U --user --force-reinstall'"
     ]
    }
   ],
   "source": [
    "from mlxtend.plotting import plot_decision_regions\n",
    "plot_decision_regions(X_train, Y_train, clf=model)\n",
    "plt.xlabel('x1')            # x軸ラベル\n",
    "plt.ylabel('x2') \n",
    "plt.xlim(-5, 4)\n",
    "plt.ylim(-5, 2)\n",
    "plt.show()"
   ]
  },
  {
   "cell_type": "code",
   "execution_count": null,
   "metadata": {},
   "outputs": [
    {
     "ename": "",
     "evalue": "",
     "output_type": "error",
     "traceback": [
      "\u001b[1;31m'/usr/local/bin/python3' でセルを実行するには、 ipykernel パッケージが必要です。\n",
      "\u001b[1;31mRun the following command to install 'ipykernel' into the Python environment. \n",
      "\u001b[1;31mCommand: '/usr/local/bin/python3 -m pip install ipykernel -U --user --force-reinstall'"
     ]
    }
   ],
   "source": [
    "from mlxtend.plotting import plot_decision_regions\n",
    "plot_decision_regions(X_test, Y_test, clf=model)\n",
    "plt.xlabel('x1')            # x軸ラベル\n",
    "plt.ylabel('x2') \n",
    "plt.xlim(-5, 4)\n",
    "plt.ylim(-5, 2)\n",
    "plt.show()\n"
   ]
  }
 ],
 "metadata": {
  "kernelspec": {
   "display_name": "base",
   "language": "python",
   "name": "python3"
  },
  "language_info": {
   "codemirror_mode": {
    "name": "ipython",
    "version": 3
   },
   "file_extension": ".py",
   "mimetype": "text/x-python",
   "name": "python",
   "nbconvert_exporter": "python",
   "pygments_lexer": "ipython3",
   "version": "3.9.13"
  },
  "orig_nbformat": 4,
  "vscode": {
   "interpreter": {
    "hash": "68330a0c3a73c8a9ab17a58db04a4bc84979ee9d5927a73e0795658af7e94545"
   }
  }
 },
 "nbformat": 4,
 "nbformat_minor": 2
}
