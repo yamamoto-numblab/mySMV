{
 "cells": [
  {
   "cell_type": "code",
   "execution_count": 1,
   "metadata": {},
   "outputs": [],
   "source": [
    "filePath = '/Users/yamamotokouhei/subjectsData/data20221122'"
   ]
  },
  {
   "cell_type": "code",
   "execution_count": 2,
   "metadata": {},
   "outputs": [],
   "source": [
    "#import library\n",
    "import os\n",
    "import numpy as np\n",
    "import scipy.io\n",
    "import pandas as pd\n",
    "from scipy import signal\n",
    "from sklearn.model_selection import train_test_split\n",
    "from sklearn.svm import SVC\n",
    "from sklearn.model_selection import GridSearchCV\n",
    "from sklearn.metrics import classification_report\n",
    "import pickle"
   ]
  },
  {
   "cell_type": "code",
   "execution_count": 3,
   "metadata": {},
   "outputs": [],
   "source": [
    "# dataクラス\n",
    "class O_Data:\n",
    "    def __init__(self, eeg, index, label):\n",
    "        self.eeg = eeg\n",
    "        self.index = index\n",
    "        self.label = label\n",
    "        self.stack = []\n",
    "\n",
    "    def push(self, item):\n",
    "        self.stack.append(item)\n",
    "\n",
    "o_data65 = list()\n",
    "R_data = list()  #  実運動のデータを格納\n",
    "RI_data = list()  # 実運動＋想起運動のデータを格納\n",
    "All_data = list()  # 全データを格納\n",
    "#検証用\n",
    "testo_data65 = list()\n",
    "testR_data = list()  #  実運動のデータを格納\n",
    "testRI_data = list()  # 実運動＋想起運動のデータを格納\n",
    "testAll_data = list()  # 全データを格納"
   ]
  },
  {
   "cell_type": "code",
   "execution_count": 4,
   "metadata": {},
   "outputs": [
    {
     "name": "stdout",
     "output_type": "stream",
     "text": [
      "Filelist1\n",
      "[' EEG_grasping_22-Nov-2022_sub1-1.mat', ' EEG_grasping_22-Nov-2022_sub1-2.mat', ' EEG_grasping_22-Nov-2022_sub1-3.mat', ' EEG_grasping_22-Nov-2022_sub2-2.mat', ' EEG_grasping_22-Nov-2022_sub2-3.mat', ' EEG_grasping_22-Nov-2022_sub2-1.mat']\n"
     ]
    }
   ],
   "source": [
    "file_name1 = list()  # すべての.matファイルの名前\n",
    "for file in os.listdir(filePath):\n",
    "    base, ext = os.path.splitext(file)\n",
    "    if ext == '.mat':\n",
    "        file_name1 = sorted(file_name1)\n",
    "        file_name1.append(file)\n",
    "print('Filelist1')\n",
    "print(file_name1)"
   ]
  },
  {
   "cell_type": "code",
   "execution_count": 5,
   "metadata": {},
   "outputs": [
    {
     "name": "stdout",
     "output_type": "stream",
     "text": [
      "data_loading\n"
     ]
    }
   ],
   "source": [
    "# 変数など\n",
    "data_directry = ''\n",
    "file_num1 = len(file_name1)\n",
    "\n",
    "trial_num = 30\n",
    "all_trial = (file_num1) * trial_num\n",
    "all_d = 0\n",
    "CH = 64\n",
    "#運動実行を読み込む\n",
    "for s in range(file_num1):\n",
    "    Dictionary = scipy.io.loadmat(filePath+'/'+file_name1[s])\n",
    "    for t in range(trial_num):\n",
    "        for i, key in enumerate(Dictionary.keys()):\n",
    "            if i > 2:\n",
    "                a = Dictionary[key]\n",
    "                b = a[0, t][0][0]\n",
    "                eeg = b[0][0:64, :]\n",
    "                index = b[1]\n",
    "                samplerate = b[2]\n",
    "\n",
    "                label = b[5][0, 0]\n",
    "                #label = 1\n",
    "\n",
    "                o_data = O_Data(eeg, index, label)\n",
    "                o_data65.append(o_data)\n",
    "print(\"data_loading\")"
   ]
  },
  {
   "cell_type": "code",
   "execution_count": 6,
   "metadata": {},
   "outputs": [],
   "source": [
    "N = 8200            # サンプル数\n",
    "dt = 1/1024          # サンプリング間隔\n",
    "t = np.arange(0, N*dt, dt) # 時間軸\n",
    "freq = np.linspace(0, 1.0/dt, N) # 周波数軸\n",
    "filter3 = signal.firwin(numtaps=51, cutoff=[5, 40], fs=1024, pass_zero=False)"
   ]
  },
  {
   "cell_type": "code",
   "execution_count": 7,
   "metadata": {},
   "outputs": [
    {
     "name": "stdout",
     "output_type": "stream",
     "text": [
      "(11520,)\n",
      "(11520, 240)\n"
     ]
    }
   ],
   "source": [
    "for n in range(all_trial):  # all_trial\n",
    "    number = list()  # restのindex\n",
    "    time = list()\n",
    "    all_d = sum(len(v) for v in o_data65[n].index) - 1\n",
    "    for i in range(all_d + 1):\n",
    "        time.append(i)\n",
    "    eeg = o_data65[n].eeg  # トライアルnのeeg\n",
    "    index = o_data65[n].index  # トライアルnのindex\n",
    "    label = o_data65[n].label  # トライアルnのlabel\n",
    "    for i in range(all_d):\n",
    "        if index[:, i] == 0:\n",
    "            number.append(i)\n",
    "    rest_time = len(number)  # rest時間のindex数\n",
    "    \n",
    "    # すべてのチャンネルで行う\n",
    "    for j in range(CH):\n",
    "        onech_eeg = eeg[j, :]  # 一つのチャンネルのeeg\n",
    "        number = np.array(number)\n",
    "        time = np.array(time)\n",
    "\n",
    "        filter = signal.lfilter(filter3, 1, onech_eeg[0:8100])\n",
    "        std = scipy.stats.zscore(filter, axis=None)\n",
    "        F = np.fft.fft(std)\n",
    "        Amp = np.abs(F)\n",
    "        All_data.append(Amp[0:240])\n",
    "\n",
    "        \n",
    "        if label == 1:\n",
    "            #右\n",
    "            R_data.append(1)\n",
    "        else:\n",
    "            #左\n",
    "            R_data.append(0)\n",
    "\n",
    "R_data = np.array(R_data)\n",
    "All_data = np.array(All_data)\n",
    "\n",
    "print(np.shape(R_data))\n",
    "print(np.shape(All_data))"
   ]
  },
  {
   "cell_type": "code",
   "execution_count": 8,
   "metadata": {},
   "outputs": [
    {
     "name": "stdout",
     "output_type": "stream",
     "text": [
      "0.6804398148148149\n",
      "0.6350694444444445\n"
     ]
    }
   ],
   "source": [
    "X_train, X_test, Y_train, Y_test = train_test_split(All_data, R_data, test_size=0.25)\n",
    "\n",
    "\n",
    "\n",
    "model =SVC(kernel='linear')\n",
    "model.fit(X_train,Y_train)\n",
    "\n",
    "# SVC(C=1.0, class_weight=None, coef0=0.0,\n",
    "#   decision_function_shape='ovr', degree=3, gamma='auto', kernel='rbf',\n",
    "#   max_iter=-1, probability=False, random_state=None, shrinking=True,\n",
    "#   tol=0.001, verbose=False)\n",
    "\n",
    "print(model.score(X_train, Y_train))\n",
    "print(model.score(X_test, Y_test))"
   ]
  },
  {
   "cell_type": "code",
   "execution_count": 9,
   "metadata": {},
   "outputs": [],
   "source": [
    "params = {\n",
    "    \"C\":np.arange(0.1,1,0.05),\n",
    "    \"kernel\":[\"linear\", \"poly\", \"rbf\", \"sigmoid\"],\n",
    "    \"gamma\":np.arange(0.0001,0.1,0.05)\n",
    "}\n",
    "grid = GridSearchCV(model, params,scoring=\"accuracy\", cv=5)\n",
    "\n",
    "grid.fit(X_train, Y_train)\n",
    "with open('modke.pickle',mode = 'wb')as f:\n",
    "    pickle.dump(grid,f,protocol = 2)\n",
    "\n",
    "print(grid.best_score_)\n",
    "print(grid.best_params_)\n",
    "\n",
    "pred = grid.predict(X_test)\n",
    "print(classification_report(Y_test, pred))"
   ]
  }
 ],
 "metadata": {
  "kernelspec": {
   "display_name": "Python 3.9.7 ('base')",
   "language": "python",
   "name": "python3"
  },
  "language_info": {
   "codemirror_mode": {
    "name": "ipython",
    "version": 3
   },
   "file_extension": ".py",
   "mimetype": "text/x-python",
   "name": "python",
   "nbconvert_exporter": "python",
   "pygments_lexer": "ipython3",
   "version": "3.9.7"
  },
  "orig_nbformat": 4,
  "vscode": {
   "interpreter": {
    "hash": "3067ead486e059ec00ffe7555bdb889e6e264a24dc711bf108106cc7baee8d5d"
   }
  }
 },
 "nbformat": 4,
 "nbformat_minor": 2
}
