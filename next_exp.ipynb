{
 "cells": [
  {
   "cell_type": "code",
   "execution_count": 1,
   "metadata": {},
   "outputs": [],
   "source": [
    "import os\n",
    "import scipy.io\n",
    "import numpy as np\n",
    "import matplotlib.pyplot as plt\n",
    "from sklearn import svm\n",
    "from mne.decoding import CSP\n",
    "import sklearn.feature_selection\n",
    "from sklearn.feature_selection import mutual_info_classif\n",
    "from scipy import signal\n",
    "from sklearn import preprocessing\n",
    "from sklearn.metrics import accuracy_score\n",
    "import random \n",
    "from sklearn.model_selection import train_test_split\n",
    "\n",
    "random.seed(42)"
   ]
  },
  {
   "cell_type": "code",
   "execution_count": 2,
   "metadata": {},
   "outputs": [
    {
     "name": "stdout",
     "output_type": "stream",
     "text": [
      "Filelist\n",
      "['10EEG_grasping_19-May-2023_sub3-4.mat', '11EEG_grasping_19-May-2023_sub3-5.mat', '12EEG_grasping_19-May-2023_sub3-6.mat', '1EEG_grasping_19-May-2023_sub1-1.mat', '2EEG_grasping_19-May-2023_sub1-2.mat', '3EEG_grasping_19-May-2023_sub2-1.mat', '4EEG_grasping_19-May-2023_sub2-2.mat', '5EEG_grasping_19-May-2023_sub2-3.mat', '6EEG_grasping_19-May-2023_sub2-4.mat', '8EEG_grasping_19-May-2023_sub3-2.mat', '9EEG_grasping_19-May-2023_sub3-3.mat', '7EEG_grasping_19-May-2023_sub3-1.mat']\n"
     ]
    }
   ],
   "source": [
    "filePath= '/Users/yaman/Library/CloudStorage/GoogleDrive-s203192@stn.nagaokaut.ac.jp/マイドライブ/実験データ/20230519_zikken'\n",
    "\n",
    "brainAdress = ['Fp1','AF7','AF3','F1','F3','F5','F7','FT7','FC5',\n",
    "'FC3','FC1','C1','C3','C5','T7','TP7','CP5','CP3','CP1','P1','P3',\n",
    "'P5','P7','P9','PO7','PO3','O1','Iz','Oz','POz','Pz','CPz','Fpz','Fp2',\n",
    "'AF8','AF4','AFz','Fz','F2','F4','F6','F8','FT8','FC6','FC4','FC2',\n",
    "'FCz','Cz','C2','C4','C6','T8','TP8','CP6','CP4','CP2','P2','P4',\n",
    "'P6','P8','P10','PO8','PO4','O2']\n",
    "\n",
    "# dataクラス\n",
    "class O_Data:\n",
    "    def __init__(self, eeg, index, label):\n",
    "        self.eeg = eeg\n",
    "        self.index = index\n",
    "        self.label = label\n",
    "        self.stack = []\n",
    "\n",
    "    def push(self, item):\n",
    "        self.stack.append(item)\n",
    "\n",
    "o_data65_label1 = list()#label1のデータ\n",
    "o_data = list()\n",
    "label_data = list()#labelを結合したデータ\n",
    "\n",
    "\n",
    "All_data = list()  # 全データを結合\n",
    "\n",
    "def Standardization(data): #標準化\n",
    "    after_data = scipy.stats.zscore(data)\n",
    "    #b = np.average(after_data)\n",
    "    #c = np.var(after_data)\n",
    "    return after_data\n",
    "\n",
    "file_name = list()  # すべての.matファイルの名前\n",
    "for file in os.listdir(filePath):\n",
    "    base, ext = os.path.splitext(file)\n",
    "    if ext == '.mat':\n",
    "        file_name = sorted(file_name)\n",
    "        file_name.append(file)\n",
    "print('Filelist')\n",
    "print(file_name)"
   ]
  },
  {
   "cell_type": "code",
   "execution_count": 3,
   "metadata": {},
   "outputs": [
    {
     "name": "stdout",
     "output_type": "stream",
     "text": [
      "image data_loading\n"
     ]
    }
   ],
   "source": [
    "#解析するデータを選択\n",
    "file_name1 = [file_name[5],file_name[6],file_name[7],file_name[8]]\n",
    "file_num1 = len(file_name1)\n",
    "trial_num = 30\n",
    "all_trial = len(file_name1) * trial_num\n",
    "all_d = 0\n",
    "CH = 64\n",
    "#label1を読み込む\n",
    "for s in range(file_num1):\n",
    "    Dictionary = scipy.io.loadmat(filePath+\"/\"+file_name1[s])\n",
    "    for t in range(trial_num):\n",
    "        for i, key in enumerate(Dictionary.keys()):\n",
    "            if i > 2:\n",
    "                a = Dictionary[key]\n",
    "                b = a[0, t][0][0]\n",
    "                eeg = b[0][0:66, :]\n",
    "                index = b[1]\n",
    "                samplerate = b[2]\n",
    "                label = b[5][0, 0]\n",
    "                o_data = O_Data(eeg, index, label)\n",
    "                o_data65_label1.append(o_data)\n",
    "print(\"image data_loading\")"
   ]
  },
  {
   "cell_type": "code",
   "execution_count": 4,
   "metadata": {},
   "outputs": [
    {
     "name": "stdout",
     "output_type": "stream",
     "text": [
      "(120, 66, 10240)\n",
      "[1, 2, 1, 2, 2, 3, 2, 1, 3, 1, 3, 2, 1, 3, 3, 3, 2, 1, 1, 2, 3, 2, 3, 1, 1, 3, 2, 2, 3, 1, 2, 1, 3, 2, 3, 3, 3, 1, 1, 2, 1, 3, 2, 1, 3, 3, 2, 3, 1, 2, 2, 1, 1, 1, 3, 3, 2, 2, 2, 1, 1, 2, 3, 3, 1, 2, 2, 1, 1, 3, 1, 1, 3, 3, 3, 2, 3, 2, 2, 3, 2, 1, 3, 3, 2, 1, 1, 2, 1, 2, 3, 3, 3, 1, 2, 2, 3, 2, 2, 3, 1, 2, 2, 2, 3, 1, 1, 1, 2, 1, 1, 3, 3, 3, 2, 2, 1, 1, 3, 1]\n",
      "(120,)\n"
     ]
    }
   ],
   "source": [
    "c1 = o_data65_label1[0].eeg[: , 0:10240]\n",
    "for n in range(len(file_name1)*trial_num-1):  # all_trial\n",
    "    g1 = o_data65_label1[n+1].eeg[: , 0:10240]\n",
    "    c1 = np.dstack([c1, g1])\n",
    "all_data = c1.transpose(2,0,1)\n",
    "print(np.shape(all_data))\n",
    "all_data = all_data.astype(np.double)\n",
    "label_data = list()#labelを結合したデータ\n",
    "for n in range(all_trial):\n",
    "    label_data.append(o_data65_label1[n].label)\n",
    "print(label_data)\n",
    "print(np.shape(label_data))"
   ]
  },
  {
   "cell_type": "code",
   "execution_count": 5,
   "metadata": {},
   "outputs": [
    {
     "name": "stdout",
     "output_type": "stream",
     "text": [
      "(40, 66, 10240)\n",
      "(40, 66, 10240)\n",
      "(40, 66, 10240)\n"
     ]
    }
   ],
   "source": [
    "#numpy配列の定義\n",
    "task1 = o_data65_label1[0].eeg[: , 0:10240]\n",
    "task2 = o_data65_label1[0].eeg[: , 0:10240]\n",
    "task3 = o_data65_label1[0].eeg[: , 0:10240]\n",
    "for n in range(all_trial):\n",
    "    if label_data[n] == 1:\n",
    "        join = o_data65_label1[n].eeg[: , 0:10240]\n",
    "        task1 = np.dstack([task1, join])\n",
    "    if label_data[n] == 2:\n",
    "        join = o_data65_label1[n].eeg[: , 0:10240]\n",
    "        task2 = np.dstack([task2, join])\n",
    "    if label_data[n] == 3:\n",
    "        join = o_data65_label1[n].eeg[: , 0:10240]\n",
    "        task3 = np.dstack([task3, join])\n",
    "#task1低速度\n",
    "task1_data = task1.transpose(2,0,1)\n",
    "task1_data = task1_data.astype(np.double)\n",
    "\n",
    "task1_data = np.delete(task1_data,0,axis=0)\n",
    "print(np.shape(task1_data))\n",
    "#task2低速度\n",
    "task2_data = task2.transpose(2,0,1)\n",
    "task2_data = task2_data.astype(np.double)\n",
    "task2_data = np.delete(task2_data,0,axis=0)\n",
    "print(np.shape(task2_data))\n",
    "#task3想起なし\n",
    "task3_data = task3.transpose(2,0,1)\n",
    "task3_data = task3_data.astype(np.double)\n",
    "task3_data = np.delete(task3_data,0,axis=0)\n",
    "print(np.shape(task2_data))"
   ]
  },
  {
   "cell_type": "code",
   "execution_count": 6,
   "metadata": {},
   "outputs": [],
   "source": [
    "b,a=signal.butter(8,[(16/1024),(64/1024)],'bandpass')\n",
    "for i in range(int(all_trial/3)):\n",
    "    for j in range(64):\n",
    "        #バンドパス #resampling\n",
    "        task1_data[i][j][:] = signal.filtfilt(b,a,task1_data[i][j][:])\n",
    "        task2_data[i][j][:] = signal.filtfilt(b,a,task2_data[i][j][:])\n",
    "        task3_data[i][j][:] = signal.filtfilt(b,a,task3_data[i][j][:])"
   ]
  },
  {
   "cell_type": "code",
   "execution_count": 7,
   "metadata": {},
   "outputs": [],
   "source": [
    "def butter_bandpass(lowcut,highcut,fs,order):\n",
    "    nyq=0.5*fs\n",
    "    low=lowcut/nyq\n",
    "    high=highcut/nyq\n",
    "    b,a==signal.butter(8,[low,high],'bandpass')\n",
    "    return b,a\n",
    "def butter_bandpass_filter(data,lowcut,highcut,fs,order):\n",
    "    b,a=butter_bandpass(lowcut,highcut,fs,order)\n",
    "    y=signal.filtfilt(b,a,data,axis=2)\n",
    "    return y"
   ]
  },
  {
   "cell_type": "code",
   "execution_count": 8,
   "metadata": {},
   "outputs": [],
   "source": [
    "class_data = np.concatenate([task1_data[:,0:64,4*1024:10*1024],task2_data[:,0:64,4*1024:10*1024]])\n",
    "class_label = np.zeros(80,dtype=int)\n",
    "class_label[40:] = 1"
   ]
  },
  {
   "cell_type": "code",
   "execution_count": 9,
   "metadata": {},
   "outputs": [],
   "source": [
    "csp=CSP(n_components=4, reg=None, log=True, norm_trace=False)"
   ]
  },
  {
   "cell_type": "code",
   "execution_count": 10,
   "metadata": {},
   "outputs": [],
   "source": [
    "X_train, X_test, Y_train, Y_test = train_test_split(class_data, class_label, test_size=0.6)\n"
   ]
  },
  {
   "cell_type": "code",
   "execution_count": 14,
   "metadata": {},
   "outputs": [
    {
     "data": {
      "text/plain": [
       "(32, 64, 6144)"
      ]
     },
     "execution_count": 14,
     "metadata": {},
     "output_type": "execute_result"
    }
   ],
   "source": [
    "np.shape(X_train)"
   ]
  },
  {
   "cell_type": "code",
   "execution_count": 15,
   "metadata": {},
   "outputs": [
    {
     "data": {
      "text/plain": [
       "array([[[nan, nan, nan, ..., nan, nan, nan],\n",
       "        [nan, nan, nan, ..., nan, nan, nan],\n",
       "        [nan, nan, nan, ..., nan, nan, nan],\n",
       "        ...,\n",
       "        [nan, nan, nan, ..., nan, nan, nan],\n",
       "        [nan, nan, nan, ..., nan, nan, nan],\n",
       "        [nan, nan, nan, ..., nan, nan, nan]],\n",
       "\n",
       "       [[nan, nan, nan, ..., nan, nan, nan],\n",
       "        [nan, nan, nan, ..., nan, nan, nan],\n",
       "        [nan, nan, nan, ..., nan, nan, nan],\n",
       "        ...,\n",
       "        [nan, nan, nan, ..., nan, nan, nan],\n",
       "        [nan, nan, nan, ..., nan, nan, nan],\n",
       "        [nan, nan, nan, ..., nan, nan, nan]],\n",
       "\n",
       "       [[nan, nan, nan, ..., nan, nan, nan],\n",
       "        [nan, nan, nan, ..., nan, nan, nan],\n",
       "        [nan, nan, nan, ..., nan, nan, nan],\n",
       "        ...,\n",
       "        [nan, nan, nan, ..., nan, nan, nan],\n",
       "        [nan, nan, nan, ..., nan, nan, nan],\n",
       "        [nan, nan, nan, ..., nan, nan, nan]],\n",
       "\n",
       "       ...,\n",
       "\n",
       "       [[nan, nan, nan, ..., nan, nan, nan],\n",
       "        [nan, nan, nan, ..., nan, nan, nan],\n",
       "        [nan, nan, nan, ..., nan, nan, nan],\n",
       "        ...,\n",
       "        [nan, nan, nan, ..., nan, nan, nan],\n",
       "        [nan, nan, nan, ..., nan, nan, nan],\n",
       "        [nan, nan, nan, ..., nan, nan, nan]],\n",
       "\n",
       "       [[nan, nan, nan, ..., nan, nan, nan],\n",
       "        [nan, nan, nan, ..., nan, nan, nan],\n",
       "        [nan, nan, nan, ..., nan, nan, nan],\n",
       "        ...,\n",
       "        [nan, nan, nan, ..., nan, nan, nan],\n",
       "        [nan, nan, nan, ..., nan, nan, nan],\n",
       "        [nan, nan, nan, ..., nan, nan, nan]],\n",
       "\n",
       "       [[nan, nan, nan, ..., nan, nan, nan],\n",
       "        [nan, nan, nan, ..., nan, nan, nan],\n",
       "        [nan, nan, nan, ..., nan, nan, nan],\n",
       "        ...,\n",
       "        [nan, nan, nan, ..., nan, nan, nan],\n",
       "        [nan, nan, nan, ..., nan, nan, nan],\n",
       "        [nan, nan, nan, ..., nan, nan, nan]]])"
      ]
     },
     "execution_count": 15,
     "metadata": {},
     "output_type": "execute_result"
    }
   ],
   "source": [
    "X_train"
   ]
  },
  {
   "cell_type": "code",
   "execution_count": 13,
   "metadata": {},
   "outputs": [
    {
     "name": "stdout",
     "output_type": "stream",
     "text": [
      "Computing rank from data with rank=None\n"
     ]
    },
    {
     "ename": "ValueError",
     "evalue": "array must not contain infs or NaNs",
     "output_type": "error",
     "traceback": [
      "\u001b[0;31m---------------------------------------------------------------------------\u001b[0m",
      "\u001b[0;31mValueError\u001b[0m                                Traceback (most recent call last)",
      "\u001b[1;32m/Users/yaman/Documents/書類 - 山本航平のMacBook Air/GitHub/mySMV/next_exp.ipynb セル 14\u001b[0m in \u001b[0;36m<cell line: 4>\u001b[0;34m()\u001b[0m\n\u001b[1;32m     <a href='vscode-notebook-cell:/Users/yaman/Documents/%E6%9B%B8%E9%A1%9E%20-%20%E5%B1%B1%E6%9C%AC%E8%88%AA%E5%B9%B3%E3%81%AEMacBook%20Air/GitHub/mySMV/next_exp.ipynb#X33sZmlsZQ%3D%3D?line=9'>10</a>\u001b[0m X_train_filt\u001b[39m=\u001b[39mbutter_bandpass_filter(X_train,lowcut\u001b[39m=\u001b[39mlower,highcut\u001b[39m=\u001b[39mhigher,fs\u001b[39m=\u001b[39m\u001b[39m1024\u001b[39m,order\u001b[39m=\u001b[39m\u001b[39m8\u001b[39m)\n\u001b[1;32m     <a href='vscode-notebook-cell:/Users/yaman/Documents/%E6%9B%B8%E9%A1%9E%20-%20%E5%B1%B1%E6%9C%AC%E8%88%AA%E5%B9%B3%E3%81%AEMacBook%20Air/GitHub/mySMV/next_exp.ipynb#X33sZmlsZQ%3D%3D?line=10'>11</a>\u001b[0m X_test_filt\u001b[39m=\u001b[39mbutter_bandpass_filter(X_test,lowcut\u001b[39m=\u001b[39mlower,highcut\u001b[39m=\u001b[39mhigher,fs\u001b[39m=\u001b[39m\u001b[39m1024\u001b[39m,order\u001b[39m=\u001b[39m\u001b[39m8\u001b[39m)\n\u001b[0;32m---> <a href='vscode-notebook-cell:/Users/yaman/Documents/%E6%9B%B8%E9%A1%9E%20-%20%E5%B1%B1%E6%9C%AC%E8%88%AA%E5%B9%B3%E3%81%AEMacBook%20Air/GitHub/mySMV/next_exp.ipynb#X33sZmlsZQ%3D%3D?line=11'>12</a>\u001b[0m tmp_train\u001b[39m=\u001b[39mcsp\u001b[39m.\u001b[39;49mfit_transform(X_train_filt,Y_train)\n\u001b[1;32m     <a href='vscode-notebook-cell:/Users/yaman/Documents/%E6%9B%B8%E9%A1%9E%20-%20%E5%B1%B1%E6%9C%AC%E8%88%AA%E5%B9%B3%E3%81%AEMacBook%20Air/GitHub/mySMV/next_exp.ipynb#X33sZmlsZQ%3D%3D?line=12'>13</a>\u001b[0m tmp_test\u001b[39m=\u001b[39mcsp\u001b[39m.\u001b[39mtransform(X_test_filt)\n\u001b[1;32m     <a href='vscode-notebook-cell:/Users/yaman/Documents/%E6%9B%B8%E9%A1%9E%20-%20%E5%B1%B1%E6%9C%AC%E8%88%AA%E5%B9%B3%E3%81%AEMacBook%20Air/GitHub/mySMV/next_exp.ipynb#X33sZmlsZQ%3D%3D?line=13'>14</a>\u001b[0m \u001b[39mif\u001b[39;00m freq_count\u001b[39m==\u001b[39m\u001b[39m0\u001b[39m:\n",
      "File \u001b[0;32m~/opt/anaconda3/lib/python3.9/site-packages/mne/decoding/csp.py:244\u001b[0m, in \u001b[0;36mCSP.fit_transform\u001b[0;34m(self, X, y, **fit_params)\u001b[0m\n\u001b[1;32m    242\u001b[0m \u001b[39m@copy_doc\u001b[39m(TransformerMixin\u001b[39m.\u001b[39mfit_transform)\n\u001b[1;32m    243\u001b[0m \u001b[39mdef\u001b[39;00m \u001b[39mfit_transform\u001b[39m(\u001b[39mself\u001b[39m, X, y, \u001b[39m*\u001b[39m\u001b[39m*\u001b[39mfit_params):  \u001b[39m# noqa: D102\u001b[39;00m\n\u001b[0;32m--> 244\u001b[0m     \u001b[39mreturn\u001b[39;00m \u001b[39msuper\u001b[39;49m()\u001b[39m.\u001b[39;49mfit_transform(X, y\u001b[39m=\u001b[39;49my, \u001b[39m*\u001b[39;49m\u001b[39m*\u001b[39;49mfit_params)\n",
      "File \u001b[0;32m~/opt/anaconda3/lib/python3.9/site-packages/mne/decoding/mixin.py:33\u001b[0m, in \u001b[0;36mTransformerMixin.fit_transform\u001b[0;34m(self, X, y, **fit_params)\u001b[0m\n\u001b[1;32m     30\u001b[0m     \u001b[39mreturn\u001b[39;00m \u001b[39mself\u001b[39m\u001b[39m.\u001b[39mfit(X, \u001b[39m*\u001b[39m\u001b[39m*\u001b[39mfit_params)\u001b[39m.\u001b[39mtransform(X)\n\u001b[1;32m     31\u001b[0m \u001b[39melse\u001b[39;00m:\n\u001b[1;32m     32\u001b[0m     \u001b[39m# fit method of arity 2 (supervised transformation)\u001b[39;00m\n\u001b[0;32m---> 33\u001b[0m     \u001b[39mreturn\u001b[39;00m \u001b[39mself\u001b[39;49m\u001b[39m.\u001b[39;49mfit(X, y, \u001b[39m*\u001b[39;49m\u001b[39m*\u001b[39;49mfit_params)\u001b[39m.\u001b[39mtransform(X)\n",
      "File \u001b[0;32m~/opt/anaconda3/lib/python3.9/site-packages/mne/decoding/csp.py:183\u001b[0m, in \u001b[0;36mCSP.fit\u001b[0;34m(self, X, y)\u001b[0m\n\u001b[1;32m    177\u001b[0m \u001b[39mif\u001b[39;00m n_classes \u001b[39m>\u001b[39m \u001b[39m2\u001b[39m \u001b[39mand\u001b[39;00m \u001b[39mself\u001b[39m\u001b[39m.\u001b[39mcomponent_order \u001b[39m==\u001b[39m \u001b[39m'\u001b[39m\u001b[39malternate\u001b[39m\u001b[39m'\u001b[39m:\n\u001b[1;32m    178\u001b[0m     \u001b[39mraise\u001b[39;00m \u001b[39mValueError\u001b[39;00m(\u001b[39m\"\u001b[39m\u001b[39mcomponent_order=\u001b[39m\u001b[39m'\u001b[39m\u001b[39malternate\u001b[39m\u001b[39m'\u001b[39m\u001b[39m requires two \u001b[39m\u001b[39m\"\u001b[39m\n\u001b[1;32m    179\u001b[0m                      \u001b[39m\"\u001b[39m\u001b[39mclasses, but data contains \u001b[39m\u001b[39m{}\u001b[39;00m\u001b[39m classes; use \u001b[39m\u001b[39m\"\u001b[39m\n\u001b[1;32m    180\u001b[0m                      \u001b[39m\"\u001b[39m\u001b[39mcomponent_order=\u001b[39m\u001b[39m'\u001b[39m\u001b[39mmutual_info\u001b[39m\u001b[39m'\u001b[39m\u001b[39m \u001b[39m\u001b[39m\"\u001b[39m\n\u001b[1;32m    181\u001b[0m                      \u001b[39m\"\u001b[39m\u001b[39minstead.\u001b[39m\u001b[39m\"\u001b[39m\u001b[39m.\u001b[39mformat(n_classes))\n\u001b[0;32m--> 183\u001b[0m covs, sample_weights \u001b[39m=\u001b[39m \u001b[39mself\u001b[39;49m\u001b[39m.\u001b[39;49m_compute_covariance_matrices(X, y)\n\u001b[1;32m    184\u001b[0m eigen_vectors, eigen_values \u001b[39m=\u001b[39m \u001b[39mself\u001b[39m\u001b[39m.\u001b[39m_decompose_covs(covs,\n\u001b[1;32m    185\u001b[0m                                                    sample_weights)\n\u001b[1;32m    186\u001b[0m ix \u001b[39m=\u001b[39m \u001b[39mself\u001b[39m\u001b[39m.\u001b[39m_order_components(covs, sample_weights, eigen_vectors,\n\u001b[1;32m    187\u001b[0m                             eigen_values, \u001b[39mself\u001b[39m\u001b[39m.\u001b[39mcomponent_order)\n",
      "File \u001b[0;32m~/opt/anaconda3/lib/python3.9/site-packages/mne/decoding/csp.py:472\u001b[0m, in \u001b[0;36mCSP._compute_covariance_matrices\u001b[0;34m(self, X, y)\u001b[0m\n\u001b[1;32m    470\u001b[0m sample_weights \u001b[39m=\u001b[39m []\n\u001b[1;32m    471\u001b[0m \u001b[39mfor\u001b[39;00m this_class \u001b[39min\u001b[39;00m \u001b[39mself\u001b[39m\u001b[39m.\u001b[39m_classes:\n\u001b[0;32m--> 472\u001b[0m     cov, weight \u001b[39m=\u001b[39m cov_estimator(X[y \u001b[39m==\u001b[39;49m this_class])\n\u001b[1;32m    474\u001b[0m     \u001b[39mif\u001b[39;00m \u001b[39mself\u001b[39m\u001b[39m.\u001b[39mnorm_trace:\n\u001b[1;32m    475\u001b[0m         cov \u001b[39m/\u001b[39m\u001b[39m=\u001b[39m np\u001b[39m.\u001b[39mtrace(cov)\n",
      "File \u001b[0;32m~/opt/anaconda3/lib/python3.9/site-packages/mne/decoding/csp.py:488\u001b[0m, in \u001b[0;36mCSP._concat_cov\u001b[0;34m(self, x_class)\u001b[0m\n\u001b[1;32m    486\u001b[0m x_class \u001b[39m=\u001b[39m np\u001b[39m.\u001b[39mtranspose(x_class, [\u001b[39m1\u001b[39m, \u001b[39m0\u001b[39m, \u001b[39m2\u001b[39m])\n\u001b[1;32m    487\u001b[0m x_class \u001b[39m=\u001b[39m x_class\u001b[39m.\u001b[39mreshape(n_channels, \u001b[39m-\u001b[39m\u001b[39m1\u001b[39m)\n\u001b[0;32m--> 488\u001b[0m cov \u001b[39m=\u001b[39m _regularized_covariance(\n\u001b[1;32m    489\u001b[0m     x_class, reg\u001b[39m=\u001b[39;49m\u001b[39mself\u001b[39;49m\u001b[39m.\u001b[39;49mreg, method_params\u001b[39m=\u001b[39;49m\u001b[39mself\u001b[39;49m\u001b[39m.\u001b[39;49mcov_method_params,\n\u001b[1;32m    490\u001b[0m     rank\u001b[39m=\u001b[39;49m\u001b[39mself\u001b[39;49m\u001b[39m.\u001b[39;49mrank)\n\u001b[1;32m    491\u001b[0m weight \u001b[39m=\u001b[39m x_class\u001b[39m.\u001b[39mshape[\u001b[39m0\u001b[39m]\n\u001b[1;32m    493\u001b[0m \u001b[39mreturn\u001b[39;00m cov, weight\n",
      "File \u001b[0;32m~/opt/anaconda3/lib/python3.9/site-packages/mne/cov.py:1759\u001b[0m, in \u001b[0;36m_regularized_covariance\u001b[0;34m(data, reg, method_params, info, rank)\u001b[0m\n\u001b[1;32m   1757\u001b[0m picks_list \u001b[39m=\u001b[39m _picks_by_type(info)\n\u001b[1;32m   1758\u001b[0m scalings \u001b[39m=\u001b[39m _handle_default(\u001b[39m'\u001b[39m\u001b[39mscalings_cov_rank\u001b[39m\u001b[39m'\u001b[39m, \u001b[39mNone\u001b[39;00m)\n\u001b[0;32m-> 1759\u001b[0m cov \u001b[39m=\u001b[39m _compute_covariance_auto(\n\u001b[1;32m   1760\u001b[0m     data\u001b[39m.\u001b[39;49mT, method\u001b[39m=\u001b[39;49mmethod, method_params\u001b[39m=\u001b[39;49mmethod_params,\n\u001b[1;32m   1761\u001b[0m     info\u001b[39m=\u001b[39;49minfo, cv\u001b[39m=\u001b[39;49m\u001b[39mNone\u001b[39;49;00m, n_jobs\u001b[39m=\u001b[39;49m\u001b[39mNone\u001b[39;49;00m, stop_early\u001b[39m=\u001b[39;49m\u001b[39mTrue\u001b[39;49;00m,\n\u001b[1;32m   1762\u001b[0m     picks_list\u001b[39m=\u001b[39;49mpicks_list, scalings\u001b[39m=\u001b[39;49mscalings,\n\u001b[1;32m   1763\u001b[0m     rank\u001b[39m=\u001b[39;49mrank)[reg][\u001b[39m'\u001b[39m\u001b[39mdata\u001b[39m\u001b[39m'\u001b[39m]\n\u001b[1;32m   1764\u001b[0m \u001b[39mreturn\u001b[39;00m cov\n",
      "File \u001b[0;32m~/opt/anaconda3/lib/python3.9/site-packages/mne/cov.py:1028\u001b[0m, in \u001b[0;36m_compute_covariance_auto\u001b[0;34m(data, method, info, method_params, cv, scalings, n_jobs, stop_early, picks_list, rank)\u001b[0m\n\u001b[1;32m   1026\u001b[0m \u001b[39m# rescale to improve numerical stability\u001b[39;00m\n\u001b[1;32m   1027\u001b[0m orig_rank \u001b[39m=\u001b[39m rank\n\u001b[0;32m-> 1028\u001b[0m rank \u001b[39m=\u001b[39m compute_rank(\n\u001b[1;32m   1029\u001b[0m     RawArray(data\u001b[39m.\u001b[39;49mT, info, copy\u001b[39m=\u001b[39;49m\u001b[39mNone\u001b[39;49;00m, verbose\u001b[39m=\u001b[39;49m_verbose_safe_false()),\n\u001b[1;32m   1030\u001b[0m     rank, scalings, info)\n\u001b[1;32m   1031\u001b[0m \u001b[39mwith\u001b[39;00m _scaled_array(data\u001b[39m.\u001b[39mT, picks_list, scalings):\n\u001b[1;32m   1032\u001b[0m     C \u001b[39m=\u001b[39m np\u001b[39m.\u001b[39mdot(data\u001b[39m.\u001b[39mT, data)\n",
      "File \u001b[0;32m<decorator-gen-96>:12\u001b[0m, in \u001b[0;36mcompute_rank\u001b[0;34m(inst, rank, scalings, info, tol, proj, tol_kind, on_rank_mismatch, verbose)\u001b[0m\n",
      "File \u001b[0;32m~/opt/anaconda3/lib/python3.9/site-packages/mne/rank.py:397\u001b[0m, in \u001b[0;36mcompute_rank\u001b[0;34m(inst, rank, scalings, info, tol, proj, tol_kind, on_rank_mismatch, verbose)\u001b[0m\n\u001b[1;32m    395\u001b[0m     \u001b[39mif\u001b[39;00m proj:\n\u001b[1;32m    396\u001b[0m         data \u001b[39m=\u001b[39m np\u001b[39m.\u001b[39mdot(proj_op, data)\n\u001b[0;32m--> 397\u001b[0m     this_rank \u001b[39m=\u001b[39m _estimate_rank_meeg_signals(\n\u001b[1;32m    398\u001b[0m         data, pick_info(simple_info, picks), scalings, tol, \u001b[39mFalse\u001b[39;49;00m,\n\u001b[1;32m    399\u001b[0m         tol_kind)\n\u001b[1;32m    400\u001b[0m \u001b[39melse\u001b[39;00m:\n\u001b[1;32m    401\u001b[0m     \u001b[39massert\u001b[39;00m \u001b[39misinstance\u001b[39m(inst, Covariance)\n",
      "File \u001b[0;32m~/opt/anaconda3/lib/python3.9/site-packages/mne/rank.py:160\u001b[0m, in \u001b[0;36m_estimate_rank_meeg_signals\u001b[0;34m(data, info, scalings, tol, return_singular, tol_kind)\u001b[0m\n\u001b[1;32m    157\u001b[0m     \u001b[39mValueError\u001b[39;00m(\u001b[39m\"\u001b[39m\u001b[39mYou\u001b[39m\u001b[39m'\u001b[39m\u001b[39mve got fewer samples than channels, your \u001b[39m\u001b[39m\"\u001b[39m\n\u001b[1;32m    158\u001b[0m                \u001b[39m\"\u001b[39m\u001b[39mrank estimate might be inaccurate.\u001b[39m\u001b[39m\"\u001b[39m)\n\u001b[1;32m    159\u001b[0m \u001b[39mwith\u001b[39;00m _scaled_array(data, picks_list, scalings):\n\u001b[0;32m--> 160\u001b[0m     out \u001b[39m=\u001b[39m estimate_rank(data, tol\u001b[39m=\u001b[39;49mtol, norm\u001b[39m=\u001b[39;49m\u001b[39mFalse\u001b[39;49;00m,\n\u001b[1;32m    161\u001b[0m                         return_singular\u001b[39m=\u001b[39;49mreturn_singular,\n\u001b[1;32m    162\u001b[0m                         tol_kind\u001b[39m=\u001b[39;49mtol_kind)\n\u001b[1;32m    163\u001b[0m rank \u001b[39m=\u001b[39m out[\u001b[39m0\u001b[39m] \u001b[39mif\u001b[39;00m \u001b[39misinstance\u001b[39m(out, \u001b[39mtuple\u001b[39m) \u001b[39melse\u001b[39;00m out\n\u001b[1;32m    164\u001b[0m ch_type \u001b[39m=\u001b[39m \u001b[39m'\u001b[39m\u001b[39m + \u001b[39m\u001b[39m'\u001b[39m\u001b[39m.\u001b[39mjoin(\u001b[39mlist\u001b[39m(\u001b[39mzip\u001b[39m(\u001b[39m*\u001b[39mpicks_list))[\u001b[39m0\u001b[39m])\n",
      "File \u001b[0;32m<decorator-gen-93>:12\u001b[0m, in \u001b[0;36mestimate_rank\u001b[0;34m(data, tol, return_singular, norm, tol_kind, verbose)\u001b[0m\n",
      "File \u001b[0;32m~/opt/anaconda3/lib/python3.9/site-packages/mne/rank.py:55\u001b[0m, in \u001b[0;36mestimate_rank\u001b[0;34m(data, tol, return_singular, norm, tol_kind, verbose)\u001b[0m\n\u001b[1;32m     53\u001b[0m     norms \u001b[39m=\u001b[39m _compute_row_norms(data)\n\u001b[1;32m     54\u001b[0m     data \u001b[39m/\u001b[39m\u001b[39m=\u001b[39m norms[:, np\u001b[39m.\u001b[39mnewaxis]\n\u001b[0;32m---> 55\u001b[0m s \u001b[39m=\u001b[39m linalg\u001b[39m.\u001b[39;49msvdvals(data)\n\u001b[1;32m     56\u001b[0m rank \u001b[39m=\u001b[39m _estimate_rank_from_s(s, tol, tol_kind)\n\u001b[1;32m     57\u001b[0m \u001b[39mif\u001b[39;00m return_singular \u001b[39mis\u001b[39;00m \u001b[39mTrue\u001b[39;00m:\n",
      "File \u001b[0;32m~/opt/anaconda3/lib/python3.9/site-packages/scipy/linalg/_decomp_svd.py:223\u001b[0m, in \u001b[0;36msvdvals\u001b[0;34m(a, overwrite_a, check_finite)\u001b[0m\n\u001b[1;32m    141\u001b[0m \u001b[39mdef\u001b[39;00m \u001b[39msvdvals\u001b[39m(a, overwrite_a\u001b[39m=\u001b[39m\u001b[39mFalse\u001b[39;00m, check_finite\u001b[39m=\u001b[39m\u001b[39mTrue\u001b[39;00m):\n\u001b[1;32m    142\u001b[0m     \u001b[39m\"\"\"\u001b[39;00m\n\u001b[1;32m    143\u001b[0m \u001b[39m    Compute singular values of a matrix.\u001b[39;00m\n\u001b[1;32m    144\u001b[0m \n\u001b[0;32m   (...)\u001b[0m\n\u001b[1;32m    221\u001b[0m \n\u001b[1;32m    222\u001b[0m \u001b[39m    \"\"\"\u001b[39;00m\n\u001b[0;32m--> 223\u001b[0m     a \u001b[39m=\u001b[39m _asarray_validated(a, check_finite\u001b[39m=\u001b[39;49mcheck_finite)\n\u001b[1;32m    224\u001b[0m     \u001b[39mif\u001b[39;00m a\u001b[39m.\u001b[39msize:\n\u001b[1;32m    225\u001b[0m         \u001b[39mreturn\u001b[39;00m svd(a, compute_uv\u001b[39m=\u001b[39m\u001b[39m0\u001b[39m, overwrite_a\u001b[39m=\u001b[39moverwrite_a,\n\u001b[1;32m    226\u001b[0m                    check_finite\u001b[39m=\u001b[39m\u001b[39mFalse\u001b[39;00m)\n",
      "File \u001b[0;32m~/opt/anaconda3/lib/python3.9/site-packages/scipy/_lib/_util.py:287\u001b[0m, in \u001b[0;36m_asarray_validated\u001b[0;34m(a, check_finite, sparse_ok, objects_ok, mask_ok, as_inexact)\u001b[0m\n\u001b[1;32m    285\u001b[0m         \u001b[39mraise\u001b[39;00m \u001b[39mValueError\u001b[39;00m(\u001b[39m'\u001b[39m\u001b[39mmasked arrays are not supported\u001b[39m\u001b[39m'\u001b[39m)\n\u001b[1;32m    286\u001b[0m toarray \u001b[39m=\u001b[39m np\u001b[39m.\u001b[39masarray_chkfinite \u001b[39mif\u001b[39;00m check_finite \u001b[39melse\u001b[39;00m np\u001b[39m.\u001b[39masarray\n\u001b[0;32m--> 287\u001b[0m a \u001b[39m=\u001b[39m toarray(a)\n\u001b[1;32m    288\u001b[0m \u001b[39mif\u001b[39;00m \u001b[39mnot\u001b[39;00m objects_ok:\n\u001b[1;32m    289\u001b[0m     \u001b[39mif\u001b[39;00m a\u001b[39m.\u001b[39mdtype \u001b[39mis\u001b[39;00m np\u001b[39m.\u001b[39mdtype(\u001b[39m'\u001b[39m\u001b[39mO\u001b[39m\u001b[39m'\u001b[39m):\n",
      "File \u001b[0;32m~/opt/anaconda3/lib/python3.9/site-packages/numpy/lib/function_base.py:488\u001b[0m, in \u001b[0;36masarray_chkfinite\u001b[0;34m(a, dtype, order)\u001b[0m\n\u001b[1;32m    486\u001b[0m a \u001b[39m=\u001b[39m asarray(a, dtype\u001b[39m=\u001b[39mdtype, order\u001b[39m=\u001b[39morder)\n\u001b[1;32m    487\u001b[0m \u001b[39mif\u001b[39;00m a\u001b[39m.\u001b[39mdtype\u001b[39m.\u001b[39mchar \u001b[39min\u001b[39;00m typecodes[\u001b[39m'\u001b[39m\u001b[39mAllFloat\u001b[39m\u001b[39m'\u001b[39m] \u001b[39mand\u001b[39;00m \u001b[39mnot\u001b[39;00m np\u001b[39m.\u001b[39misfinite(a)\u001b[39m.\u001b[39mall():\n\u001b[0;32m--> 488\u001b[0m     \u001b[39mraise\u001b[39;00m \u001b[39mValueError\u001b[39;00m(\n\u001b[1;32m    489\u001b[0m         \u001b[39m\"\u001b[39m\u001b[39marray must not contain infs or NaNs\u001b[39m\u001b[39m\"\u001b[39m)\n\u001b[1;32m    490\u001b[0m \u001b[39mreturn\u001b[39;00m a\n",
      "\u001b[0;31mValueError\u001b[0m: array must not contain infs or NaNs"
     ]
    }
   ],
   "source": [
    "features_train=[]\n",
    "features_test=[]\n",
    "freq=[8,12,16,20,24,28,32]\n",
    "for freq_count in range(len(freq)):\n",
    "#loop for freqency\n",
    "    lower=freq[freq_count]\n",
    "    if lower==freq[-1]:\n",
    "        break\n",
    "    higher=freq[freq_count+1]\n",
    "    X_train_filt=butter_bandpass_filter(X_train,lowcut=lower,highcut=higher,fs=1024,order=8)\n",
    "    X_test_filt=butter_bandpass_filter(X_test,lowcut=lower,highcut=higher,fs=1024,order=8)\n",
    "    tmp_train=csp.fit_transform(X_train_filt,Y_train)\n",
    "    tmp_test=csp.transform(X_test_filt)\n",
    "    if freq_count==0:\n",
    "        features_train=tmp_train\n",
    "        features_test=tmp_test\n",
    "    else:\n",
    "        features_train=np.concatenate((features_train,tmp_train),axis=1)\n",
    "        features_test=np.concatenate((features_test,tmp_test),axis=1)\n",
    "print(features_train.shape)\n",
    "print(features_test.shape)"
   ]
  },
  {
   "cell_type": "code",
   "execution_count": null,
   "metadata": {},
   "outputs": [],
   "source": [
    "select_K=sklearn.feature_selection.SelectKBest(mutual_info_classif,k=10).fit(features_train,Y_train)\n",
    "New_train=select_K.transform(features_train)\n",
    "#np.random.shuffle(New_train)\n",
    "New_test=select_K.transform(features_test)\n",
    "#np.random.shuffle(New_test)\n",
    "print(New_train.shape)\n",
    "print(New_test.shape)\n",
    "ss = preprocessing.StandardScaler()\n",
    "X_select_train = ss.fit_transform(New_train,Y_train)\n",
    "X_select_test = ss.fit_transform(New_test)"
   ]
  },
  {
   "cell_type": "code",
   "execution_count": null,
   "metadata": {},
   "outputs": [],
   "source": [
    "from sklearn.svm import SVC\n",
    "clf=svm.SVC(C=0.8,kernel='rbf')\n",
    "clf.fit(X_select_train,Y_train)\n",
    "y_pred=clf.predict(X_select_test)\n",
    "print(Y_test)\n",
    "print(y_pred)\n",
    "acc=accuracy_score(Y_test,y_pred)\n",
    "print(acc)"
   ]
  }
 ],
 "metadata": {
  "kernelspec": {
   "display_name": "base",
   "language": "python",
   "name": "python3"
  },
  "language_info": {
   "codemirror_mode": {
    "name": "ipython",
    "version": 3
   },
   "file_extension": ".py",
   "mimetype": "text/x-python",
   "name": "python",
   "nbconvert_exporter": "python",
   "pygments_lexer": "ipython3",
   "version": "3.9.13"
  },
  "orig_nbformat": 4,
  "vscode": {
   "interpreter": {
    "hash": "68330a0c3a73c8a9ab17a58db04a4bc84979ee9d5927a73e0795658af7e94545"
   }
  }
 },
 "nbformat": 4,
 "nbformat_minor": 2
}
