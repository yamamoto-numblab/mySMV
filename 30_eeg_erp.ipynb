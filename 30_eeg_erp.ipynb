{
  "cells": [
    {
      "cell_type": "code",
      "execution_count": 1,
      "metadata": {
        "collapsed": false
      },
      "outputs": [],
      "source": [
        "%matplotlib inline"
      ]
    },
    {
      "cell_type": "markdown",
      "metadata": {},
      "source": [
        "\n",
        "\n",
        "# EEG analysis - Event-Related Potentials (ERPs)\n",
        "\n",
        "This tutorial shows how to perform standard ERP analyses in MNE-Python. Most of\n",
        "the material here is covered in other tutorials too, but for convenience the\n",
        "functions and methods most useful for ERP analyses are collected here, with\n",
        "links to other tutorials where more detailed information is given.\n",
        "\n",
        "As usual we'll start by importing the modules we need and loading some example\n",
        "data. Instead of parsing the events from the raw data's :term:`stim channel`\n",
        "(like we do in `this tutorial <tut-events-vs-annotations>`), we'll load\n",
        "the events from an external events file. Finally, to speed up computations\n",
        "we'll crop the raw data from ~4.5 minutes down to 90 seconds.\n"
      ]
    },
    {
      "cell_type": "code",
      "execution_count": 2,
      "metadata": {
        "collapsed": false
      },
      "outputs": [
        {
          "name": "stdout",
          "output_type": "stream",
          "text": [
            "Using default location ~/mne_data for sample...\n",
            "Creating ~/mne_data\n"
          ]
        },
        {
          "name": "stderr",
          "output_type": "stream",
          "text": [
            "Downloading file 'MNE-sample-data-processed.tar.gz' from 'https://osf.io/86qa2/download?version=6' to '/Users/yaman/mne_data'.\n",
            "  5%|█▉                                    | 83.4M/1.65G [00:52<28:41, 912kB/s]"
          ]
        },
        {
          "ename": "KeyboardInterrupt",
          "evalue": "",
          "output_type": "error",
          "traceback": [
            "\u001b[0;31m---------------------------------------------------------------------------\u001b[0m",
            "\u001b[0;31mKeyboardInterrupt\u001b[0m                         Traceback (most recent call last)",
            "\u001b[1;32m/Users/yaman/Documents/GitHub/mySMV/30_eeg_erp.ipynb セル 3\u001b[0m in \u001b[0;36m<cell line: 6>\u001b[0;34m()\u001b[0m\n\u001b[1;32m      <a href='vscode-notebook-cell:/Users/yaman/Documents/GitHub/mySMV/30_eeg_erp.ipynb#W2sZmlsZQ%3D%3D?line=2'>3</a>\u001b[0m \u001b[39mimport\u001b[39;00m \u001b[39mmatplotlib\u001b[39;00m\u001b[39m.\u001b[39;00m\u001b[39mpyplot\u001b[39;00m \u001b[39mas\u001b[39;00m \u001b[39mplt\u001b[39;00m\n\u001b[1;32m      <a href='vscode-notebook-cell:/Users/yaman/Documents/GitHub/mySMV/30_eeg_erp.ipynb#W2sZmlsZQ%3D%3D?line=3'>4</a>\u001b[0m \u001b[39mimport\u001b[39;00m \u001b[39mmne\u001b[39;00m\n\u001b[0;32m----> <a href='vscode-notebook-cell:/Users/yaman/Documents/GitHub/mySMV/30_eeg_erp.ipynb#W2sZmlsZQ%3D%3D?line=5'>6</a>\u001b[0m root \u001b[39m=\u001b[39m mne\u001b[39m.\u001b[39;49mdatasets\u001b[39m.\u001b[39;49msample\u001b[39m.\u001b[39;49mdata_path() \u001b[39m/\u001b[39m \u001b[39m'\u001b[39m\u001b[39mMEG\u001b[39m\u001b[39m'\u001b[39m \u001b[39m/\u001b[39m \u001b[39m'\u001b[39m\u001b[39msample\u001b[39m\u001b[39m'\u001b[39m\n\u001b[1;32m      <a href='vscode-notebook-cell:/Users/yaman/Documents/GitHub/mySMV/30_eeg_erp.ipynb#W2sZmlsZQ%3D%3D?line=6'>7</a>\u001b[0m raw_file \u001b[39m=\u001b[39m root \u001b[39m/\u001b[39m \u001b[39m'\u001b[39m\u001b[39msample_audvis_filt-0-40_raw.fif\u001b[39m\u001b[39m'\u001b[39m\n\u001b[1;32m      <a href='vscode-notebook-cell:/Users/yaman/Documents/GitHub/mySMV/30_eeg_erp.ipynb#W2sZmlsZQ%3D%3D?line=7'>8</a>\u001b[0m raw \u001b[39m=\u001b[39m mne\u001b[39m.\u001b[39mio\u001b[39m.\u001b[39mread_raw_fif(raw_file, preload\u001b[39m=\u001b[39m\u001b[39mFalse\u001b[39;00m)\n",
            "File \u001b[0;32m<decorator-gen-570>:12\u001b[0m, in \u001b[0;36mdata_path\u001b[0;34m(path, force_update, update_path, download, verbose)\u001b[0m\n",
            "File \u001b[0;32m~/opt/anaconda3/lib/python3.9/site-packages/mne/datasets/sample/sample.py:14\u001b[0m, in \u001b[0;36mdata_path\u001b[0;34m(path, force_update, update_path, download, verbose)\u001b[0m\n\u001b[1;32m     11\u001b[0m \u001b[39m@verbose\u001b[39m\n\u001b[1;32m     12\u001b[0m \u001b[39mdef\u001b[39;00m \u001b[39mdata_path\u001b[39m(path\u001b[39m=\u001b[39m\u001b[39mNone\u001b[39;00m, force_update\u001b[39m=\u001b[39m\u001b[39mFalse\u001b[39;00m, update_path\u001b[39m=\u001b[39m\u001b[39mTrue\u001b[39;00m,\n\u001b[1;32m     13\u001b[0m               download\u001b[39m=\u001b[39m\u001b[39mTrue\u001b[39;00m, \u001b[39m*\u001b[39m, verbose\u001b[39m=\u001b[39m\u001b[39mNone\u001b[39;00m):  \u001b[39m# noqa: D103\u001b[39;00m\n\u001b[0;32m---> 14\u001b[0m     \u001b[39mreturn\u001b[39;00m _download_mne_dataset(\n\u001b[1;32m     15\u001b[0m         name\u001b[39m=\u001b[39;49m\u001b[39m'\u001b[39;49m\u001b[39msample\u001b[39;49m\u001b[39m'\u001b[39;49m, processor\u001b[39m=\u001b[39;49m\u001b[39m'\u001b[39;49m\u001b[39muntar\u001b[39;49m\u001b[39m'\u001b[39;49m, path\u001b[39m=\u001b[39;49mpath,\n\u001b[1;32m     16\u001b[0m         force_update\u001b[39m=\u001b[39;49mforce_update, update_path\u001b[39m=\u001b[39;49mupdate_path,\n\u001b[1;32m     17\u001b[0m         download\u001b[39m=\u001b[39;49mdownload)\n",
            "File \u001b[0;32m~/opt/anaconda3/lib/python3.9/site-packages/mne/datasets/utils.py:225\u001b[0m, in \u001b[0;36m_download_mne_dataset\u001b[0;34m(name, processor, path, force_update, update_path, download, accept)\u001b[0m\n\u001b[1;32m    222\u001b[0m         this_dataset[\u001b[39m'\u001b[39m\u001b[39mdataset_name\u001b[39m\u001b[39m'\u001b[39m] \u001b[39m=\u001b[39m name\n\u001b[1;32m    223\u001b[0m         dataset_params\u001b[39m.\u001b[39mappend(this_dataset)\n\u001b[0;32m--> 225\u001b[0m \u001b[39mreturn\u001b[39;00m fetch_dataset(dataset_params\u001b[39m=\u001b[39;49mdataset_params, processor\u001b[39m=\u001b[39;49mprocessor_,\n\u001b[1;32m    226\u001b[0m                      path\u001b[39m=\u001b[39;49mpath, force_update\u001b[39m=\u001b[39;49mforce_update,\n\u001b[1;32m    227\u001b[0m                      update_path\u001b[39m=\u001b[39;49mupdate_path, download\u001b[39m=\u001b[39;49mdownload,\n\u001b[1;32m    228\u001b[0m                      accept\u001b[39m=\u001b[39;49maccept)\n",
            "File \u001b[0;32m~/opt/anaconda3/lib/python3.9/site-packages/mne/datasets/_fetch.py:259\u001b[0m, in \u001b[0;36mfetch_dataset\u001b[0;34m(dataset_params, processor, path, force_update, update_path, download, check_version, return_version, accept, auth, token)\u001b[0m\n\u001b[1;32m    256\u001b[0m \u001b[39mfor\u001b[39;00m idx \u001b[39min\u001b[39;00m \u001b[39mrange\u001b[39m(\u001b[39mlen\u001b[39m(names)):\n\u001b[1;32m    257\u001b[0m     \u001b[39m# fetch and unpack the data\u001b[39;00m\n\u001b[1;32m    258\u001b[0m     archive_name \u001b[39m=\u001b[39m dataset_params[idx][\u001b[39m\"\u001b[39m\u001b[39marchive_name\u001b[39m\u001b[39m\"\u001b[39m]\n\u001b[0;32m--> 259\u001b[0m     fetcher\u001b[39m.\u001b[39;49mfetch(\n\u001b[1;32m    260\u001b[0m         fname\u001b[39m=\u001b[39;49marchive_name, downloader\u001b[39m=\u001b[39;49mdownloader, processor\u001b[39m=\u001b[39;49mprocessor\n\u001b[1;32m    261\u001b[0m     )\n\u001b[1;32m    262\u001b[0m     \u001b[39m# after unpacking, remove the archive file\u001b[39;00m\n\u001b[1;32m    263\u001b[0m     \u001b[39mif\u001b[39;00m processor \u001b[39mis\u001b[39;00m \u001b[39mnot\u001b[39;00m \u001b[39mNone\u001b[39;00m:\n",
            "File \u001b[0;32m~/opt/anaconda3/lib/python3.9/site-packages/pooch/core.py:587\u001b[0m, in \u001b[0;36mPooch.fetch\u001b[0;34m(self, fname, processor, downloader, progressbar)\u001b[0m\n\u001b[1;32m    584\u001b[0m     \u001b[39mif\u001b[39;00m downloader \u001b[39mis\u001b[39;00m \u001b[39mNone\u001b[39;00m:\n\u001b[1;32m    585\u001b[0m         downloader \u001b[39m=\u001b[39m choose_downloader(url, progressbar\u001b[39m=\u001b[39mprogressbar)\n\u001b[0;32m--> 587\u001b[0m     stream_download(\n\u001b[1;32m    588\u001b[0m         url,\n\u001b[1;32m    589\u001b[0m         full_path,\n\u001b[1;32m    590\u001b[0m         known_hash,\n\u001b[1;32m    591\u001b[0m         downloader,\n\u001b[1;32m    592\u001b[0m         pooch\u001b[39m=\u001b[39;49m\u001b[39mself\u001b[39;49m,\n\u001b[1;32m    593\u001b[0m         retry_if_failed\u001b[39m=\u001b[39;49m\u001b[39mself\u001b[39;49m\u001b[39m.\u001b[39;49mretry_if_failed,\n\u001b[1;32m    594\u001b[0m     )\n\u001b[1;32m    596\u001b[0m \u001b[39mif\u001b[39;00m processor \u001b[39mis\u001b[39;00m \u001b[39mnot\u001b[39;00m \u001b[39mNone\u001b[39;00m:\n\u001b[1;32m    597\u001b[0m     \u001b[39mreturn\u001b[39;00m processor(\u001b[39mstr\u001b[39m(full_path), action, \u001b[39mself\u001b[39m)\n",
            "File \u001b[0;32m~/opt/anaconda3/lib/python3.9/site-packages/pooch/core.py:772\u001b[0m, in \u001b[0;36mstream_download\u001b[0;34m(url, fname, known_hash, downloader, pooch, retry_if_failed)\u001b[0m\n\u001b[1;32m    768\u001b[0m \u001b[39mtry\u001b[39;00m:\n\u001b[1;32m    769\u001b[0m     \u001b[39m# Stream the file to a temporary so that we can safely check its\u001b[39;00m\n\u001b[1;32m    770\u001b[0m     \u001b[39m# hash before overwriting the original.\u001b[39;00m\n\u001b[1;32m    771\u001b[0m     \u001b[39mwith\u001b[39;00m temporary_file(path\u001b[39m=\u001b[39m\u001b[39mstr\u001b[39m(fname\u001b[39m.\u001b[39mparent)) \u001b[39mas\u001b[39;00m tmp:\n\u001b[0;32m--> 772\u001b[0m         downloader(url, tmp, pooch)\n\u001b[1;32m    773\u001b[0m         hash_matches(tmp, known_hash, strict\u001b[39m=\u001b[39m\u001b[39mTrue\u001b[39;00m, source\u001b[39m=\u001b[39m\u001b[39mstr\u001b[39m(fname\u001b[39m.\u001b[39mname))\n\u001b[1;32m    774\u001b[0m         shutil\u001b[39m.\u001b[39mmove(tmp, \u001b[39mstr\u001b[39m(fname))\n",
            "File \u001b[0;32m~/opt/anaconda3/lib/python3.9/site-packages/pooch/downloaders.py:209\u001b[0m, in \u001b[0;36mHTTPDownloader.__call__\u001b[0;34m(self, url, output_file, pooch)\u001b[0m\n\u001b[1;32m    207\u001b[0m     progress \u001b[39m=\u001b[39m \u001b[39mself\u001b[39m\u001b[39m.\u001b[39mprogressbar\n\u001b[1;32m    208\u001b[0m     progress\u001b[39m.\u001b[39mtotal \u001b[39m=\u001b[39m total\n\u001b[0;32m--> 209\u001b[0m \u001b[39mfor\u001b[39;00m chunk \u001b[39min\u001b[39;00m content:\n\u001b[1;32m    210\u001b[0m     \u001b[39mif\u001b[39;00m chunk:\n\u001b[1;32m    211\u001b[0m         output_file\u001b[39m.\u001b[39mwrite(chunk)\n",
            "File \u001b[0;32m~/opt/anaconda3/lib/python3.9/site-packages/requests/models.py:816\u001b[0m, in \u001b[0;36mResponse.iter_content.<locals>.generate\u001b[0;34m()\u001b[0m\n\u001b[1;32m    814\u001b[0m \u001b[39mif\u001b[39;00m \u001b[39mhasattr\u001b[39m(\u001b[39mself\u001b[39m\u001b[39m.\u001b[39mraw, \u001b[39m\"\u001b[39m\u001b[39mstream\u001b[39m\u001b[39m\"\u001b[39m):\n\u001b[1;32m    815\u001b[0m     \u001b[39mtry\u001b[39;00m:\n\u001b[0;32m--> 816\u001b[0m         \u001b[39myield from\u001b[39;00m \u001b[39mself\u001b[39m\u001b[39m.\u001b[39mraw\u001b[39m.\u001b[39mstream(chunk_size, decode_content\u001b[39m=\u001b[39m\u001b[39mTrue\u001b[39;00m)\n\u001b[1;32m    817\u001b[0m     \u001b[39mexcept\u001b[39;00m ProtocolError \u001b[39mas\u001b[39;00m e:\n\u001b[1;32m    818\u001b[0m         \u001b[39mraise\u001b[39;00m ChunkedEncodingError(e)\n",
            "File \u001b[0;32m~/opt/anaconda3/lib/python3.9/site-packages/urllib3/response.py:627\u001b[0m, in \u001b[0;36mHTTPResponse.stream\u001b[0;34m(self, amt, decode_content)\u001b[0m\n\u001b[1;32m    625\u001b[0m \u001b[39melse\u001b[39;00m:\n\u001b[1;32m    626\u001b[0m     \u001b[39mwhile\u001b[39;00m \u001b[39mnot\u001b[39;00m is_fp_closed(\u001b[39mself\u001b[39m\u001b[39m.\u001b[39m_fp):\n\u001b[0;32m--> 627\u001b[0m         data \u001b[39m=\u001b[39m \u001b[39mself\u001b[39;49m\u001b[39m.\u001b[39;49mread(amt\u001b[39m=\u001b[39;49mamt, decode_content\u001b[39m=\u001b[39;49mdecode_content)\n\u001b[1;32m    629\u001b[0m         \u001b[39mif\u001b[39;00m data:\n\u001b[1;32m    630\u001b[0m             \u001b[39myield\u001b[39;00m data\n",
            "File \u001b[0;32m~/opt/anaconda3/lib/python3.9/site-packages/urllib3/response.py:566\u001b[0m, in \u001b[0;36mHTTPResponse.read\u001b[0;34m(self, amt, decode_content, cache_content)\u001b[0m\n\u001b[1;32m    563\u001b[0m fp_closed \u001b[39m=\u001b[39m \u001b[39mgetattr\u001b[39m(\u001b[39mself\u001b[39m\u001b[39m.\u001b[39m_fp, \u001b[39m\"\u001b[39m\u001b[39mclosed\u001b[39m\u001b[39m\"\u001b[39m, \u001b[39mFalse\u001b[39;00m)\n\u001b[1;32m    565\u001b[0m \u001b[39mwith\u001b[39;00m \u001b[39mself\u001b[39m\u001b[39m.\u001b[39m_error_catcher():\n\u001b[0;32m--> 566\u001b[0m     data \u001b[39m=\u001b[39m \u001b[39mself\u001b[39;49m\u001b[39m.\u001b[39;49m_fp_read(amt) \u001b[39mif\u001b[39;00m \u001b[39mnot\u001b[39;00m fp_closed \u001b[39melse\u001b[39;00m \u001b[39mb\u001b[39m\u001b[39m\"\u001b[39m\u001b[39m\"\u001b[39m\n\u001b[1;32m    567\u001b[0m     \u001b[39mif\u001b[39;00m amt \u001b[39mis\u001b[39;00m \u001b[39mNone\u001b[39;00m:\n\u001b[1;32m    568\u001b[0m         flush_decoder \u001b[39m=\u001b[39m \u001b[39mTrue\u001b[39;00m\n",
            "File \u001b[0;32m~/opt/anaconda3/lib/python3.9/site-packages/urllib3/response.py:532\u001b[0m, in \u001b[0;36mHTTPResponse._fp_read\u001b[0;34m(self, amt)\u001b[0m\n\u001b[1;32m    529\u001b[0m     \u001b[39mreturn\u001b[39;00m buffer\u001b[39m.\u001b[39mgetvalue()\n\u001b[1;32m    530\u001b[0m \u001b[39melse\u001b[39;00m:\n\u001b[1;32m    531\u001b[0m     \u001b[39m# StringIO doesn't like amt=None\u001b[39;00m\n\u001b[0;32m--> 532\u001b[0m     \u001b[39mreturn\u001b[39;00m \u001b[39mself\u001b[39;49m\u001b[39m.\u001b[39;49m_fp\u001b[39m.\u001b[39;49mread(amt) \u001b[39mif\u001b[39;00m amt \u001b[39mis\u001b[39;00m \u001b[39mnot\u001b[39;00m \u001b[39mNone\u001b[39;00m \u001b[39melse\u001b[39;00m \u001b[39mself\u001b[39m\u001b[39m.\u001b[39m_fp\u001b[39m.\u001b[39mread()\n",
            "File \u001b[0;32m~/opt/anaconda3/lib/python3.9/http/client.py:463\u001b[0m, in \u001b[0;36mHTTPResponse.read\u001b[0;34m(self, amt)\u001b[0m\n\u001b[1;32m    460\u001b[0m \u001b[39mif\u001b[39;00m amt \u001b[39mis\u001b[39;00m \u001b[39mnot\u001b[39;00m \u001b[39mNone\u001b[39;00m:\n\u001b[1;32m    461\u001b[0m     \u001b[39m# Amount is given, implement using readinto\u001b[39;00m\n\u001b[1;32m    462\u001b[0m     b \u001b[39m=\u001b[39m \u001b[39mbytearray\u001b[39m(amt)\n\u001b[0;32m--> 463\u001b[0m     n \u001b[39m=\u001b[39m \u001b[39mself\u001b[39;49m\u001b[39m.\u001b[39;49mreadinto(b)\n\u001b[1;32m    464\u001b[0m     \u001b[39mreturn\u001b[39;00m \u001b[39mmemoryview\u001b[39m(b)[:n]\u001b[39m.\u001b[39mtobytes()\n\u001b[1;32m    465\u001b[0m \u001b[39melse\u001b[39;00m:\n\u001b[1;32m    466\u001b[0m     \u001b[39m# Amount is not given (unbounded read) so we must check self.length\u001b[39;00m\n\u001b[1;32m    467\u001b[0m     \u001b[39m# and self.chunked\u001b[39;00m\n",
            "File \u001b[0;32m~/opt/anaconda3/lib/python3.9/http/client.py:507\u001b[0m, in \u001b[0;36mHTTPResponse.readinto\u001b[0;34m(self, b)\u001b[0m\n\u001b[1;32m    502\u001b[0m         b \u001b[39m=\u001b[39m \u001b[39mmemoryview\u001b[39m(b)[\u001b[39m0\u001b[39m:\u001b[39mself\u001b[39m\u001b[39m.\u001b[39mlength]\n\u001b[1;32m    504\u001b[0m \u001b[39m# we do not use _safe_read() here because this may be a .will_close\u001b[39;00m\n\u001b[1;32m    505\u001b[0m \u001b[39m# connection, and the user is reading more bytes than will be provided\u001b[39;00m\n\u001b[1;32m    506\u001b[0m \u001b[39m# (for example, reading in 1k chunks)\u001b[39;00m\n\u001b[0;32m--> 507\u001b[0m n \u001b[39m=\u001b[39m \u001b[39mself\u001b[39;49m\u001b[39m.\u001b[39;49mfp\u001b[39m.\u001b[39;49mreadinto(b)\n\u001b[1;32m    508\u001b[0m \u001b[39mif\u001b[39;00m \u001b[39mnot\u001b[39;00m n \u001b[39mand\u001b[39;00m b:\n\u001b[1;32m    509\u001b[0m     \u001b[39m# Ideally, we would raise IncompleteRead if the content-length\u001b[39;00m\n\u001b[1;32m    510\u001b[0m     \u001b[39m# wasn't satisfied, but it might break compatibility.\u001b[39;00m\n\u001b[1;32m    511\u001b[0m     \u001b[39mself\u001b[39m\u001b[39m.\u001b[39m_close_conn()\n",
            "File \u001b[0;32m~/opt/anaconda3/lib/python3.9/socket.py:704\u001b[0m, in \u001b[0;36mSocketIO.readinto\u001b[0;34m(self, b)\u001b[0m\n\u001b[1;32m    702\u001b[0m \u001b[39mwhile\u001b[39;00m \u001b[39mTrue\u001b[39;00m:\n\u001b[1;32m    703\u001b[0m     \u001b[39mtry\u001b[39;00m:\n\u001b[0;32m--> 704\u001b[0m         \u001b[39mreturn\u001b[39;00m \u001b[39mself\u001b[39;49m\u001b[39m.\u001b[39;49m_sock\u001b[39m.\u001b[39;49mrecv_into(b)\n\u001b[1;32m    705\u001b[0m     \u001b[39mexcept\u001b[39;00m timeout:\n\u001b[1;32m    706\u001b[0m         \u001b[39mself\u001b[39m\u001b[39m.\u001b[39m_timeout_occurred \u001b[39m=\u001b[39m \u001b[39mTrue\u001b[39;00m\n",
            "File \u001b[0;32m~/opt/anaconda3/lib/python3.9/ssl.py:1242\u001b[0m, in \u001b[0;36mSSLSocket.recv_into\u001b[0;34m(self, buffer, nbytes, flags)\u001b[0m\n\u001b[1;32m   1238\u001b[0m     \u001b[39mif\u001b[39;00m flags \u001b[39m!=\u001b[39m \u001b[39m0\u001b[39m:\n\u001b[1;32m   1239\u001b[0m         \u001b[39mraise\u001b[39;00m \u001b[39mValueError\u001b[39;00m(\n\u001b[1;32m   1240\u001b[0m           \u001b[39m\"\u001b[39m\u001b[39mnon-zero flags not allowed in calls to recv_into() on \u001b[39m\u001b[39m%s\u001b[39;00m\u001b[39m\"\u001b[39m \u001b[39m%\u001b[39m\n\u001b[1;32m   1241\u001b[0m           \u001b[39mself\u001b[39m\u001b[39m.\u001b[39m\u001b[39m__class__\u001b[39m)\n\u001b[0;32m-> 1242\u001b[0m     \u001b[39mreturn\u001b[39;00m \u001b[39mself\u001b[39;49m\u001b[39m.\u001b[39;49mread(nbytes, buffer)\n\u001b[1;32m   1243\u001b[0m \u001b[39melse\u001b[39;00m:\n\u001b[1;32m   1244\u001b[0m     \u001b[39mreturn\u001b[39;00m \u001b[39msuper\u001b[39m()\u001b[39m.\u001b[39mrecv_into(buffer, nbytes, flags)\n",
            "File \u001b[0;32m~/opt/anaconda3/lib/python3.9/ssl.py:1100\u001b[0m, in \u001b[0;36mSSLSocket.read\u001b[0;34m(self, len, buffer)\u001b[0m\n\u001b[1;32m   1098\u001b[0m \u001b[39mtry\u001b[39;00m:\n\u001b[1;32m   1099\u001b[0m     \u001b[39mif\u001b[39;00m buffer \u001b[39mis\u001b[39;00m \u001b[39mnot\u001b[39;00m \u001b[39mNone\u001b[39;00m:\n\u001b[0;32m-> 1100\u001b[0m         \u001b[39mreturn\u001b[39;00m \u001b[39mself\u001b[39;49m\u001b[39m.\u001b[39;49m_sslobj\u001b[39m.\u001b[39;49mread(\u001b[39mlen\u001b[39;49m, buffer)\n\u001b[1;32m   1101\u001b[0m     \u001b[39melse\u001b[39;00m:\n\u001b[1;32m   1102\u001b[0m         \u001b[39mreturn\u001b[39;00m \u001b[39mself\u001b[39m\u001b[39m.\u001b[39m_sslobj\u001b[39m.\u001b[39mread(\u001b[39mlen\u001b[39m)\n",
            "\u001b[0;31mKeyboardInterrupt\u001b[0m: "
          ]
        },
        {
          "name": "stderr",
          "output_type": "stream",
          "text": [
            "  5%|█▉                                    | 83.5M/1.65G [01:10<28:41, 912kB/s]"
          ]
        }
      ],
      "source": [
        "import numpy as np\n",
        "import pandas as pd\n",
        "import matplotlib.pyplot as plt\n",
        "import mne\n",
        "\n",
        "root = mne.datasets.sample.data_path() / 'MEG' / 'sample'\n",
        "raw_file = root / 'sample_audvis_filt-0-40_raw.fif'\n",
        "raw = mne.io.read_raw_fif(raw_file, preload=False)\n",
        "\n",
        "events_file = root / 'sample_audvis_filt-0-40_raw-eve.fif'\n",
        "events = mne.read_events(events_file)\n",
        "\n",
        "raw.crop(tmax=90)  # in seconds (happens in-place)\n",
        "# discard events >90 seconds (not strictly necessary, but avoids some warnings)\n",
        "events = events[events[:, 0] <= raw.last_samp]"
      ]
    },
    {
      "cell_type": "markdown",
      "metadata": {},
      "source": [
        "The file that we loaded has already been partially processed: 3D sensor\n",
        "locations have been saved as part of the ``.fif`` file, the data have been\n",
        "low-pass filtered at 40 Hz, and a common average reference is set for the\n",
        "EEG channels, stored as a projector (see `section-avg-ref-proj` in the\n",
        "`tut-set-eeg-ref` tutorial for more info about when you may want to do\n",
        "this). We'll discuss how to do each of these below.\n",
        "\n",
        "Since this is a combined EEG/MEG dataset, let's start by restricting the data\n",
        "to just the EEG and EOG channels. This will cause the other projectors saved\n",
        "in the file (which apply only to magnetometer channels) to be removed. By\n",
        "looking at the measurement info we can see that we now have 59 EEG channels\n",
        "and 1 EOG channel.\n",
        "\n"
      ]
    },
    {
      "cell_type": "code",
      "execution_count": null,
      "metadata": {
        "collapsed": false
      },
      "outputs": [],
      "source": [
        "raw.pick(['eeg', 'eog']).load_data()\n",
        "raw.info"
      ]
    },
    {
      "cell_type": "markdown",
      "metadata": {},
      "source": [
        "## Channel names and types\n",
        "\n",
        "In practice it is quite common to have some channels labeled as EEG that are\n",
        "actually EOG channels. :class:`~mne.io.Raw` objects have a\n",
        ":meth:`~mne.io.Raw.set_channel_types` method that can be used to change a\n",
        "channel that is mislabeled as ``eeg`` to ``eog``.\n",
        "\n",
        "You can also rename channels using :meth:`~mne.io.Raw.rename_channels`.\n",
        "Detailed examples of both of these methods can be found in the tutorial\n",
        "`tut-raw-class`.\n",
        "\n",
        "In our data set, all channel types are already correct. Therefore, we'll only\n",
        "remove a space and a leading zero in the channel names and convert to\n",
        "lowercase:\n",
        "\n"
      ]
    },
    {
      "cell_type": "code",
      "execution_count": null,
      "metadata": {
        "collapsed": false
      },
      "outputs": [],
      "source": [
        "channel_renaming_dict = {name: name.replace(' 0', '').lower()\n",
        "                         for name in raw.ch_names}\n",
        "_ = raw.rename_channels(channel_renaming_dict)  # happens in-place"
      ]
    },
    {
      "cell_type": "markdown",
      "metadata": {},
      "source": [
        "<div class=\"alert alert-info\"><h4>Note</h4><p>The assignment to a temporary name ``_`` (the ``_ =`` part) is included\n",
        "    here to suppress automatic printing of the ``raw`` object. You do not\n",
        "    have to do this in your interactive analysis.</p></div>\n",
        "\n",
        "## Channel locations\n",
        "\n",
        "The tutorial `tut-sensor-locations` describes how sensor locations are\n",
        "handled in great detail. To briefly summarize: MNE-Python distinguishes\n",
        ":term:`montages <montage>` (which contain 3D sensor locations ``x``, ``y``,\n",
        "and ``z``, in meters) from :term:`layouts <layout>` (which define 2D sensor\n",
        "arrangements for plotting schematic sensor location diagrams). Additionally,\n",
        "montages may specify *idealized* sensor locations (based on, e.g., an\n",
        "idealized spherical head model), or they may contain *realistic* sensor\n",
        "locations obtained by digitizing the 3D locations of the sensors when placed\n",
        "on a real person's head.\n",
        "\n",
        "This dataset has realistic digitized 3D sensor locations saved as part of the\n",
        "``.fif`` file, so we can view the sensor locations in 2D or 3D using the\n",
        ":meth:`~mne.io.Raw.plot_sensors` method:\n",
        "\n"
      ]
    },
    {
      "cell_type": "code",
      "execution_count": null,
      "metadata": {
        "collapsed": false
      },
      "outputs": [],
      "source": [
        "raw.plot_sensors(show_names=True)\n",
        "fig = raw.plot_sensors('3d')"
      ]
    },
    {
      "cell_type": "markdown",
      "metadata": {},
      "source": [
        "If you're working with a standard montage like the [10–20](ten_twenty_)\n",
        "system, you can add sensor locations to the data with\n",
        "``raw.set_montage('standard_1020')`` (see `tut-sensor-locations` for\n",
        "information on other standard montages included with MNE-Python).\n",
        "\n",
        "If you have digitized realistic sensor locations, there are dedicated\n",
        "functions for loading those digitization files into MNE-Python (see\n",
        "`reading-dig-montages` for discussion and `dig-formats` for a list\n",
        "of supported formats). Once loaded, the digitized sensor locations can be\n",
        "added to the data by passing the loaded montage object to\n",
        ":meth:`~mne.io.Raw.set_montage`.\n",
        "\n",
        "\n",
        "## Setting the EEG reference\n",
        "\n",
        "As mentioned, this data already has an EEG common average reference\n",
        "added as a :term:`projector`. We can view the effect of this projector on the\n",
        "raw data by plotting it with and without the projector applied:\n",
        "\n"
      ]
    },
    {
      "cell_type": "code",
      "execution_count": null,
      "metadata": {
        "collapsed": false
      },
      "outputs": [],
      "source": [
        "for proj in (False, True):\n",
        "    with mne.viz.use_browser_backend('matplotlib'):\n",
        "        fig = raw.plot(n_channels=5, proj=proj, scalings=dict(eeg=50e-6),\n",
        "                       show_scrollbars=False)\n",
        "    fig.subplots_adjust(top=0.9)  # make room for title\n",
        "    ref = 'Average' if proj else 'No'\n",
        "    fig.suptitle(f'{ref} reference', size='xx-large', weight='bold')"
      ]
    },
    {
      "cell_type": "markdown",
      "metadata": {},
      "source": [
        "The referencing scheme can be changed with the function\n",
        ":func:`mne.set_eeg_reference` (which by default operates on a *copy* of the\n",
        "data) or the :meth:`raw.set_eeg_reference() <mne.io.Raw.set_eeg_reference>`\n",
        "method (which always modifies the data *in-place*). The tutorial\n",
        "`tut-set-eeg-ref` shows several examples.\n",
        "\n",
        "\n",
        "## Filtering\n",
        "\n",
        "MNE-Python has extensive support for different ways of filtering data. For a\n",
        "general discussion of filter characteristics and MNE-Python defaults, see\n",
        "`disc-filtering`. For practical examples of how to apply filters to your\n",
        "data, see `tut-filter-resample`. Here, we'll apply a simple high-pass\n",
        "filter for illustration:\n",
        "\n"
      ]
    },
    {
      "cell_type": "code",
      "execution_count": null,
      "metadata": {
        "collapsed": false
      },
      "outputs": [],
      "source": [
        "raw.filter(l_freq=0.1, h_freq=None)"
      ]
    },
    {
      "cell_type": "markdown",
      "metadata": {},
      "source": [
        "## Evoked responses: epoching and averaging\n",
        "\n",
        "The general process for extracting evoked responses from continuous data is\n",
        "to use the :class:`~mne.Epochs` constructor, and then average the resulting\n",
        "epochs to create an :class:`~mne.Evoked` object. In MNE-Python, events are\n",
        "represented as a :class:`NumPy array <numpy.ndarray>` containing event\n",
        "latencies (in samples) and integer event codes. The event codes are stored in\n",
        "the last column of the events array:\n",
        "\n"
      ]
    },
    {
      "cell_type": "code",
      "execution_count": null,
      "metadata": {
        "collapsed": false
      },
      "outputs": [],
      "source": [
        "np.unique(events[:, -1])"
      ]
    },
    {
      "cell_type": "markdown",
      "metadata": {},
      "source": [
        "The `tut-event-arrays` tutorial discusses event arrays in more detail.\n",
        "Integer event codes are mapped to more descriptive text using a Python\n",
        ":class:`dictionary <dict>` usually called ``event_id``. This mapping is\n",
        "determined by your experiment (i.e., it reflects which event codes you chose\n",
        "to represent different experimental events or conditions). The\n",
        "`sample-dataset` data uses the following mapping:\n",
        "\n"
      ]
    },
    {
      "cell_type": "code",
      "execution_count": null,
      "metadata": {
        "collapsed": false
      },
      "outputs": [],
      "source": [
        "event_dict = {'auditory/left': 1, 'auditory/right': 2, 'visual/left': 3,\n",
        "              'visual/right': 4, 'face': 5, 'buttonpress': 32}"
      ]
    },
    {
      "cell_type": "markdown",
      "metadata": {},
      "source": [
        "Now we can proceed to epoch the continuous data. An interactive plot allows\n",
        "us to click on epochs to mark them as \"bad\" and drop them from the\n",
        "analysis (it is not interactive on this documentation website, but will be\n",
        "when you run `epochs.plot() <mne.Epochs.plot>` in a Python console).\n",
        "\n"
      ]
    },
    {
      "cell_type": "code",
      "execution_count": null,
      "metadata": {
        "collapsed": false
      },
      "outputs": [],
      "source": [
        "epochs = mne.Epochs(raw, events, event_id=event_dict, tmin=-0.3, tmax=0.7,\n",
        "                    preload=True)\n",
        "fig = epochs.plot(events=events)"
      ]
    },
    {
      "cell_type": "markdown",
      "metadata": {},
      "source": [
        "It is also possible to automatically drop epochs (either when first creating\n",
        "them or later on) by providing maximum peak-to-peak signal value thresholds\n",
        "(passed to :class:`~mne.Epochs` as the ``reject`` parameter; see\n",
        "`tut-reject-epochs-section` for details).  You can also do this after\n",
        "the epochs are already created using :meth:`~mne.Epochs.drop_bad`:\n",
        "\n"
      ]
    },
    {
      "cell_type": "code",
      "execution_count": null,
      "metadata": {
        "collapsed": false
      },
      "outputs": [],
      "source": [
        "reject_criteria = dict(eeg=100e-6, eog=200e-6)  # 100 µV, 200 µV\n",
        "epochs.drop_bad(reject=reject_criteria)"
      ]
    },
    {
      "cell_type": "markdown",
      "metadata": {},
      "source": [
        "Next, we generate a barplot of which channels contributed most to epochs\n",
        "getting rejected. If one channel is responsible for many epoch rejections,\n",
        "it may be worthwhile to mark that channel as \"bad\" in the\n",
        ":class:`~mne.io.Raw` object and then re-run epoching (fewer channels with\n",
        "more good epochs may be preferable to keeping all channels but losing many\n",
        "epochs). See `tut-bad-channels` for more information.\n",
        "\n"
      ]
    },
    {
      "cell_type": "code",
      "execution_count": null,
      "metadata": {
        "collapsed": false
      },
      "outputs": [],
      "source": [
        "epochs.plot_drop_log()"
      ]
    },
    {
      "cell_type": "markdown",
      "metadata": {},
      "source": [
        "Epochs can also be dropped automatically if the event around which the epoch\n",
        "is created is too close to the start or end of the :class:`~mne.io.Raw`\n",
        "object (e.g., if the epoch would extend past the end of the recording; this\n",
        "is the cause for the \"TOO_SHORT\" entry in the\n",
        ":meth:`~mne.Epochs.plot_drop_log` plot).\n",
        "\n",
        "Epochs may also be dropped automatically if the :class:`~mne.io.Raw` object\n",
        "contains :term:`annotations` that begin with either ``bad`` or ``edge``\n",
        "(\"edge\" annotations are automatically inserted when concatenating two or more\n",
        ":class:`~mne.io.Raw` objects). See `tut-reject-data-spans` for more\n",
        "information on annotation-based epoch rejection.\n",
        "\n",
        "Now that we've dropped all bad epochs, let's look at our evoked responses for\n",
        "some conditions we care about. Here, the :meth:`~mne.Epochs.average` method\n",
        "will create an :class:`~mne.Evoked` object, which we can then plot. Notice\n",
        "that we select which condition we want to average using square-bracket\n",
        "indexing (like for a :class:`dictionary <dict>`). This returns a subset with\n",
        "only the desired epochs, which we then average:\n",
        "\n"
      ]
    },
    {
      "cell_type": "code",
      "execution_count": null,
      "metadata": {
        "collapsed": false
      },
      "outputs": [],
      "source": [
        "l_aud = epochs['auditory/left'].average()\n",
        "l_vis = epochs['visual/left'].average()"
      ]
    },
    {
      "cell_type": "markdown",
      "metadata": {},
      "source": [
        "These :class:`~mne.Evoked` objects have their own interactive plotting method\n",
        "(though again, it won't be interactive on the documentation website).\n",
        "Clicking and dragging a span of time will generate a topography of scalp\n",
        "potentials for the selected time segment. Here, we also demonstrate built-in\n",
        "color-coding the channel traces by location:\n",
        "\n"
      ]
    },
    {
      "cell_type": "code",
      "execution_count": null,
      "metadata": {
        "collapsed": false
      },
      "outputs": [],
      "source": [
        "fig1 = l_aud.plot()\n",
        "fig2 = l_vis.plot(spatial_colors=True)"
      ]
    },
    {
      "cell_type": "markdown",
      "metadata": {},
      "source": [
        "Scalp topographies can also be obtained non-interactively with the\n",
        ":meth:`~mne.Evoked.plot_topomap` method. Here, we display topomaps of the\n",
        "average evoked potential in 50 ms time windows centered at -200 ms, 100 ms,\n",
        "and 400 ms.\n",
        "\n"
      ]
    },
    {
      "cell_type": "code",
      "execution_count": null,
      "metadata": {
        "collapsed": false
      },
      "outputs": [],
      "source": [
        "l_aud.plot_topomap(times=[-0.2, 0.1, 0.4], average=0.05)"
      ]
    },
    {
      "cell_type": "markdown",
      "metadata": {},
      "source": [
        "Considerable customization of these plots is possible, see the docstring of\n",
        ":meth:`~mne.Evoked.plot_topomap` for details.\n",
        "\n",
        "There is also a built-in method for combining butterfly plots of the signals\n",
        "with scalp topographies called :meth:`~mne.Evoked.plot_joint`. Like in\n",
        ":meth:`~mne.Evoked.plot_topomap`, you can specify times for the scalp\n",
        "topographies or you can let the method choose times automatically as shown\n",
        "here:\n",
        "\n"
      ]
    },
    {
      "cell_type": "code",
      "execution_count": null,
      "metadata": {
        "collapsed": false
      },
      "outputs": [],
      "source": [
        "l_aud.plot_joint()"
      ]
    },
    {
      "cell_type": "markdown",
      "metadata": {},
      "source": [
        "## Global field power (GFP)\n",
        "\n",
        "Global field power :footcite:`Lehmann1980,Lehmann1984,Murray2008` is,\n",
        "generally speaking, a measure of agreement of the signals picked up by all\n",
        "sensors across the entire scalp: if all sensors have the same value at a\n",
        "given time point, the GFP will be zero at that time point. If the signals\n",
        "differ, the GFP will be non-zero at that time point. GFP\n",
        "peaks may reflect \"interesting\" brain activity, warranting further\n",
        "investigation. Mathematically, the GFP is the population standard\n",
        "deviation across all sensors, calculated separately for every time point.\n",
        "\n",
        "You can plot the GFP using `evoked.plot(gfp=True) <mne.Evoked.plot>`. The GFP\n",
        "trace will be black if ``spatial_colors=True`` and green otherwise. The EEG\n",
        "reference does not affect the GFP:\n",
        "\n"
      ]
    },
    {
      "cell_type": "code",
      "execution_count": null,
      "metadata": {
        "collapsed": false
      },
      "outputs": [],
      "source": [
        "for evk in (l_aud, l_vis):\n",
        "    evk.plot(gfp=True, spatial_colors=True, ylim=dict(eeg=[-12, 12]))"
      ]
    },
    {
      "cell_type": "markdown",
      "metadata": {},
      "source": [
        "To plot the GFP by itself, you can pass ``gfp='only'`` (this makes it easier\n",
        "to read off the GFP data values, because the scale is aligned):\n",
        "\n"
      ]
    },
    {
      "cell_type": "code",
      "execution_count": null,
      "metadata": {
        "collapsed": false
      },
      "outputs": [],
      "source": [
        "l_aud.plot(gfp='only')"
      ]
    },
    {
      "cell_type": "markdown",
      "metadata": {},
      "source": [
        "The GFP is the population standard deviation of the signal\n",
        "across channels. To compute it manually, we can leverage the fact that\n",
        "`evoked.data <mne.Evoked.data>` is a :class:`NumPy array <numpy.ndarray>`,\n",
        "and verify by plotting it using plain Matplotlib commands:\n",
        "\n"
      ]
    },
    {
      "cell_type": "code",
      "execution_count": null,
      "metadata": {
        "collapsed": false
      },
      "outputs": [],
      "source": [
        "gfp = l_aud.data.std(axis=0, ddof=0)\n",
        "\n",
        "# Reproducing the MNE-Python plot style seen above\n",
        "fig, ax = plt.subplots()\n",
        "ax.plot(l_aud.times, gfp * 1e6, color='lime')\n",
        "ax.fill_between(l_aud.times, gfp * 1e6, color='lime', alpha=0.2)\n",
        "ax.set(xlabel='Time (s)', ylabel='GFP (µV)', title='EEG')"
      ]
    },
    {
      "cell_type": "markdown",
      "metadata": {},
      "source": [
        "## Averaging across channels with regions of interest\n",
        "\n",
        "Since our sample data contains responses to left and right auditory and\n",
        "visual stimuli, we may want to compare left versus right regions of interest\n",
        "(ROIs). To average across channels in a given ROI, we first find the relevant\n",
        "channel indices. Revisiting the 2D sensor plot above, we might choose the\n",
        "following channels for left and right ROIs, respectively:\n",
        "\n"
      ]
    },
    {
      "cell_type": "code",
      "execution_count": null,
      "metadata": {
        "collapsed": false
      },
      "outputs": [],
      "source": [
        "left = ['eeg17', 'eeg18', 'eeg25', 'eeg26']\n",
        "right = ['eeg23', 'eeg24', 'eeg34', 'eeg35']\n",
        "\n",
        "left_ix = mne.pick_channels(l_aud.info['ch_names'], include=left)\n",
        "right_ix = mne.pick_channels(l_aud.info['ch_names'], include=right)"
      ]
    },
    {
      "cell_type": "markdown",
      "metadata": {},
      "source": [
        "Now we can create a new Evoked object with two virtual channels (one for each\n",
        "ROI):\n",
        "\n"
      ]
    },
    {
      "cell_type": "code",
      "execution_count": null,
      "metadata": {
        "collapsed": false
      },
      "outputs": [],
      "source": [
        "roi_dict = dict(left_ROI=left_ix, right_ROI=right_ix)\n",
        "roi_evoked = mne.channels.combine_channels(l_aud, roi_dict, method='mean')\n",
        "print(roi_evoked.info['ch_names'])\n",
        "roi_evoked.plot()"
      ]
    },
    {
      "cell_type": "markdown",
      "metadata": {},
      "source": [
        "## Comparing conditions\n",
        "\n",
        "If we wanted to contrast auditory to visual stimuli, a useful function is\n",
        ":func:`mne.viz.plot_compare_evokeds`. By default, this function will combine\n",
        "all channels in each evoked object using GFP (or RMS for MEG channels); here\n",
        "instead we specify to combine by averaging, and restrict it to a subset of\n",
        "channels by passing ``picks``:\n",
        "\n"
      ]
    },
    {
      "cell_type": "code",
      "execution_count": null,
      "metadata": {
        "collapsed": false
      },
      "outputs": [],
      "source": [
        "evokeds = dict(auditory=l_aud, visual=l_vis)\n",
        "picks = [f'eeg{n}' for n in range(10, 15)]\n",
        "mne.viz.plot_compare_evokeds(evokeds, picks=picks, combine='mean')"
      ]
    },
    {
      "cell_type": "markdown",
      "metadata": {},
      "source": [
        "We can also generate confidence intervals by treating each epoch as a\n",
        "separate observation using :meth:`~mne.Epochs.iter_evoked`. A confidence\n",
        "interval across subjects could also be obtained by passing a list of\n",
        ":class:`~mne.Evoked` objects (one per subject) to the\n",
        ":func:`~mne.viz.plot_compare_evokeds` function.\n",
        "\n"
      ]
    },
    {
      "cell_type": "code",
      "execution_count": null,
      "metadata": {
        "collapsed": false
      },
      "outputs": [],
      "source": [
        "evokeds = dict(auditory=list(epochs['auditory/left'].iter_evoked()),\n",
        "               visual=list(epochs['visual/left'].iter_evoked()))\n",
        "mne.viz.plot_compare_evokeds(evokeds, combine='mean', picks=picks)"
      ]
    },
    {
      "cell_type": "markdown",
      "metadata": {},
      "source": [
        "We can also compare conditions by subtracting one :class:`~mne.Evoked` object\n",
        "from another using the :func:`mne.combine_evoked` function (this function\n",
        "also supports pooling of epochs without subtraction).\n",
        "\n"
      ]
    },
    {
      "cell_type": "code",
      "execution_count": null,
      "metadata": {
        "collapsed": false
      },
      "outputs": [],
      "source": [
        "aud_minus_vis = mne.combine_evoked([l_aud, l_vis], weights=[1, -1])\n",
        "aud_minus_vis.plot_joint()"
      ]
    },
    {
      "cell_type": "markdown",
      "metadata": {},
      "source": [
        "<div class=\"alert alert-danger\"><h4>Warning</h4><p>The code above yields an **equal-weighted difference**. If you have\n",
        "    different numbers of epochs per condition, you might want to equalize the\n",
        "    number of events per condition first by using\n",
        "    `epochs.equalize_event_counts() <mne.Epochs.equalize_event_counts>`\n",
        "    before averaging.</p></div>\n",
        "\n",
        "\n",
        "## Grand averages\n",
        "\n",
        "To compute grand averages across conditions (or subjects), you can pass a\n",
        "list of :class:`~mne.Evoked` objects to :func:`mne.grand_average`. The result\n",
        "is another :class:`~mne.Evoked` object.\n",
        "\n"
      ]
    },
    {
      "cell_type": "code",
      "execution_count": null,
      "metadata": {
        "collapsed": false
      },
      "outputs": [],
      "source": [
        "grand_average = mne.grand_average([l_aud, l_vis])\n",
        "print(grand_average)"
      ]
    },
    {
      "cell_type": "markdown",
      "metadata": {},
      "source": [
        "For combining *conditions* it is also possible to make use of :term:`HED`\n",
        "tags in the condition names when selecting which epochs to average. For\n",
        "example, we have the condition names:\n",
        "\n"
      ]
    },
    {
      "cell_type": "code",
      "execution_count": null,
      "metadata": {
        "collapsed": false
      },
      "outputs": [],
      "source": [
        "list(event_dict)"
      ]
    },
    {
      "cell_type": "markdown",
      "metadata": {},
      "source": [
        "We can select the auditory conditions (left and right together) by passing:\n",
        "\n"
      ]
    },
    {
      "cell_type": "code",
      "execution_count": null,
      "metadata": {
        "collapsed": false
      },
      "outputs": [],
      "source": [
        "epochs['auditory'].average()"
      ]
    },
    {
      "cell_type": "markdown",
      "metadata": {},
      "source": [
        "See `tut-section-subselect-epochs` for more details on that.\n",
        "\n",
        "The tutorials `tut-epochs-class` and `tut-evoked-class` have many\n",
        "more details about working with the :class:`~mne.Epochs` and\n",
        ":class:`~mne.Evoked` classes.\n",
        "\n"
      ]
    },
    {
      "cell_type": "markdown",
      "metadata": {},
      "source": [
        "## Amplitude and latency measures\n",
        "It is common in ERP research to extract measures of amplitude or latency to\n",
        "compare across different conditions. There are many measures that can be\n",
        "extracted from ERPs, and many of these are detailed (including the respective\n",
        "strengths and weaknesses) in chapter 9 of Luck :footcite:`Luck2014` (also see\n",
        "the [Measurement Tool](https://bit.ly/37uydRw) in the ERPLAB Toolbox\n",
        ":footcite:`Lopez-CalderonLuck2014`).\n",
        "\n",
        "This part of the tutorial will demonstrate how to extract three common\n",
        "measures:\n",
        "\n",
        "* Peak latency\n",
        "* Peak amplitude\n",
        "* Mean amplitude\n",
        "\n",
        "### Peak latency and amplitude\n",
        "\n",
        "The most common measures of amplitude and latency are peak measures.\n",
        "Peak measures are basically the maximum amplitude of the signal in a\n",
        "specified time window and the time point (or latency) at which the peak\n",
        "amplitude occurred.\n",
        "\n",
        "Peak measures can be obtained using the :meth:`~mne.Evoked.get_peak` method.\n",
        "There are two important things to point out about\n",
        ":meth:`~mne.Evoked.get_peak`. First, it finds the strongest peak\n",
        "looking across **all channels** of the selected type that are available in\n",
        "the :class:`~mne.Evoked` object. As a consequence, if you want to restrict\n",
        "the search to a group of channels or a single channel, you\n",
        "should first use the :meth:`~mne.Evoked.pick` or\n",
        ":meth:`~mne.Evoked.pick_channels` methods. Second, the\n",
        ":meth:`~mne.Evoked.get_peak` method can find different types of peaks using\n",
        "the ``mode`` argument. There are three options:\n",
        "\n",
        "* ``mode='pos'``: finds the peak with a positive voltage (ignores\n",
        "  negative voltages)\n",
        "* ``mode='neg'``: finds the peak with a negative voltage (ignores\n",
        "  positive voltages)\n",
        "* ``mode='abs'``: finds the peak with the largest absolute voltage\n",
        "  regardless of sign (positive or negative)\n",
        "\n",
        "The following example demonstrates how to find the first positive peak in the\n",
        "ERP (i.e., the P100) for the left visual condition (i.e., the\n",
        "``l_vis`` :class:`~mne.Evoked` object). The time window used to search for\n",
        "the peak ranges from 0.08 to 0.12 s. This time window was selected because it\n",
        "is when P100 typically occurs. Note that all ``'eeg'`` channels are submitted\n",
        "to the :meth:`~mne.Evoked.get_peak` method.\n",
        "\n"
      ]
    },
    {
      "cell_type": "code",
      "execution_count": null,
      "metadata": {
        "collapsed": false
      },
      "outputs": [],
      "source": [
        "# Define a function to print out the channel (ch) containing the\n",
        "# peak latency (lat; in msec) and amplitude (amp, in µV), with the\n",
        "# time range (tmin and tmax) that was searched.\n",
        "# This function will be used throughout the remainder of the tutorial.\n",
        "def print_peak_measures(ch, tmin, tmax, lat, amp):\n",
        "    print(f'Channel: {ch}')\n",
        "    print(f'Time Window: {tmin * 1e3:.3f} - {tmax * 1e3:.3f} ms')\n",
        "    print(f'Peak Latency: {lat * 1e3:.3f} ms')\n",
        "    print(f'Peak Amplitude: {amp * 1e6:.3f} µV')\n",
        "\n",
        "\n",
        "# Get peak amplitude and latency from a good time window that contains the peak\n",
        "good_tmin, good_tmax = 0.08, 0.12\n",
        "ch, lat, amp = l_vis.get_peak(ch_type='eeg', tmin=good_tmin, tmax=good_tmax,\n",
        "                              mode='pos', return_amplitude=True)\n",
        "\n",
        "# Print output from the good time window that contains the peak\n",
        "print('** PEAK MEASURES FROM A GOOD TIME WINDOW **')\n",
        "print_peak_measures(ch, good_tmin, good_tmax, lat, amp)"
      ]
    },
    {
      "cell_type": "markdown",
      "metadata": {},
      "source": [
        "The output shows that channel ``eeg55`` had the maximum positive peak in\n",
        "the chosen time window from all of the ``'eeg'`` channels searched.\n",
        "In practice, one might want to pull out the peak for\n",
        "an *a priori* region of interest or a single channel depending on the study.\n",
        "This can be done by combining the :meth:`~mne.Evoked.pick`\n",
        "or :meth:`~mne.Evoked.pick_channels` methods with the\n",
        ":meth:`~mne.Evoked.get_peak` method.\n",
        "\n",
        "Here, let's assume we believe the effects of interest will occur\n",
        "at ``eeg59``.\n",
        "\n"
      ]
    },
    {
      "cell_type": "code",
      "execution_count": null,
      "metadata": {
        "collapsed": false
      },
      "outputs": [],
      "source": [
        "# Fist, return a copy of l_vis to select the channel from\n",
        "l_vis_roi = l_vis.copy().pick('eeg59')\n",
        "\n",
        "# Get the peak and latency measure from the selected channel\n",
        "ch_roi, lat_roi, amp_roi = l_vis_roi.get_peak(\n",
        "    tmin=good_tmin, tmax=good_tmax, mode='pos', return_amplitude=True)\n",
        "\n",
        "# Print output\n",
        "print('** PEAK MEASURES FOR ONE CHANNEL FROM A GOOD TIME WINDOW **')\n",
        "print_peak_measures(ch_roi, good_tmin, good_tmax, lat_roi, amp_roi)"
      ]
    },
    {
      "cell_type": "markdown",
      "metadata": {},
      "source": [
        "While the peak latencies are the same in channels ``eeg55`` and ``eeg59``,\n",
        "the peak amplitudes differ. This approach can also be applied to virtual\n",
        "channels created with the :func:`~mne.channels.combine_channels` function and\n",
        "difference waves created with the :func:`mne.combine_evoked` function (see\n",
        "``aud_minus_vis`` in section `Comparing conditions`_ above).\n",
        "\n",
        "Peak measures are very susceptible to high frequency noise in the\n",
        "signal (for discussion, see :footcite:`Luck2014`). Specifically, high\n",
        "frequency noise positively biases peak amplitude measures. This bias can\n",
        "confound comparisons across conditions where ERPs differ in the level of high\n",
        "frequency noise, such as when the conditions differ in the number of trials\n",
        "contributing to the ERP. One way to avoid this is to apply a non-causal\n",
        "low-pass filter to the ERP. Low-pass filters reduce the contribution of high\n",
        "frequency noise by smoothing out fast (i.e., high frequency) fluctuations in\n",
        "the signal (see `disc-filtering`). While this can reduce the positive\n",
        "bias in peak amplitude measures caused by high frequency noise, low-pass\n",
        "filtering the ERP can introduce challenges in interpreting peak latency\n",
        "measures for effects of interest :footcite:`Rousselet2012,VanRullen2011`.\n",
        "\n",
        "If using peak measures, it is critical to visually inspect the data to\n",
        "make sure the selected time window actually contains a peak. The\n",
        "meth:`~mne.Evoked.get_peak` method detects the maximum or minimum voltage in\n",
        "the specified time range and returns the latency and amplitude of this peak.\n",
        "There is no guarantee that this method will return an actual peak. Instead,\n",
        "it may return a value on the rising or falling edge of a peak we are trying\n",
        "to find.\n",
        "\n",
        "The following example demonstrates why visual inspection is crucial. Below,\n",
        "we use a known bad time window (0.095 to 0.135 s) to search for a peak in\n",
        "channel ``eeg59``.\n",
        "\n"
      ]
    },
    {
      "cell_type": "code",
      "execution_count": null,
      "metadata": {
        "collapsed": false
      },
      "outputs": [],
      "source": [
        "# Get BAD peak measures\n",
        "bad_tmin, bad_tmax = 0.095, 0.135\n",
        "ch_roi, bad_lat_roi, bad_amp_roi = l_vis_roi.get_peak(\n",
        "    mode='pos', tmin=bad_tmin, tmax=bad_tmax, return_amplitude=True)\n",
        "\n",
        "# Print output\n",
        "print('** PEAK MEASURES FOR ONE CHANNEL FROM A BAD TIME WINDOW **')\n",
        "print_peak_measures(ch_roi, bad_tmin, bad_tmax, bad_lat_roi, bad_amp_roi)"
      ]
    },
    {
      "cell_type": "markdown",
      "metadata": {},
      "source": [
        "If all we had were the above values, it would be unclear if they are truly\n",
        "identifying a peak in the ERP. In fact, the 0.095 to 0.135 s time window\n",
        "actually does not contain the true peak, which is shown in the top panel\n",
        "below. The bad time window (highlighted in orange) does not contain the true\n",
        "peak (the pink star). In contrast, the time window defined initially (0.08 to\n",
        "0.12 s; highlighted in blue) returns an actual peak instead of a just a\n",
        "maximum or minimum in the searched time window. Visual inspection will always\n",
        "help you to convince yourself that the returned values are actual peaks.\n",
        "\n"
      ]
    },
    {
      "cell_type": "code",
      "execution_count": null,
      "metadata": {
        "collapsed": false
      },
      "outputs": [],
      "source": [
        "fig, axs = plt.subplots(nrows=2, ncols=1, layout='tight')\n",
        "words = (('Bad', 'missing'), ('Good', 'finding'))\n",
        "times = (np.array([bad_tmin, bad_tmax]), np.array([good_tmin, good_tmax]))\n",
        "colors = ('C1', 'C0')\n",
        "\n",
        "for ix, ax in enumerate(axs):\n",
        "    title = '{} time window {} peak'.format(*words[ix])\n",
        "    l_vis_roi.plot(axes=ax, time_unit='ms', show=False, titles=title)\n",
        "    ax.plot(lat_roi * 1e3, amp_roi * 1e6, marker='*', color='C6')\n",
        "    ax.axvspan(*(times[ix] * 1e3), facecolor=colors[ix], alpha=0.3)\n",
        "    ax.set_xlim(-50, 150)  # Show zoomed in around peak"
      ]
    },
    {
      "cell_type": "markdown",
      "metadata": {},
      "source": [
        "### Mean Amplitude\n",
        "\n",
        "Another common practice in ERP studies is to define a component (or effect)\n",
        "as the mean amplitude within a specified time window. One advantage of this\n",
        "approach is that it is less sensitive to high frequency noise (compared to\n",
        "peak amplitude measures), because averaging over a time window acts as a\n",
        "low-pass filter (see discussion in the previous section\n",
        "`Peak latency and amplitude`_).\n",
        "\n",
        "When using mean amplitude measures, selecting the time window based on\n",
        "the effect of interest (e.g., the difference between two conditions) can\n",
        "inflate the likelihood of finding false positives in your\n",
        "results :footcite:`LuckGaspelin2017`. There are other, and\n",
        "better, ways to identify a time window to use for extracting mean amplitude\n",
        "measures. First, you can use an *a priori* time window based on prior\n",
        "research.\n",
        "A second option is to define a time window from an independent condition or\n",
        "set of trials not used in the analysis (e.g., a \"localizer\"). A third\n",
        "approach is\n",
        "to define a time window using the across-condition grand average. This latter\n",
        "approach is not circular because the across-condition mean and condition\n",
        "difference are independent of one another. The issues discussed above also\n",
        "apply to selecting channels used for analysis.\n",
        "\n",
        "The following example demonstrates how to pull out the mean amplitude\n",
        "from the left visual condition (i.e., the ``l_vis`` :class:`~mne.Evoked`\n",
        "object) from selected channels and time windows. Stimulating the\n",
        "left visual field increases neural activity of visual cortex in the\n",
        "contralateral (i.e., right) hemisphere. We can test this by examining the\n",
        "amplitude of the ERP for left visual field stimulation over right\n",
        "(contralateral) and left (ipsilateral) channels. The channels used for this\n",
        "analysis are ``eeg54`` and ``eeg57`` (left hemisphere), and ``eeg59`` and\n",
        "``eeg55`` (right hemisphere). The time window used is 0.08 (``good_tmin``)\n",
        "to 0.12 s (``good_tmax``) as it corresponds to when the P100 typically\n",
        "occurs.\n",
        "The P100 is sensitive to left and right visual field stimulation. The mean\n",
        "amplitude is extracted from the above four channels and stored in a\n",
        ":class:`pandas.DataFrame`.\n",
        "\n"
      ]
    },
    {
      "cell_type": "code",
      "execution_count": null,
      "metadata": {
        "collapsed": false
      },
      "outputs": [],
      "source": [
        "# Select all of the channels and crop to the time window\n",
        "channels = ['eeg54', 'eeg57', 'eeg55', 'eeg59']\n",
        "hemisphere = ['left', 'left', 'right', 'right']\n",
        "l_vis_mean_roi = l_vis.copy().pick(channels).crop(\n",
        "    tmin=good_tmin, tmax=good_tmax)\n",
        "\n",
        "# Extract mean amplitude in µV over time\n",
        "mean_amp_roi = l_vis_mean_roi.data.mean(axis=1) * 1e6\n",
        "\n",
        "# Store the data in a data frame\n",
        "mean_amp_roi_df = pd.DataFrame({\n",
        "    'ch_name': l_vis_mean_roi.ch_names,\n",
        "    'hemisphere': ['left', 'left', 'right', 'right'],\n",
        "    'mean_amp': mean_amp_roi\n",
        "})\n",
        "\n",
        "# Print the data frame\n",
        "print(mean_amp_roi_df.groupby('hemisphere').mean(numeric_only=True))"
      ]
    },
    {
      "cell_type": "markdown",
      "metadata": {},
      "source": [
        "As demonstrated in this example, the mean amplitude was higher and\n",
        "positive in right compared to left hemisphere channels. It should be\n",
        "reiterated that both spatial and temporal windows used in the analysis should\n",
        "be determined in an independent manner (e.g., defined *a priori* from prior\n",
        "research, a \"localizer\" or another independent condition) and not based\n",
        "on the data you will use to test your hypotheses.\n",
        "\n",
        "The example can be modified to extract the mean amplitude\n",
        "from all channels and store the resulting output in a\n",
        ":class:`pandas.DataFrame`. This can be useful for statistical analyses\n",
        "conducted in other programming languages.\n",
        "\n"
      ]
    },
    {
      "cell_type": "code",
      "execution_count": null,
      "metadata": {
        "collapsed": false
      },
      "outputs": [],
      "source": [
        "# Extract mean amplitude for all channels in l_vis (including `eog`)\n",
        "l_vis_cropped = l_vis.copy().crop(tmin=good_tmin, tmax=good_tmax)\n",
        "mean_amp_all = l_vis_cropped.data.mean(axis=1) * 1e6\n",
        "mean_amp_all_df = pd.DataFrame({\n",
        "    'ch_name': l_vis_cropped.info['ch_names'],\n",
        "    'mean_amp': mean_amp_all\n",
        "})\n",
        "mean_amp_all_df['tmin'] = good_tmin\n",
        "mean_amp_all_df['tmax'] = good_tmax\n",
        "mean_amp_all_df['condition'] = 'Left/Visual'\n",
        "with pd.option_context('display.max_columns', None):\n",
        "    print(mean_amp_all_df.head())\n",
        "    print(mean_amp_all_df.tail())"
      ]
    },
    {
      "cell_type": "markdown",
      "metadata": {},
      "source": [
        "\n",
        "\n",
        "### References\n",
        ".. footbibliography::\n",
        "\n"
      ]
    }
  ],
  "metadata": {
    "kernelspec": {
      "display_name": "base",
      "language": "python",
      "name": "python3"
    },
    "language_info": {
      "codemirror_mode": {
        "name": "ipython",
        "version": 3
      },
      "file_extension": ".py",
      "mimetype": "text/x-python",
      "name": "python",
      "nbconvert_exporter": "python",
      "pygments_lexer": "ipython3",
      "version": "3.9.13"
    },
    "vscode": {
      "interpreter": {
        "hash": "68330a0c3a73c8a9ab17a58db04a4bc84979ee9d5927a73e0795658af7e94545"
      }
    }
  },
  "nbformat": 4,
  "nbformat_minor": 0
}
