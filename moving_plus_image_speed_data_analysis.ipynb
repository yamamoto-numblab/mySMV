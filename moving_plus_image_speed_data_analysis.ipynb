{
 "cells": [
  {
   "cell_type": "code",
   "execution_count": 1,
   "metadata": {},
   "outputs": [],
   "source": [
    "import os\n",
    "import numpy as np\n",
    "import pandas as pd\n",
    "import mne\n",
    "import scipy.io\n",
    "import matplotlib.pyplot as plt\n",
    "from scipy import signal\n",
    "from sklearn.model_selection import train_test_split\n",
    "from sklearn.svm import SVC\n",
    "from mne.decoding import CSP\n",
    "from sklearn.discriminant_analysis import LinearDiscriminantAnalysis\n",
    "from sklearn.decomposition import FastICA\n",
    "from sklearn.model_selection import GridSearchCV\n",
    "from sklearn.metrics import classification_report\n",
    "from sklearn.model_selection import RandomizedSearchCV\n",
    "from sklearn.neural_network import MLPClassifier\n",
    "\n"
   ]
  },
  {
   "cell_type": "code",
   "execution_count": 2,
   "metadata": {},
   "outputs": [
    {
     "name": "stdout",
     "output_type": "stream",
     "text": [
      "Filelist\n",
      "['EEG_grasping_29-May-2023_sub1-1.mat', 'EEG_grasping_29-May-2023_sub1-2.mat', 'EEG_grasping_29-May-2023_sub2-1.mat', 'EEG_grasping_29-May-2023_sub2-2.mat', 'EEG_grasping_29-May-2023_sub2-3.mat', 'EEG_grasping_29-May-2023_sub2-4.mat', 'EEG_grasping_29-May-2023_sub3-1.mat', 'EEG_grasping_29-May-2023_sub3-2.mat', 'EEG_grasping_29-May-2023_sub3-3.mat', 'EEG_grasping_29-May-2023_sub3-4.mat', 'EEG_grasping_29-May-2023_sub3-5.mat', 'EEG_grasping_29-May-2023_sub3-6.mat']\n"
     ]
    }
   ],
   "source": [
    "#filePath= '/Users/yaman/Library/CloudStorage/GoogleDrive-s203192@stn.nagaokaut.ac.jp/マイドライブ/実験データ/20230519_zikken'\n",
    "filePath= '/Users/yaman/Library/CloudStorage/GoogleDrive-s203192@stn.nagaokaut.ac.jp/マイドライブ/実験データ/20230529_1_zikken'\n",
    "#filePath= '/Users/yaman/Library/CloudStorage/GoogleDrive-s203192@stn.nagaokaut.ac.jp/マイドライブ/実験データ/20230529_2_zikken'\n",
    "# filePath = 'G:/マイドライブ/実験データ/20230519_zikken'\n",
    "brainAdress = ['Fp1','AF7','AF3','F1','F3','F5','F7','FT7','FC5',\n",
    "'FC3','FC1','C1','C3','C5','T7','TP7','CP5','CP3','CP1','P1','P3',\n",
    "'P5','P7','P9','PO7','PO3','O1','Iz','Oz','POz','Pz','CPz','Fpz','Fp2',\n",
    "'AF8','AF4','AFz','Fz','F2','F4','F6','F8','FT8','FC6','FC4','FC2',\n",
    "'FCz','Cz','C2','C4','C6','T8','TP8','CP6','CP4','CP2','P2','P4',\n",
    "'P6','P8','P10','PO8','PO4','O2']\n",
    "\n",
    "\n",
    "\n",
    "motor_brainAdress = [9,10,11,12,13,17,18,31,44,45,46,47,48,49,50,54,55]\n",
    "\n",
    "\n",
    "\n",
    "\n",
    "# dataクラス\n",
    "class O_Data:\n",
    "    def __init__(self, eeg, index, label):\n",
    "        self.eeg = eeg\n",
    "        self.index = index\n",
    "        self.label = label\n",
    "        self.stack = []\n",
    "\n",
    "    def push(self, item):\n",
    "        self.stack.append(item)\n",
    "\n",
    "o_data65_label1 = list()#label1のデータ\n",
    "trial_num = list()#label1のデータ\n",
    "\n",
    "o_data = list()\n",
    "label_data = list()#labelを結合したデータ\n",
    "\n",
    "\n",
    "All_data = list()  # 全データを結合\n",
    "\n",
    "def Standardization(data): #標準化\n",
    "    after_data = scipy.stats.zscore(data)\n",
    "    #b = np.average(after_data)\n",
    "    #c = np.var(after_data)\n",
    "    return after_data\n",
    "\n",
    "file_name = list()  # すべての.matファイルの名前\n",
    "for file in os.listdir(filePath):\n",
    "    base, ext = os.path.splitext(file)\n",
    "    if ext == '.mat':\n",
    "        file_name = sorted(file_name)\n",
    "        file_name.append(file)\n",
    "print('Filelist')\n",
    "print(file_name)"
   ]
  },
  {
   "cell_type": "code",
   "execution_count": 3,
   "metadata": {},
   "outputs": [
    {
     "name": "stdout",
     "output_type": "stream",
     "text": [
      "image data_loading\n",
      "['EEG_grasping_29-May-2023_sub3-1.mat', 'EEG_grasping_29-May-2023_sub3-2.mat', 'EEG_grasping_29-May-2023_sub3-3.mat', 'EEG_grasping_29-May-2023_sub3-4.mat', 'EEG_grasping_29-May-2023_sub3-5.mat', 'EEG_grasping_29-May-2023_sub3-6.mat']\n"
     ]
    }
   ],
   "source": [
    "#解析するデータを選択\n",
    "file_name1 = [file_name[6],file_name[7],file_name[8],file_name[9],file_name[10],file_name[11]]\n",
    "file_num1 = len(file_name1)\n",
    "trial_num = 30\n",
    "all_trial = len(file_name1) * trial_num\n",
    "all_d = 0\n",
    "CH = 64\n",
    "#label1を読み込む\n",
    "for s in range(file_num1):\n",
    "    Dictionary = scipy.io.loadmat(filePath+\"/\"+file_name1[s])\n",
    "    for t in range(trial_num):\n",
    "        for i, key in enumerate(Dictionary.keys()):\n",
    "            if i > 2:\n",
    "                a = Dictionary[key]\n",
    "                b = a[0, t][0][0]\n",
    "                eeg = b[0][0:66, :]\n",
    "                index = b[1]\n",
    "                samplerate = b[2]\n",
    "                label = b[5][0, 0]\n",
    "                o_data = O_Data(eeg, index, label)\n",
    "                o_data65_label1.append(o_data)\n",
    "                \n",
    "print(\"image data_loading\")\n",
    "print(file_name1)"
   ]
  },
  {
   "cell_type": "code",
   "execution_count": 4,
   "metadata": {},
   "outputs": [],
   "source": [
    "c1 = o_data65_label1[0].eeg[: , 0:10240]\n",
    "for n in range(len(file_name1)*trial_num-1):  # all_trial\n",
    "    g1 = o_data65_label1[n+1].eeg[: , 0:10240]\n",
    "    c1 = np.dstack([c1, g1])\n"
   ]
  },
  {
   "cell_type": "code",
   "execution_count": 5,
   "metadata": {},
   "outputs": [
    {
     "name": "stdout",
     "output_type": "stream",
     "text": [
      "(180, 66, 10240)\n"
     ]
    }
   ],
   "source": [
    "all_data = c1.transpose(2,0,1)\n",
    "print(np.shape(all_data))\n",
    "all_data = all_data.astype(np.double)"
   ]
  },
  {
   "cell_type": "code",
   "execution_count": 6,
   "metadata": {},
   "outputs": [],
   "source": [
    "filter_bandpass = signal.firwin(numtaps=51,cutoff=[6,40],fs = 1024,pass_zero=False)"
   ]
  },
  {
   "cell_type": "code",
   "execution_count": 7,
   "metadata": {},
   "outputs": [],
   "source": [
    "for n in range(3):\n",
    "    for j in range(60):\n",
    "        for k in range(66):\n",
    "            all_data[n*60+j][k]= abs(all_data[n*60+j][k]-np.mean(all_data[n*60+j][0:64],axis=0))\n",
    "            all_data[n*60+j][k] = signal.lfilter(filter_bandpass,1,all_data[n*60+j][k])\n",
    "all_data = scipy.stats.zscore(all_data)"
   ]
  },
  {
   "cell_type": "code",
   "execution_count": 8,
   "metadata": {},
   "outputs": [
    {
     "name": "stdout",
     "output_type": "stream",
     "text": [
      "[1, 2, 2, 1, 1, 2, 1, 3, 2, 3, 3, 1, 3, 1, 2, 2, 2, 1, 3, 2, 2, 3, 1, 2, 3, 3, 3, 1, 1, 3, 1, 1, 3, 2, 3, 2, 3, 3, 1, 3, 3, 3, 1, 2, 1, 2, 2, 3, 2, 2, 3, 1, 1, 3, 2, 2, 1, 1, 1, 2, 2, 3, 2, 1, 2, 3, 1, 2, 2, 2, 3, 3, 1, 2, 1, 3, 2, 3, 1, 2, 1, 3, 1, 3, 1, 1, 2, 3, 3, 1, 3, 2, 2, 1, 1, 1, 1, 2, 1, 1, 2, 3, 2, 2, 3, 2, 1, 3, 2, 3, 3, 1, 1, 3, 3, 2, 3, 3, 1, 2, 2, 1, 1, 3, 3, 2, 3, 1, 2, 1, 3, 2, 2, 3, 3, 1, 3, 1, 2, 2, 1, 1, 1, 3, 3, 1, 2, 3, 2, 2, 1, 2, 1, 2, 2, 3, 2, 1, 3, 1, 3, 2, 1, 3, 3, 3, 2, 1, 1, 2, 3, 2, 3, 1, 1, 3, 2, 2, 3, 1]\n",
      "(180,)\n"
     ]
    }
   ],
   "source": [
    "label_data = list()#labelを結合したデータ\n",
    "for n in range(all_trial):\n",
    "    label_data.append(o_data65_label1[n].label)\n",
    "print(label_data)\n",
    "print(np.shape(label_data))"
   ]
  },
  {
   "cell_type": "code",
   "execution_count": 9,
   "metadata": {},
   "outputs": [
    {
     "ename": "AttributeError",
     "evalue": "'list' object has no attribute 'label'",
     "output_type": "error",
     "traceback": [
      "\u001b[0;31m---------------------------------------------------------------------------\u001b[0m",
      "\u001b[0;31mAttributeError\u001b[0m                            Traceback (most recent call last)",
      "\u001b[1;32m/Users/yaman/Documents/書類 - 山本航平のMacBook Air/GitHub/mySMV/moving_plus_image_speed_data_analysis.ipynb セル 9\u001b[0m in \u001b[0;36m<cell line: 6>\u001b[0;34m()\u001b[0m\n\u001b[1;32m     <a href='vscode-notebook-cell:/Users/yaman/Documents/%E6%9B%B8%E9%A1%9E%20-%20%E5%B1%B1%E6%9C%AC%E8%88%AA%E5%B9%B3%E3%81%AEMacBook%20Air/GitHub/mySMV/moving_plus_image_speed_data_analysis.ipynb#X11sZmlsZQ%3D%3D?line=13'>14</a>\u001b[0m         join \u001b[39m=\u001b[39m o_data65_label1[n]\u001b[39m.\u001b[39meeg[: , \u001b[39m0\u001b[39m:\u001b[39m10240\u001b[39m]\n\u001b[1;32m     <a href='vscode-notebook-cell:/Users/yaman/Documents/%E6%9B%B8%E9%A1%9E%20-%20%E5%B1%B1%E6%9C%AC%E8%88%AA%E5%B9%B3%E3%81%AEMacBook%20Air/GitHub/mySMV/moving_plus_image_speed_data_analysis.ipynb#X11sZmlsZQ%3D%3D?line=14'>15</a>\u001b[0m         task3 \u001b[39m=\u001b[39m np\u001b[39m.\u001b[39mdstack([task3, join])\n\u001b[0;32m---> <a href='vscode-notebook-cell:/Users/yaman/Documents/%E6%9B%B8%E9%A1%9E%20-%20%E5%B1%B1%E6%9C%AC%E8%88%AA%E5%B9%B3%E3%81%AEMacBook%20Air/GitHub/mySMV/moving_plus_image_speed_data_analysis.ipynb#X11sZmlsZQ%3D%3D?line=15'>16</a>\u001b[0m         real_trial_num\u001b[39m.\u001b[39mappend(o_data65_label1\u001b[39m.\u001b[39;49mlabel)\n\u001b[1;32m     <a href='vscode-notebook-cell:/Users/yaman/Documents/%E6%9B%B8%E9%A1%9E%20-%20%E5%B1%B1%E6%9C%AC%E8%88%AA%E5%B9%B3%E3%81%AEMacBook%20Air/GitHub/mySMV/moving_plus_image_speed_data_analysis.ipynb#X11sZmlsZQ%3D%3D?line=17'>18</a>\u001b[0m \u001b[39m#task1低速度\u001b[39;00m\n\u001b[1;32m     <a href='vscode-notebook-cell:/Users/yaman/Documents/%E6%9B%B8%E9%A1%9E%20-%20%E5%B1%B1%E6%9C%AC%E8%88%AA%E5%B9%B3%E3%81%AEMacBook%20Air/GitHub/mySMV/moving_plus_image_speed_data_analysis.ipynb#X11sZmlsZQ%3D%3D?line=18'>19</a>\u001b[0m task1_data \u001b[39m=\u001b[39m task1\u001b[39m.\u001b[39mtranspose(\u001b[39m2\u001b[39m,\u001b[39m0\u001b[39m,\u001b[39m1\u001b[39m)\n",
      "\u001b[0;31mAttributeError\u001b[0m: 'list' object has no attribute 'label'"
     ]
    }
   ],
   "source": [
    "#numpy配列の定義\n",
    "task1 = o_data65_label1[0].eeg[: , 0:10240]\n",
    "task2 = o_data65_label1[0].eeg[: , 0:10240]\n",
    "task3 = o_data65_label1[0].eeg[: , 0:10240]\n",
    "real_trial_num =list()\n",
    "for n in range(all_trial):\n",
    "    if label_data[n] == 1:\n",
    "        join = o_data65_label1[n].eeg[: , 0:10240]\n",
    "        task1 = np.dstack([task1, join])\n",
    "    if label_data[n] == 2:\n",
    "        join = o_data65_label1[n].eeg[: , 0:10240]\n",
    "        task2 = np.dstack([task2, join])\n",
    "    if label_data[n] == 3:\n",
    "        join = o_data65_label1[n].eeg[: , 0:10240]\n",
    "        task3 = np.dstack([task3, join])\n",
    "#task1低速度\n",
    "task1_data = task1.transpose(2,0,1)\n",
    "task1_data = task1_data.astype(np.double)\n",
    "task1_data = np.delete(task1_data,0,axis=0)\n",
    "print(np.shape(task1_data))\n",
    "#task2低速度\n",
    "task2_data = task2.transpose(2,0,1)\n",
    "task2_data = task2_data.astype(np.double)\n",
    "task2_data = np.delete(task2_data,0,axis=0)\n",
    "print(np.shape(task2_data))\n",
    "#task3想起なし\n",
    "task3_data = task3.transpose(2,0,1)\n",
    "task3_data = task3_data.astype(np.double)\n",
    "task3_data = np.delete(task3_data,0,axis=0)\n",
    "print(np.shape(task2_data))"
   ]
  },
  {
   "cell_type": "code",
   "execution_count": null,
   "metadata": {},
   "outputs": [],
   "source": [
    "# processed_task1 = task1_data[:,range(64),1024*8:1024*10]\n",
    "# processed_task2 = task2_data[:,range(64),1024*8:1024*10]\n",
    "# processed_task3 = task3_data[:,range(64),1024*8:1024*10]\n",
    "\n",
    "# csp_train1 = task1_data[:,range(64),1024*4:1024*8]\n",
    "# csp_train2 = task2_data[:,range(64),1024*4:1024*8]\n",
    "# csp_train3 = task3_data[:,range(64),1024*4:1024*8]\n",
    "\n",
    "processed_task1 = task1_data[:,range(64),1024*4:1024*10]\n",
    "processed_task2 = task2_data[:,range(64),1024*4:1024*10]\n",
    "processed_task3 = task3_data[:,range(64),1024*4:1024*10]\n",
    "\n",
    "csp_train1 = task1_data[:,range(64),1024*0:1024*4]\n",
    "csp_train2 = task2_data[:,range(64),1024*0:1024*4]\n",
    "csp_train3 = task3_data[:,range(64),1024*0:1024*4]"
   ]
  },
  {
   "cell_type": "code",
   "execution_count": null,
   "metadata": {},
   "outputs": [],
   "source": [
    "class_data = np.concatenate([processed_task1,processed_task2])\n",
    "csp_class_data = np.concatenate([csp_train1,csp_train2])\n",
    "class_label = np.zeros(120,dtype=int)\n",
    "class_label[60:] = 1"
   ]
  },
  {
   "cell_type": "code",
   "execution_count": null,
   "metadata": {},
   "outputs": [],
   "source": [
    "import random\n",
    "all_indices = list(range(120))\n",
    "random.shuffle(all_indices)\n",
    "csp_class_data2 = csp_class_data[all_indices]\n",
    "class_label2 = class_label[all_indices]"
   ]
  },
  {
   "cell_type": "code",
   "execution_count": null,
   "metadata": {},
   "outputs": [],
   "source": [
    "# class_data_reshape = np.reshape(class_data,(120,64*1024*2))\n",
    "# X_train, X_test, Y_train, Y_test = train_test_split(class_data_reshape,class_label, test_size=0.25,random_state=42)\n",
    "# model =SVC(kernel='linear')\n",
    "# model.fit(X_train,Y_train)\n",
    "# print(model.score(X_test, Y_test))"
   ]
  },
  {
   "cell_type": "code",
   "execution_count": null,
   "metadata": {},
   "outputs": [],
   "source": [
    "# Assemble a classifier\n",
    "lda = LinearDiscriminantAnalysis()\n",
    "#csp = CSP(n_components=2, log=None, reg=None)\n",
    "csp = CSP(n_components=4, reg=None, norm_trace=False, transform_into='average_power',cov_est='epoch')\n",
    "# Use scikit-learn Pipeline with cross_val_score function\n",
    "n_channels = 64\n",
    "sampling_freq = 1024  # in Hertz\n",
    "info = mne.create_info(ch_names=brainAdress, ch_types=\"eeg\", sfreq=sampling_freq)\n",
    "info.set_montage('biosemi64')"
   ]
  },
  {
   "cell_type": "code",
   "execution_count": null,
   "metadata": {},
   "outputs": [],
   "source": [
    "# Printing the results\n",
    "class_balance = np.mean(class_label == class_label[0])\n",
    "class_balance = max(class_balance, 1. - class_balance)\n",
    "#print(\"Classification accuracy: %f / Chance level: %f\" % (np.mean(scores),class_balance))\n",
    "\n",
    "# plot CSP patterns estimated on full data for visualization\n",
    "kenshou = csp.fit_transform(csp_class_data, class_label)\n",
    "csp.fit_transform(csp_class_data, class_label)\n",
    "csp.plot_patterns(info,ch_type='eeg', units='None', size=1.5)"
   ]
  },
  {
   "cell_type": "code",
   "execution_count": null,
   "metadata": {},
   "outputs": [],
   "source": [
    "print(np.shape(kenshou))"
   ]
  },
  {
   "cell_type": "code",
   "execution_count": null,
   "metadata": {},
   "outputs": [],
   "source": [
    "np.shape(class_data)"
   ]
  },
  {
   "cell_type": "code",
   "execution_count": null,
   "metadata": {},
   "outputs": [],
   "source": [
    "# class_datafit = np.reshape(class_data,(120,64*1024*6))\n",
    "# X_train_none, X_test_none, Y_train_none, Y_test_none = train_test_split(class_datafit,class_label, test_size=0.25,random_state=42)\n",
    "# model =SVC(kernel='linear')\n",
    "# model.fit(X_train_none,Y_train_none)\n",
    "# print(model.score(X_test_none, Y_test_none))"
   ]
  },
  {
   "cell_type": "code",
   "execution_count": null,
   "metadata": {},
   "outputs": [],
   "source": [
    "class_data_cspfit = csp.transform(class_data)\n",
    "# class_data_cspfit = np.reshape(class_data_cspfit,(84,4*6144))\n",
    "X_train2, X_test2, Y_train2, Y_test2 = train_test_split(class_data_cspfit,class_label, test_size=0.25,random_state=42)\n",
    "model =SVC(kernel='linear')\n",
    "model.fit(X_train2,Y_train2)\n",
    "print(model.score(X_test2, Y_test2))"
   ]
  },
  {
   "cell_type": "code",
   "execution_count": null,
   "metadata": {},
   "outputs": [],
   "source": [
    "params = {\n",
    "    \"C\":np.logspace(-1,10,12),\n",
    "    \"kernel\":[\"rbf\", \"sigmoid\"],\n",
    "    \"gamma\":np.logspace(-8,3,12)\n",
    "}\n",
    "grid = GridSearchCV(model, params,scoring=\"accuracy\", cv=5)\n",
    "\n",
    "grid.fit(X_train2, Y_train2)\n",
    "\n",
    "print(\"grid_best_score\",grid.best_score_)\n",
    "print(grid.best_params_)\n",
    "\n",
    "pred = grid.predict(X_test2)\n",
    "print(classification_report(Y_test2, pred))"
   ]
  },
  {
   "cell_type": "code",
   "execution_count": null,
   "metadata": {},
   "outputs": [],
   "source": [
    "from sklearn.decomposition import PCA\n",
    "\n",
    "#PCAを用意\n",
    "pca = PCA(n_components=2)\n",
    "#PCAで次元圧縮\n",
    "pca.fit(X_train2)\n",
    "#PCAの結果を元にデータを変換\n",
    "pca_X = pca.transform(X_train2)"
   ]
  },
  {
   "cell_type": "code",
   "execution_count": null,
   "metadata": {},
   "outputs": [],
   "source": [
    "#SVNデータの点を表示\n",
    "Z = grid.predict(X_train2)\n",
    "\n",
    "plt.scatter(pca_X[:,0], pca_X[:,1], c=Z)\n",
    "plt.xlabel(\"x1\")\n",
    "plt.ylabel(\"x2\")"
   ]
  },
  {
   "cell_type": "code",
   "execution_count": null,
   "metadata": {},
   "outputs": [],
   "source": [
    "plt.show()"
   ]
  }
 ],
 "metadata": {
  "kernelspec": {
   "display_name": "base",
   "language": "python",
   "name": "python3"
  },
  "language_info": {
   "codemirror_mode": {
    "name": "ipython",
    "version": 3
   },
   "file_extension": ".py",
   "mimetype": "text/x-python",
   "name": "python",
   "nbconvert_exporter": "python",
   "pygments_lexer": "ipython3",
   "version": "3.9.13"
  },
  "orig_nbformat": 4,
  "vscode": {
   "interpreter": {
    "hash": "68330a0c3a73c8a9ab17a58db04a4bc84979ee9d5927a73e0795658af7e94545"
   }
  }
 },
 "nbformat": 4,
 "nbformat_minor": 2
}
